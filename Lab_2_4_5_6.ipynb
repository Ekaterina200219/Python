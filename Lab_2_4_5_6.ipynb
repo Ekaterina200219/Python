{
 "cells": [
  {
   "cell_type": "code",
   "execution_count": 1,
   "id": "8d38ed7f",
   "metadata": {},
   "outputs": [],
   "source": [
    "import math as m\n",
    "import random as r\n",
    "import string"
   ]
  },
  {
   "cell_type": "markdown",
   "id": "10e0581a",
   "metadata": {},
   "source": [
    "# Task 85"
   ]
  },
  {
   "cell_type": "code",
   "execution_count": 2,
   "id": "d1110f23",
   "metadata": {},
   "outputs": [],
   "source": [
    "def Pifagor(cat_1, cat_2):\n",
    "    return m.sqrt(m.pow(cat_1, 2) + m.pow(cat_2, 2))"
   ]
  },
  {
   "cell_type": "code",
   "execution_count": 3,
   "id": "cd6c1d75",
   "metadata": {},
   "outputs": [
    {
     "name": "stdout",
     "output_type": "stream",
     "text": [
      "Insert length of 1 cat 2\n",
      "Insert length of 2 cat 5\n",
      "Gipotenuza  5.385164807134504\n"
     ]
    }
   ],
   "source": [
    "cat_1 = int(input(\"Insert length of 1 cat \"))\n",
    "cat_2 = int(input(\"Insert length of 2 cat \"))\n",
    "print(\"Gipotenuza \", Pifagor(cat_1, cat_2))"
   ]
  },
  {
   "cell_type": "markdown",
   "id": "4c28e953",
   "metadata": {},
   "source": [
    "# Task 87"
   ]
  },
  {
   "cell_type": "code",
   "execution_count": 4,
   "id": "5e29339f",
   "metadata": {},
   "outputs": [],
   "source": [
    "def calculate(number):\n",
    "    return 10.95 + (number - 1) * 2.95"
   ]
  },
  {
   "cell_type": "code",
   "execution_count": 5,
   "id": "fd1babd1",
   "metadata": {},
   "outputs": [
    {
     "name": "stdout",
     "output_type": "stream",
     "text": [
      "Insert number  5\n",
      "Summ =  22.75 $\n"
     ]
    }
   ],
   "source": [
    "number = int(input(\"Insert number  \"))\n",
    "print(\"Summ = \", calculate(number), \"$\")"
   ]
  },
  {
   "cell_type": "markdown",
   "id": "eae4195d",
   "metadata": {},
   "source": [
    "# Task 89"
   ]
  },
  {
   "cell_type": "code",
   "execution_count": 6,
   "id": "0b8d7675",
   "metadata": {},
   "outputs": [],
   "source": [
    "def Translit(number):\n",
    "        if number == 1:\n",
    "            print(\"First\")\n",
    "        elif number == 2:\n",
    "            print(\"Second\")\n",
    "        elif number == 3:\n",
    "            print(\"Third\")\n",
    "        elif number == 4:\n",
    "            print(\"Forth\")\n",
    "        elif number == 5:\n",
    "            print(\"Five\")\n",
    "        elif number == 6:\n",
    "            print(\"Six\")\n",
    "        elif number == 7:\n",
    "            print(\"Seven\")\n",
    "        elif number == 8:\n",
    "            print(\"Eight\")\n",
    "        elif number == 9:\n",
    "            print(\"Nine\")\n",
    "        elif number == 10:\n",
    "            print(\"Ten\")\n",
    "        elif number == 11:\n",
    "            print(\"Eleven\")\n",
    "        elif number == 12:\n",
    "            print(\"Twelve\")\n",
    "        else:\n",
    "            print(\" \")"
   ]
  },
  {
   "cell_type": "code",
   "execution_count": 7,
   "id": "e71c9923",
   "metadata": {},
   "outputs": [
    {
     "name": "stdout",
     "output_type": "stream",
     "text": [
      "Insert value 5\n",
      "Five\n"
     ]
    }
   ],
   "source": [
    "number = int(input(\"Insert value \"))\n",
    "Translit(number)"
   ]
  },
  {
   "cell_type": "markdown",
   "id": "30a613d4",
   "metadata": {},
   "source": [
    "# Task 91"
   ]
  },
  {
   "cell_type": "code",
   "execution_count": 8,
   "id": "606ffddf",
   "metadata": {},
   "outputs": [],
   "source": [
    "def ordinalDate(day, month, year):\n",
    "    m_days = 0\n",
    "    if(year % 4 == 0 and year % 100 != 0) or (year % 4 == 0 and year % 100 == 0 and year % 400 == 0):\n",
    "        for months in range(1, month):\n",
    "            if months < 8:\n",
    "                if months % 2 == 1:\n",
    "                    m_days += 31\n",
    "                elif months == 2:\n",
    "                    m_days += 29\n",
    "                else:\n",
    "                    m_days += 30\n",
    "            else:\n",
    "                if months % 2 == 1:\n",
    "                    m_days += 30\n",
    "                else:\n",
    "                    m_days += 31   \n",
    "    else:\n",
    "        for months in range(1, month):\n",
    "            if months < 8:\n",
    "                if months % 2 == 1:\n",
    "                    m_days += 31\n",
    "                elif months == 2:\n",
    "                    m_days += 28\n",
    "                else:\n",
    "                    m_days += 30\n",
    "            else:\n",
    "                if months % 2 == 1:\n",
    "                    m_days += 30\n",
    "                else:\n",
    "                    m_days += 31  \n",
    "                    \n",
    "    return m_days + day"
   ]
  },
  {
   "cell_type": "code",
   "execution_count": 9,
   "id": "84b62a2f",
   "metadata": {},
   "outputs": [
    {
     "name": "stdout",
     "output_type": "stream",
     "text": [
      "Insert day 12\n",
      "Insert month 3\n",
      "Insert year 2040\n",
      "gregorian -> days =  72\n"
     ]
    }
   ],
   "source": [
    "day, month, year = int(input(\"Insert day \")), int(input(\"Insert month \")), int(input(\"Insert year \"))\n",
    "print(\"gregorian -> days = \", ordinalDate(day, month, year))"
   ]
  },
  {
   "cell_type": "markdown",
   "id": "f09560d1",
   "metadata": {},
   "source": [
    "# Task 93"
   ]
  },
  {
   "cell_type": "code",
   "execution_count": 10,
   "id": "2e0cec3e",
   "metadata": {},
   "outputs": [],
   "source": [
    "def centre(s, w):\n",
    "   \n",
    "    if len(s) >= w:\n",
    "        return len(s)\n",
    "    else:\n",
    "        return (' ' * ( (w - len(s)) // 2))"
   ]
  },
  {
   "cell_type": "code",
   "execution_count": 11,
   "id": "b2d0c102",
   "metadata": {},
   "outputs": [
    {
     "name": "stdout",
     "output_type": "stream",
     "text": [
      "Insert text fghjfghjfg\n",
      "Insert window width 50\n",
      "                     fghjfghjfg\n"
     ]
    }
   ],
   "source": [
    "s = input(\"Insert text \")\n",
    "w = int(input(\"Insert window width \"))\n",
    "print(centre(s, w), s)"
   ]
  },
  {
   "cell_type": "markdown",
   "id": "34b7a1a4",
   "metadata": {},
   "source": [
    "# Task 95"
   ]
  },
  {
   "cell_type": "code",
   "execution_count": 12,
   "id": "b3d08b84",
   "metadata": {},
   "outputs": [],
   "source": [
    "def high_letters(s):\n",
    "    s = s.capitalize()\n",
    "    i = 0\n",
    "    p_s = \"\"\n",
    "    while i < len(s):\n",
    "        if s[i] == \".\" and i + 2 < len(s):\n",
    "            p_s  = p_s + \". \" + s[i + 2].upper()\n",
    "            i += 2\n",
    "            \n",
    "        elif s[i] == \"!\" and i + 2 < len(s):\n",
    "            p_s = p_s + \"! \" + s[i + 2].upper()\n",
    "            i += 2\n",
    "            \n",
    "        elif s[i] == \"?\" and i + 2 < len(s):\n",
    "            p_s = p_s + \"? \" + s[i + 2].upper()\n",
    "            i += 2\n",
    "            \n",
    "        elif (s[i] == \"i\" and s[i + 1] == \"’\") or (s[i] == \"i\" and s[i + 1] == \"`\"):\n",
    "            p_s += s[i].upper()\n",
    "            \n",
    "        else:\n",
    "            p_s += s[i]\n",
    "        i += 1\n",
    "    return p_s"
   ]
  },
  {
   "cell_type": "code",
   "execution_count": 13,
   "id": "bfef05ad",
   "metadata": {},
   "outputs": [
    {
     "name": "stdout",
     "output_type": "stream",
     "text": [
      "What time do. I have to be there? What’s the address? This time I’ll try to be on time!\n"
     ]
    }
   ],
   "source": [
    "s = \"what time do. i have to be there? what’s the address? this time i’ll try to be on time!\"  \n",
    "print(high_letters(s))"
   ]
  },
  {
   "cell_type": "markdown",
   "id": "de40a09d",
   "metadata": {},
   "source": [
    "# Task 97"
   ]
  },
  {
   "cell_type": "code",
   "execution_count": 14,
   "id": "ee59a9ec",
   "metadata": {},
   "outputs": [],
   "source": [
    "def precedence(s):\n",
    "    if s == \"+\" or s == \"-\":\n",
    "        print(\"1\")\n",
    "    elif s == \"*\" or s == \"/\":\n",
    "        print(\"2\")\n",
    "    elif s == \"^\":\n",
    "        print(\"3\")\n",
    "    else:\n",
    "        print(\"Mistake\")\n",
    "        return -1\n",
    "        "
   ]
  },
  {
   "cell_type": "code",
   "execution_count": 15,
   "id": "5381de51",
   "metadata": {},
   "outputs": [
    {
     "name": "stdout",
     "output_type": "stream",
     "text": [
      "Insert math sign 2\n",
      "Mistake\n"
     ]
    },
    {
     "data": {
      "text/plain": [
       "-1"
      ]
     },
     "execution_count": 15,
     "metadata": {},
     "output_type": "execute_result"
    }
   ],
   "source": [
    "s = input(\"Insert math sign \")\n",
    "precedence(s)"
   ]
  },
  {
   "cell_type": "markdown",
   "id": "4ff43a8d",
   "metadata": {},
   "source": [
    "# Task 99"
   ]
  },
  {
   "cell_type": "code",
   "execution_count": 51,
   "id": "a9138e0f",
   "metadata": {},
   "outputs": [],
   "source": [
    "def Simple(s):\n",
    "    for x in range(2, s // 2):\n",
    "        if s % x == 0:\n",
    "            return False\n",
    "        else:\n",
    "            return True\n",
    "        \n",
    "        \n",
    "def NextPrime(n):\n",
    "    if Simple(n) != True:\n",
    "        while Simple(n) != True:\n",
    "            n += 1\n",
    "            if Simple(n) == True:\n",
    "                return n\n",
    "    else:\n",
    "        return n"
   ]
  },
  {
   "cell_type": "code",
   "execution_count": 55,
   "id": "808f87be",
   "metadata": {},
   "outputs": [
    {
     "name": "stdout",
     "output_type": "stream",
     "text": [
      "Your input =  12  Next simple =  13\n"
     ]
    }
   ],
   "source": [
    "n = 12\n",
    "print(\"Your input = \", n, \" Next simple = \", NextPrime(n))"
   ]
  },
  {
   "cell_type": "markdown",
   "id": "174de3c0",
   "metadata": {},
   "source": [
    "# Task 101"
   ]
  },
  {
   "cell_type": "code",
   "execution_count": 155,
   "id": "275757a8",
   "metadata": {},
   "outputs": [],
   "source": [
    "def Random_digit(n):\n",
    "    x = 0\n",
    "    dig_list = []\n",
    "    for x in range(n):\n",
    "        digit = str(r.randint(0, 9))\n",
    "        dig_list.append(digit)\n",
    "    digits = ''.join(dig_list)\n",
    "    return digits\n",
    "\n",
    "def Random_letter(l):\n",
    "    x = 0\n",
    "    let_list = []\n",
    "    for x in range(l):\n",
    "        letter = r.choice(string.ascii_uppercase)\n",
    "        let_list.append(letter)\n",
    "    letters = ''.join(let_list)\n",
    "    return letters"
   ]
  },
  {
   "cell_type": "code",
   "execution_count": 158,
   "id": "c16789f4",
   "metadata": {},
   "outputs": [
    {
     "name": "stdout",
     "output_type": "stream",
     "text": [
      "1456 BTS\n"
     ]
    }
   ],
   "source": [
    "n = 4\n",
    "l = 3\n",
    "print(Random_digit(n), Random_letter(l))"
   ]
  },
  {
   "cell_type": "markdown",
   "id": "f5c87c4f",
   "metadata": {},
   "source": [
    "# Chapter 5"
   ]
  },
  {
   "cell_type": "markdown",
   "id": "005ce71c",
   "metadata": {},
   "source": [
    "# Task 111"
   ]
  },
  {
   "cell_type": "code",
   "execution_count": 34,
   "id": "ccd63f86",
   "metadata": {},
   "outputs": [],
   "source": [
    "def list_creator(n):\n",
    "    digit_list = [n]\n",
    "    while n != 0:\n",
    "        n = int(input())\n",
    "        digit_list.append(n)\n",
    "    digit_list.remove(0)\n",
    "    digit_list.sort(reverse=True)\n",
    "    return digit_list"
   ]
  },
  {
   "cell_type": "code",
   "execution_count": 36,
   "id": "ed5debf3",
   "metadata": {},
   "outputs": [
    {
     "name": "stdout",
     "output_type": "stream",
     "text": [
      "5\n",
      "6\n",
      "7\n",
      "0\n",
      "[7, 6, 5]\n"
     ]
    }
   ],
   "source": [
    "n = int(input())\n",
    "\n",
    "print(list_creator(n))"
   ]
  },
  {
   "cell_type": "markdown",
   "id": "205d91a6",
   "metadata": {},
   "source": [
    "# Task 113"
   ]
  },
  {
   "cell_type": "code",
   "execution_count": 26,
   "id": "6f563a2a",
   "metadata": {},
   "outputs": [],
   "source": [
    "def dub_cleaner(a):\n",
    "    let_list = [a]\n",
    "    while a != \"\":\n",
    "        a = str(input())\n",
    "        if a not in let_list:\n",
    "            let_list.append(a)\n",
    "        else:\n",
    "            b = a\n",
    "    let_list.remove(\"\")\n",
    "    return let_list"
   ]
  },
  {
   "cell_type": "code",
   "execution_count": 27,
   "id": "5455f10a",
   "metadata": {},
   "outputs": [
    {
     "name": "stdout",
     "output_type": "stream",
     "text": [
      "fir\n",
      "fir\n",
      "duo\n",
      "duo\n",
      "duo\n",
      "thir\n",
      "\n",
      "['fir', 'duo', 'thir']\n"
     ]
    }
   ],
   "source": [
    "a = input()\n",
    "print(dub_cleaner(a))"
   ]
  },
  {
   "cell_type": "markdown",
   "id": "2f877d24",
   "metadata": {},
   "source": [
    "# Task 115"
   ]
  },
  {
   "cell_type": "code",
   "execution_count": 33,
   "id": "55fb8bf9",
   "metadata": {},
   "outputs": [],
   "source": [
    "def self_divider(n):\n",
    "    div_list = []\n",
    "    for x in range(2, n // 2 + 1):\n",
    "        if n % x == 0:\n",
    "            div_list.append(x)\n",
    "    return div_list"
   ]
  },
  {
   "cell_type": "code",
   "execution_count": 35,
   "id": "2adb10fa",
   "metadata": {},
   "outputs": [
    {
     "name": "stdout",
     "output_type": "stream",
     "text": [
      "12\n",
      "[2, 3, 4, 6]\n"
     ]
    }
   ],
   "source": [
    "n = int(input())\n",
    "print(self_divider(n))"
   ]
  },
  {
   "cell_type": "markdown",
   "id": "7ce65769",
   "metadata": {},
   "source": [
    "# Task 117"
   ]
  },
  {
   "cell_type": "code",
   "execution_count": 15,
   "id": "8d041f43",
   "metadata": {},
   "outputs": [],
   "source": [
    "def list_divider(l):\n",
    "    sen_list = l.split('.')\n",
    "    l = ''.join(sen_list)\n",
    "    sen_list = l.split('!')\n",
    "    l = ''.join(sen_list)\n",
    "    sen_list = l.split('?')\n",
    "    l = ''.join(sen_list)\n",
    "    sen_list = l.split(':')\n",
    "    l = ''.join(sen_list)\n",
    "    sen_list = l.split(',')\n",
    "    l = ''.join(sen_list)\n",
    "    sen_list = l.split(';')\n",
    "    l = ''.join(sen_list)\n",
    "    sen_list = l.split('-')\n",
    "    l = ''.join(sen_list)\n",
    "    sen_list = l.split(' ')\n",
    "    return sen_list"
   ]
  },
  {
   "cell_type": "code",
   "execution_count": 16,
   "id": "224e4bd5",
   "metadata": {},
   "outputs": [
    {
     "name": "stdout",
     "output_type": "stream",
     "text": [
      "Contractions include: don’t, isn’t, and wouldn’t.\n",
      "['Contractions', 'include', 'don’t', 'isn’t', 'and', 'wouldn’t']\n"
     ]
    }
   ],
   "source": [
    "l = str(input())\n",
    "print(list_divider(l))"
   ]
  },
  {
   "cell_type": "markdown",
   "id": "bc4f0f1e",
   "metadata": {},
   "source": [
    "# Task 119"
   ]
  },
  {
   "cell_type": "code",
   "execution_count": 55,
   "id": "cc32062e",
   "metadata": {},
   "outputs": [],
   "source": [
    "def mid_num(n):\n",
    "    x = int()\n",
    "    counter = 1\n",
    "    summ = int()\n",
    "    les_list = []\n",
    "    mor_list = []\n",
    "    num_list = [n]\n",
    "    while n != '':\n",
    "        n = input()\n",
    "        counter += 1\n",
    "        num_list.append(n)\n",
    "    n = num_list[counter - 1] = 0\n",
    "    num_list.remove(0)\n",
    "    counter = counter - 1\n",
    "    int_num_list = [int(n) for n in num_list]\n",
    "    for x in range(counter):\n",
    "        summ += int_num_list[x]\n",
    "    mid = summ // counter\n",
    "    print(\"mid = \", mid)\n",
    "    filter_les = filter(lambda y: y < mid, int_num_list)\n",
    "    filter_mor = filter(lambda y: y > mid, int_num_list)\n",
    "    filter_mid = filter(lambda y: y == mid, int_num_list)\n",
    "    les_list = list(filter_les)\n",
    "    mor_list = list(filter_mor)\n",
    "    mid_list = list(filter_mid)\n",
    "    print(\"Input = \", int_num_list, \"Lesser numbers = \", les_list, \"Mid number = \", mid_list, \"Bigger numbers = \", mor_list)\n",
    "    "
   ]
  },
  {
   "cell_type": "code",
   "execution_count": 56,
   "id": "0e47b929",
   "metadata": {},
   "outputs": [
    {
     "name": "stdout",
     "output_type": "stream",
     "text": [
      "Insert some numbers 20\n",
      "30\n",
      "\n",
      "mid =  25\n",
      "Input =  [20, 30] Lesser numbers =  [20] Mid number =  [] Bigger numbers =  [30]\n"
     ]
    }
   ],
   "source": [
    "n = input(\"Insert some numbers \")\n",
    "mid_num(n)"
   ]
  },
  {
   "cell_type": "markdown",
   "id": "a6ca7276",
   "metadata": {},
   "source": [
    "# Task 121"
   ]
  },
  {
   "cell_type": "code",
   "execution_count": 72,
   "id": "0ae0e3fc",
   "metadata": {},
   "outputs": [],
   "source": [
    "def lucky_draw():\n",
    "    lucky_list = []\n",
    "    for x in range(6):\n",
    "        number = r.randint(1, 49)\n",
    "        if number not in lucky_list:\n",
    "            lucky_list.append(number)\n",
    "        else:\n",
    "            x -= 1\n",
    "    lucky_list.sort()\n",
    "    return lucky_list\n",
    "    "
   ]
  },
  {
   "cell_type": "code",
   "execution_count": 73,
   "id": "d1b112ac",
   "metadata": {},
   "outputs": [
    {
     "name": "stdout",
     "output_type": "stream",
     "text": [
      "[8, 11, 15, 20, 33]\n"
     ]
    }
   ],
   "source": [
    "print(lucky_draw())"
   ]
  },
  {
   "cell_type": "markdown",
   "id": "5435a8f4",
   "metadata": {},
   "source": [
    "# Task 125"
   ]
  },
  {
   "cell_type": "code",
   "execution_count": 101,
   "id": "c7c82d0d",
   "metadata": {},
   "outputs": [],
   "source": [
    "def createDeck():\n",
    "    x = 0\n",
    "    deck_list = []\n",
    "    deck_final =[]\n",
    "    deck = ['2','3','4','5','6','7','8','9','T','J','Q','K','A']\n",
    "    deck_s = [ x+'s' for x in deck]\n",
    "    deck_h = [x+'h' for x in deck]\n",
    "    deck_d = [x+'d' for x in deck]\n",
    "    deck_c = [x+'c' for x in deck]\n",
    "    deck_list = deck_s + deck_h + deck_d + deck_c\n",
    "    for x in range(0,52):\n",
    "        y = r.randint(0,len(deck_list)-1)\n",
    "        deck_final.append(deck_list[y])\n",
    "        deck_list.remove(deck_list[y])\n",
    "    print(deck_final)\n"
   ]
  },
  {
   "cell_type": "code",
   "execution_count": 105,
   "id": "dcd4184f",
   "metadata": {},
   "outputs": [
    {
     "name": "stdout",
     "output_type": "stream",
     "text": [
      "['Ah', 'Kd', '6c', '8d', 'Jh', '9s', 'Ad', '9h', 'Ks', 'As', 'Jc', 'Qs', 'Tc', 'Ac', '4c', '3s', '4h', '8s', '7c', 'Qh', '5h', '7s', 'Js', '7d', '3h', '2h', '9d', '5c', '3c', 'Th', '9c', '4s', '7h', '6d', 'Kc', '6s', '2s', '3d', 'Kh', '8c', '2d', 'Qc', '8h', '5d', '5s', 'Td', 'Qd', 'Jd', '2c', '4d', '6h', 'Ts']\n"
     ]
    }
   ],
   "source": [
    "createDeck()"
   ]
  },
  {
   "cell_type": "markdown",
   "id": "a834d973",
   "metadata": {},
   "source": [
    "# Task 127"
   ]
  },
  {
   "cell_type": "code",
   "execution_count": 60,
   "id": "f33f2a2e",
   "metadata": {},
   "outputs": [],
   "source": [
    "def sorter():\n",
    "    x = str(input())\n",
    "    y = z = 0\n",
    "    list_a = [x]\n",
    "    list_a1 = []\n",
    "    list_a2 = []\n",
    "    list_b = []\n",
    "    list_c = []\n",
    "    while x != '':\n",
    "        x = str(input())\n",
    "        list_a.append(x)\n",
    "        if x == \"\":\n",
    "            list_a.remove(\"\")\n",
    "    print(list_a)\n",
    "    list_a1.extend(list_a)\n",
    "    list_a2.extend(list_a)\n",
    "    list_a1.sort()\n",
    "    list_b.extend(list_a1)\n",
    "    list_a2.sort(reverse=True)\n",
    "    list_c.extend(list_a2)\n",
    "    print(list_b)\n",
    "    print(list_c)\n",
    "    for x in range(len(list_a)):\n",
    "        if list_b[x] == list_a[x]:\n",
    "            y += 1\n",
    "        if list_c[x] == list_a[x]:\n",
    "            z += 1\n",
    "    if y == len(list_a) or z == len(list_a):\n",
    "        print(\"True\")\n",
    "    else:\n",
    "        print(\"False\")       "
   ]
  },
  {
   "cell_type": "code",
   "execution_count": 61,
   "id": "d87f863c",
   "metadata": {},
   "outputs": [
    {
     "name": "stdout",
     "output_type": "stream",
     "text": [
      "6\n",
      "5\n",
      "0\n",
      "\n",
      "['6', '5', '0']\n",
      "['0', '5', '6']\n",
      "['6', '5', '0']\n",
      "6\n",
      "5\n",
      "0\n",
      "True\n"
     ]
    }
   ],
   "source": [
    "sorter()"
   ]
  },
  {
   "cell_type": "markdown",
   "id": "560444a4",
   "metadata": {},
   "source": [
    "# Task 133"
   ]
  },
  {
   "cell_type": "code",
   "execution_count": 78,
   "id": "7b973105",
   "metadata": {},
   "outputs": [],
   "source": [
    "def is_sublist(larger, smaller):\n",
    "    comp_list = []\n",
    "    x = 0\n",
    "    print(\"Larger list \",larger)\n",
    "    print(\"Smaller list \",smaller)\n",
    "    while smaller[0] != larger[x]:\n",
    "        x += 1\n",
    "    for i in range(len(smaller)):\n",
    "        comp_list.append(larger[x])\n",
    "        x += 1\n",
    "    if smaller == comp_list:\n",
    "        print(\"True\")\n",
    "    else:\n",
    "        print(\"False\")\n",
    "            \n",
    "    "
   ]
  },
  {
   "cell_type": "code",
   "execution_count": 80,
   "id": "8812e0f8",
   "metadata": {},
   "outputs": [
    {
     "name": "stdout",
     "output_type": "stream",
     "text": [
      "Insert Larger list to compare \n",
      "5\n",
      "6\n",
      "1\n",
      "2\n",
      "3\n",
      "0\n",
      "\n",
      "Insert smaller list to compare \n",
      "1\n",
      "\n",
      "Larger list  ['5', '6', '1', '2', '3', '0']\n",
      "Smaller list  ['1']\n",
      "True\n"
     ]
    }
   ],
   "source": [
    "def main():\n",
    "    larger = []\n",
    "    smaller = []\n",
    "    a = b = 0\n",
    "    print(\"Insert Larger list to compare \")\n",
    "    while a != '':\n",
    "            a = str(input())\n",
    "            larger.append(a)\n",
    "            if a == \"\":\n",
    "                larger.remove(\"\")\n",
    "\n",
    "    print(\"Insert smaller list to compare \")\n",
    "    while b != '':\n",
    "            b = str(input())\n",
    "            smaller.append(b)\n",
    "            if b == \"\":\n",
    "                smaller.remove(\"\")\n",
    "            \n",
    "    is_sublist(larger, smaller)\n",
    "    \n",
    "main()"
   ]
  },
  {
   "cell_type": "markdown",
   "id": "6f23a91a",
   "metadata": {},
   "source": [
    "# Chapter 6"
   ]
  },
  {
   "cell_type": "markdown",
   "id": "fe2837fa",
   "metadata": {},
   "source": [
    "# Task 137"
   ]
  },
  {
   "cell_type": "code",
   "execution_count": 56,
   "id": "984644c5",
   "metadata": {},
   "outputs": [],
   "source": [
    "def Dice_roll():\n",
    "    dice_1 = r.randint(1,6)\n",
    "    dice_2 = r.randint(1,6)\n",
    "    return dice_1 + dice_2\n"
   ]
  },
  {
   "cell_type": "code",
   "execution_count": 73,
   "id": "be127ddb",
   "metadata": {},
   "outputs": [
    {
     "name": "stdout",
     "output_type": "stream",
     "text": [
      "Sum avg chance calculated chance\n",
      " 2      3.60         2.78\n",
      " 3      5.40         5.56\n",
      " 4      7.60         8.33\n",
      " 5     12.50        11.11\n",
      " 6     14.60        13.89\n",
      " 7     16.90        16.67\n",
      " 8     13.90        13.89\n",
      " 9     11.30        11.11\n",
      "10      7.50         8.33\n",
      "11      4.40         5.56\n",
      "12      2.30         2.78\n"
     ]
    }
   ],
   "source": [
    "calc_perc = {2: 1/36, 3: 2/36, 4: 3/36, 5: 4/36, 6: 5/36, 7: 6/36, 8: 5/36, 9: 4/36, 10: 3/36, 11: 2/36, 12: 1/36}\n",
    "roll_perc = {2: 0, 3: 0, 4: 0, 5: 0, 6: 0, 7: 0, 8: 0, 9: 0, 10: 0, 11: 0, 12: 0}\n",
    "\n",
    "count = 1000\n",
    "for i in range(count):\n",
    "    rd = Dice_roll()\n",
    "    roll_perc[rd] = roll_perc[rd] + 1\n",
    "print(\"Sum\", \"avg chance\", \"calculated chance\")\n",
    "for i in sorted(roll_perc.keys()):\n",
    "    print(\"%2d %9.2f %12.2f\" % (i, roll_perc[i] / count * 100, calc_perc[i] * 100))"
   ]
  },
  {
   "cell_type": "markdown",
   "id": "78ed26d2",
   "metadata": {},
   "source": [
    "# Task 138"
   ]
  },
  {
   "cell_type": "code",
   "execution_count": 137,
   "id": "5fdac25b",
   "metadata": {},
   "outputs": [],
   "source": [
    "tel_dict = {\".\": '1', \",\": '11', \"?\": '111', \"!\": '1111', \":\": '11111', \"a\": '2', \"b\": '22', \"c\": '222', \"d\": '3', \"e\": '33', \"f\": '333', \"g\": '4', \"h\": '44',  \"i\": '444', \"j\": '5', \"k\": '55', \"l\": '555', \"m\": '6', \"n\": '66', \"o\": '666', \"p\": '7', \"q\": '77', \"r\": '777', \"s\": '7777', \"t\": '8', \"u\": '88', \"v\": '888', \"w\": '9', \"x\": '99', \"y\": '999', \"z\": '9999', \" \": '0'}\n",
    "def tel_translator():\n",
    "    sentence = str(input())\n",
    "    sentence = sentence.lower()\n",
    "    a = []\n",
    "    translation = \"\"\n",
    "    for i in range(len(sentence)):\n",
    "        a.append(tel_dict.get(sentence[i]))\n",
    "        translation = \"\".join(a)\n",
    "    print(translation)"
   ]
  },
  {
   "cell_type": "code",
   "execution_count": 142,
   "id": "55586c2f",
   "metadata": {},
   "outputs": [
    {
     "name": "stdout",
     "output_type": "stream",
     "text": [
      "Hello world!\n",
      "44335555556660966677755531111\n"
     ]
    }
   ],
   "source": [
    "tel_translator()"
   ]
  },
  {
   "cell_type": "markdown",
   "id": "e52dae65",
   "metadata": {},
   "source": [
    "# Task 139"
   ]
  },
  {
   "cell_type": "code",
   "execution_count": 152,
   "id": "fc4714a7",
   "metadata": {},
   "outputs": [],
   "source": [
    "dict_Morze = {\"a\":\".-\", \"b\":\"-...\", \"c\":\"-.-.\", \"d\":\"-..\", \"e\": '.', \"f\": '..-.', \"g\": '--.', \"h\": '....',  \"i\": '..', \"j\": '.---', \"k\": '-.-', \"l\": '.-..', \"m\": '--', \"n\": '-.', \"o\": '---', \"p\": '.--.', \"q\": '--.-', \"r\": '.-.', \"s\": '...', \"t\": '-', \"u\": '..-', \"v\": '...-', \"w\": '.--', \"x\": '-..-', \"y\": '-.--', \"z\": '--..', \"0\":'-----', \"1\":'.----', \"2\":'..---', \"3\":'...--', \"4\":'....-', \"5\":'.....', \"6\":'-....', \"7\":'--...', \"8\":'---..', \"9\":'----.'}\n",
    "def Morze():\n",
    "    sentence = str(input())\n",
    "    sentence = sentence.lower()\n",
    "    a = []\n",
    "    translation = \"\"\n",
    "    for i in range(len(sentence)):\n",
    "        if sentence[i] == \" \" or sentence[i] == \"!\" or sentence[i] == \"?\" or sentence[i] == \",\" or sentence[i] == \".\" or sentence[i] == \";\" or sentence[i] == \":\":\n",
    "            i += 1\n",
    "        else:\n",
    "            a.append(dict_Morze.get(sentence[i]))\n",
    "        translation = \"\".join(a)\n",
    "    print(translation)"
   ]
  },
  {
   "cell_type": "code",
   "execution_count": 155,
   "id": "7922f477",
   "metadata": {},
   "outputs": [
    {
     "name": "stdout",
     "output_type": "stream",
     "text": [
      "Hello world!\n",
      "......-...-..---.-----.-..-..-..\n"
     ]
    }
   ],
   "source": [
    "Morze()"
   ]
  },
  {
   "cell_type": "markdown",
   "id": "51a5982a",
   "metadata": {},
   "source": [
    "# Task 140"
   ]
  },
  {
   "cell_type": "code",
   "execution_count": 106,
   "id": "5402df75",
   "metadata": {},
   "outputs": [],
   "source": [
    "post_dict = {\"a\": 'Newfoundland', \"b\": 'New Scotland', \"c\": 'Isle of Prince Aduard', \"e\": 'New Brunswik', \"g\": 'Quebec', \"h\": 'Quebec',  \"j\": 'Quebec', \"k\": 'Ontario', \"l\": 'Ontario', \"m\": 'Ontario', \"n\": 'Ontario', \"p\": 'Ontario', \"r\": 'Manitoba', \"s\": 'Saskatchewan', \"t\": 'Alberta', \"v\": 'British Columbia', \"x\": 'Nunavut or Northwest Territory', \"y\": 'Yukon'}\n",
    "def post_stamp():\n",
    "    sentence = str(input())\n",
    "    sentence = sentence.lower()\n",
    "    a = []\n",
    "    translation = \"\"\n",
    "    if sentence[0] in post_dict.keys() and (sentence[1] == \"0\" or sentence[1] == \"1\" or sentence[1] == \"2\" or sentence[1] == \"3\" or sentence[1] == \"4\" or sentence[1] == \"5\" or sentence[1] == \"6\" or sentence[1] == \"7\" or sentence[1] == \"8\" or sentence[1] == \"9\"):\n",
    "        a.append(post_dict.get(sentence[0]))\n",
    "        if sentence[1] == \"0\" :\n",
    "            a.append(\" region, situated in countryside\")\n",
    "        elif sentence[1] == \"1\" or sentence[1] == \"2\" or sentence[1] == \"3\" or sentence[1] == \"4\" or sentence[1] == \"5\" or sentence[1] == \"6\" or sentence[1] == \"7\" or sentence[1] == \"8\" or sentence[1] == \"9\":\n",
    "            a.append(\" region, situated in city\")\n",
    "    else:\n",
    "        print(\"ERROR can not recognize stamp\")\n",
    "    translation = \"\".join(a)\n",
    "    print(translation)"
   ]
  },
  {
   "cell_type": "code",
   "execution_count": 107,
   "id": "ed944d78",
   "metadata": {},
   "outputs": [
    {
     "name": "stdout",
     "output_type": "stream",
     "text": [
      "x1dsf\n",
      "Nunavut or Northwest Territory region, situated in city\n"
     ]
    }
   ],
   "source": [
    "post_stamp()"
   ]
  },
  {
   "cell_type": "markdown",
   "id": "183d50de",
   "metadata": {},
   "source": [
    "# Task 141"
   ]
  },
  {
   "cell_type": "code",
   "execution_count": 196,
   "id": "a296a4fb",
   "metadata": {},
   "outputs": [],
   "source": [
    "dict_hund = {1: \"one hundred \", 2: \"two hundred \", 3: \"three hundred \", 4: \"four hundred \", 5: \"five hundred \", 6: \"six hundred \", 7: \"seven hundred \", 8: \"eight hundred \", 9: \"nine hundred \"}\n",
    "dict_ten = {10: \"ten\", 11: \"eleven\", 12: \"twelve\", 13: \"thirteen\", 14: \"fourteen\", 15: \"fifteen\", 16: \"sixteen\", 17: \"seventeen\", 18: \"eighteen\", 19: \"nineteen\", 2: \"twenty \", 3: \"thirty \", 4: \"fourty \", 5: \"fifty \", 6: \"sixty \", 7: \"seventy \", 8: \"eighty \", 9: \"ninety \"}\n",
    "dict_one = {0: \"zero\", 1: \"one\", 2: \"two\", 3: \"three\", 4: \"four\", 5: \"five\", 6: \"six\", 7: \"seven\", 8: \"eight\", 9: \"nine\"}\n",
    "\n",
    "def literate():\n",
    "    sentence = int(input())\n",
    "    sentence_ten = sentence % 100\n",
    "    a = []\n",
    "    translation = \"\"\n",
    "    if sentence >= 0 and sentence <= 999:\n",
    "        if sentence >= 100:\n",
    "            a.append(dict_hund.get(sentence // 100))\n",
    "            if sentence_ten // 10 == 1:\n",
    "                a.append(dict_ten.get(sentence % 100))\n",
    "            else:\n",
    "                a.append(dict_ten.get(sentence_ten // 10))\n",
    "                a.append(dict_one.get(sentence % 10))\n",
    "        elif sentence >=10 and sentence <= 99:\n",
    "            a.append(dict_ten.get(sentence % 100))\n",
    "            a.append(dict_one.get(sentence % 10))\n",
    "        else:\n",
    "            a.append(dict_one.get(sentence))\n",
    "    else:\n",
    "        print(\"ERROR\")  \n",
    "    print(a)"
   ]
  },
  {
   "cell_type": "code",
   "execution_count": 197,
   "id": "c3a4a60a",
   "metadata": {},
   "outputs": [
    {
     "name": "stdout",
     "output_type": "stream",
     "text": [
      "268\n",
      "['two hundred ', 'sixty ', 'eight']\n"
     ]
    }
   ],
   "source": [
    "literate()"
   ]
  },
  {
   "cell_type": "code",
   "execution_count": null,
   "id": "88548bbf",
   "metadata": {},
   "outputs": [],
   "source": []
  }
 ],
 "metadata": {
  "kernelspec": {
   "display_name": "Python 3",
   "language": "python",
   "name": "python3"
  },
  "language_info": {
   "codemirror_mode": {
    "name": "ipython",
    "version": 3
   },
   "file_extension": ".py",
   "mimetype": "text/x-python",
   "name": "python",
   "nbconvert_exporter": "python",
   "pygments_lexer": "ipython3",
   "version": "3.8.8"
  }
 },
 "nbformat": 4,
 "nbformat_minor": 5
}
