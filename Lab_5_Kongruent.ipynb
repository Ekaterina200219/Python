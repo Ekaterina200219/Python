{
 "cells": [
  {
   "cell_type": "code",
   "execution_count": 2,
   "metadata": {},
   "outputs": [],
   "source": [
    "import numpy as np\n",
    "import math as m\n",
    "import matplotlib\n",
    "import matplotlib.pyplot as plt\n",
    "import seaborn as sns"
   ]
  },
  {
   "cell_type": "markdown",
   "metadata": {},
   "source": [
    "Линейная конгруэнтная последовательность, определенная числами **m**, **a**, **c** и **X_0** периодична с периодом, не превышающим **m**. При этом длина периода равна **m** тогда и только тогда, когда:  \n",
    "1) Числа **c** и **m** взаимно простые  \n",
    "2) **b=a-1** кратно **p** для каждого простого **p**, являющегося делителем **m**  \n",
    "3) **b** кратно **4**, если **m** кратно **4**"
   ]
  },
  {
   "cell_type": "code",
   "execution_count": 3,
   "metadata": {},
   "outputs": [
    {
     "name": "stdout",
     "output_type": "stream",
     "text": [
      "[ 9.64824121 10.55276382 10.25125628 10.55276382  9.94974874 10.55276382\n",
      " 16.88442211 11.15577889 10.25125628]\n"
     ]
    },
    {
     "data": {
      "image/png": "[encoded data removed]",
      "text/plain": [
       "<Figure size 432x288 with 1 Axes>"
      ]
     },
     "metadata": {},
     "output_type": "display_data"
    },
    {
     "data": {
      "image/png": "[encoded data removed]",
      "text/plain": [
       "<Figure size 432x288 with 1 Axes>"
      ]
     },
     "metadata": {},
     "output_type": "display_data"
    }
   ],
   "source": [
    "#Начальные условия:\n",
    "\n",
    "while True:\n",
    "    bol = 0\n",
    "    A = 5 #int(input(\"Enter value A: \"))\n",
    "    B = 3 #int(input(\"Enter value B: \"))\n",
    "    M = 997 #int(input(\"Enter value M: \"))\n",
    "    x0 = 0 #int(input(\"Enter value x0: \"))\n",
    "    \n",
    "    \n",
    "##Проверка условий:\n",
    "#1)Взаимно-простые М и В:\n",
    "    minValue = min(M, B)\n",
    "    for i in range(2, minValue+1):\n",
    "        if (M%i == 0 and B%i == 0):\n",
    "            print(\"Entered values do not match the conditions (1)\")\n",
    "            break\n",
    "    else:\n",
    "        bol += 1\n",
    "        \n",
    "#2)A-1 делится на все простые делители числа M:\n",
    "    for i in range(2, M):\n",
    "        if (M%i == 0 and (A-1)%i != 0):\n",
    "            print(\"Entered values do not match the conditions (2)\")\n",
    "            break\n",
    "    else:\n",
    "        bol += 1\n",
    "    \n",
    "#Если M%4 == 0, то и A-1 тоже должен быть кратен трём:\n",
    "    if (M%4 == 0 and A%4 != 0):\n",
    "        print(\"Entered values do not match the conditions (3)\")\n",
    "    else:\n",
    "        bol += 1\n",
    "        \n",
    "    if bol == 3:\n",
    "        break\n",
    "      \n",
    "    \n",
    "    \n",
    "    \n",
    "x = x0\n",
    "list_X = np.array([])\n",
    "list_Y = np.array([])\n",
    "list_Z = np.array([])\n",
    "list_Benford_X = np.array([1, 2, 3, 4, 5, 6, 7, 8, 9])\n",
    "list_Benford_Y = np.array([30.1, 17.6, 12.5, 9.7, 7.9, 6.7, 5.8, 5.1, 4.6])\n",
    "\n",
    "#Получение значений псевдослучайных чисел и добавление первых цифр каждого псевдослучайного числа в масссив:\n",
    "for i in range(M-2):\n",
    "    X = (x*A + B)%M\n",
    "    while X > 9:\n",
    "        X //= 10\n",
    "    list_Z = np.append(list_Z, (x*A + B)%M)\n",
    "    list_X = np.append(list_X, X)\n",
    "    x = (x*A + B)%M\n",
    "    \n",
    "# print(listZ[:100])\n",
    "# print(listX[:100])\n",
    "list_X = np.sort(list_X)\n",
    "    \n",
    "#Рассчёт вероятности появления определённой первой значащей цифры из наших псевдослучайных чисел:    \n",
    "for i in range(len(list_Benford_X)):\n",
    "    list_Y = np.append(list_Y, 0)\n",
    "    for j in range(len(list_X)):\n",
    "        if (list_Benford_X[i] == list_X[j]):\n",
    "            list_Y[i] += 1\n",
    "    list_Y[i] = list_Y[i] / len(list_X) * 100  # вычисляем вероятность   \n",
    "            \n",
    "\n",
    "print(list_Y) \n",
    "\n",
    "sns.set_style('whitegrid')\n",
    "axes = sns.barplot(x = list_Benford_X, y = list_Benford_Y, palette = 'dark')\n",
    "fig, axs = plt.subplots(1, 1)\n",
    "axes = sns.barplot(x = list_Benford_X, y = list_Y, palette = 'dark')"
   ]
  }
 ],
 "metadata": {
  "kernelspec": {
   "display_name": "Python 3",
   "language": "python",
   "name": "python3"
  },
  "language_info": {
   "codemirror_mode": {
    "name": "ipython",
    "version": 3
   },
   "file_extension": ".py",
   "mimetype": "text/x-python",
   "name": "python",
   "nbconvert_exporter": "python",
   "pygments_lexer": "ipython3",
   "version": "3.8.8"
  }
 },
 "nbformat": 4,
 "nbformat_minor": 4
}
