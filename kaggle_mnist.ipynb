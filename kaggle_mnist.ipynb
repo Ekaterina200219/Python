{
  "nbformat": 4,
  "nbformat_minor": 0,
  "metadata": {
    "colab": {
      "provenance": [],
      "gpuType": "T4"
    },
    "kernelspec": {
      "name": "python3",
      "display_name": "Python 3"
    },
    "accelerator": "GPU"
  },
  "cells": [
    {
      "cell_type": "markdown",
      "metadata": {
        "id": "Ah7dy1kFL2H9"
      },
      "source": [
        "# Соревнования по распознаванию рукописных цифр на Kaggle\n",
        "Источник:\n",
        "Соревнования на Kaggle по распознаванию рукописных цифр | Нейросети в Google Colab\n",
        "\n",
        "https://www.youtube.com/watch?v=zO0RAtZRkpc&feature=youtu.be\n",
        "\n",
        "Пример кода для отправки решения на соревнование Kaggle - https://www.kaggle.com/c/digit-recognizer\n",
        "\n",
        "Учебный курс \"[Программирование глубоких нейронных сетей на Python](https://www.asozykin.ru/courses/nnpython)\".\n",
        "\n",
        "Чтобы запускать и редактировать код, сохраните копию этого ноутбука себе (File->Save a copy in Drive...). Свою копию вы сможете изменять и запускать."
      ]
    },
    {
      "cell_type": "code",
      "metadata": {
        "id": "qrfd6FzSLrE2"
      },
      "source": [
        "from tensorflow.keras.models import Sequential\n",
        "from tensorflow.keras.layers import Dense, Conv2D, MaxPooling2D, Dropout, Flatten, BatchNormalization\n",
        "from tensorflow.keras import utils\n",
        "from tensorflow.keras.preprocessing import image\n",
        "from tensorflow.keras.preprocessing.image import ImageDataGenerator\n",
        "from tensorflow.keras.callbacks import ReduceLROnPlateau, ModelCheckpoint\n",
        "import tensorflow as tf\n",
        "from sklearn.model_selection import train_test_split\n",
        "from google.colab import files\n",
        "import numpy as np\n",
        "import matplotlib.pyplot as plt\n",
        "%matplotlib inline"
      ],
      "execution_count": 1,
      "outputs": []
    },
    {
      "cell_type": "markdown",
      "metadata": {
        "id": "nLUhgNWtsv8l"
      },
      "source": [
        "## Настраиваем Kaggle API"
      ]
    },
    {
      "cell_type": "markdown",
      "metadata": {
        "id": "iCoP2ocGtYr9"
      },
      "source": [
        "Загружаем токен аутентификации"
      ]
    },
    {
      "cell_type": "code",
      "metadata": {
        "id": "rzU1bjUis3ma",
        "outputId": "98be1307-9c30-4642-d6fa-c282eba3b553",
        "colab": {
          "base_uri": "https://localhost:8080/",
          "height": 73
        }
      },
      "source": [
        "file = files.upload()"
      ],
      "execution_count": 2,
      "outputs": [
        {
          "output_type": "display_data",
          "data": {
            "text/plain": [
              "<IPython.core.display.HTML object>"
            ],
            "text/html": [
              "\n",
              "     <input type=\"file\" id=\"files-2916431e-691f-4c4c-98cf-d755d94b6c7e\" name=\"files[]\" multiple disabled\n",
              "        style=\"border:none\" />\n",
              "     <output id=\"result-2916431e-691f-4c4c-98cf-d755d94b6c7e\">\n",
              "      Upload widget is only available when the cell has been executed in the\n",
              "      current browser session. Please rerun this cell to enable.\n",
              "      </output>\n",
              "      <script>// Copyright 2017 Google LLC\n",
              "//\n",
              "// Licensed under the Apache License, Version 2.0 (the \"License\");\n",
              "// you may not use this file except in compliance with the License.\n",
              "// You may obtain a copy of the License at\n",
              "//\n",
              "//      http://www.apache.org/licenses/LICENSE-2.0\n",
              "//\n",
              "// Unless required by applicable law or agreed to in writing, software\n",
              "// distributed under the License is distributed on an \"AS IS\" BASIS,\n",
              "// WITHOUT WARRANTIES OR CONDITIONS OF ANY KIND, either express or implied.\n",
              "// See the License for the specific language governing permissions and\n",
              "// limitations under the License.\n",
              "\n",
              "/**\n",
              " * @fileoverview Helpers for google.colab Python module.\n",
              " */\n",
              "(function(scope) {\n",
              "function span(text, styleAttributes = {}) {\n",
              "  const element = document.createElement('span');\n",
              "  element.textContent = text;\n",
              "  for (const key of Object.keys(styleAttributes)) {\n",
              "    element.style[key] = styleAttributes[key];\n",
              "  }\n",
              "  return element;\n",
              "}\n",
              "\n",
              "// Max number of bytes which will be uploaded at a time.\n",
              "const MAX_PAYLOAD_SIZE = 100 * 1024;\n",
              "\n",
              "function _uploadFiles(inputId, outputId) {\n",
              "  const steps = uploadFilesStep(inputId, outputId);\n",
              "  const outputElement = document.getElementById(outputId);\n",
              "  // Cache steps on the outputElement to make it available for the next call\n",
              "  // to uploadFilesContinue from Python.\n",
              "  outputElement.steps = steps;\n",
              "\n",
              "  return _uploadFilesContinue(outputId);\n",
              "}\n",
              "\n",
              "// This is roughly an async generator (not supported in the browser yet),\n",
              "// where there are multiple asynchronous steps and the Python side is going\n",
              "// to poll for completion of each step.\n",
              "// This uses a Promise to block the python side on completion of each step,\n",
              "// then passes the result of the previous step as the input to the next step.\n",
              "function _uploadFilesContinue(outputId) {\n",
              "  const outputElement = document.getElementById(outputId);\n",
              "  const steps = outputElement.steps;\n",
              "\n",
              "  const next = steps.next(outputElement.lastPromiseValue);\n",
              "  return Promise.resolve(next.value.promise).then((value) => {\n",
              "    // Cache the last promise value to make it available to the next\n",
              "    // step of the generator.\n",
              "    outputElement.lastPromiseValue = value;\n",
              "    return next.value.response;\n",
              "  });\n",
              "}\n",
              "\n",
              "/**\n",
              " * Generator function which is called between each async step of the upload\n",
              " * process.\n",
              " * @param {string} inputId Element ID of the input file picker element.\n",
              " * @param {string} outputId Element ID of the output display.\n",
              " * @return {!Iterable<!Object>} Iterable of next steps.\n",
              " */\n",
              "function* uploadFilesStep(inputId, outputId) {\n",
              "  const inputElement = document.getElementById(inputId);\n",
              "  inputElement.disabled = false;\n",
              "\n",
              "  const outputElement = document.getElementById(outputId);\n",
              "  outputElement.innerHTML = '';\n",
              "\n",
              "  const pickedPromise = new Promise((resolve) => {\n",
              "    inputElement.addEventListener('change', (e) => {\n",
              "      resolve(e.target.files);\n",
              "    });\n",
              "  });\n",
              "\n",
              "  const cancel = document.createElement('button');\n",
              "  inputElement.parentElement.appendChild(cancel);\n",
              "  cancel.textContent = 'Cancel upload';\n",
              "  const cancelPromise = new Promise((resolve) => {\n",
              "    cancel.onclick = () => {\n",
              "      resolve(null);\n",
              "    };\n",
              "  });\n",
              "\n",
              "  // Wait for the user to pick the files.\n",
              "  const files = yield {\n",
              "    promise: Promise.race([pickedPromise, cancelPromise]),\n",
              "    response: {\n",
              "      action: 'starting',\n",
              "    }\n",
              "  };\n",
              "\n",
              "  cancel.remove();\n",
              "\n",
              "  // Disable the input element since further picks are not allowed.\n",
              "  inputElement.disabled = true;\n",
              "\n",
              "  if (!files) {\n",
              "    return {\n",
              "      response: {\n",
              "        action: 'complete',\n",
              "      }\n",
              "    };\n",
              "  }\n",
              "\n",
              "  for (const file of files) {\n",
              "    const li = document.createElement('li');\n",
              "    li.append(span(file.name, {fontWeight: 'bold'}));\n",
              "    li.append(span(\n",
              "        `(${file.type || 'n/a'}) - ${file.size} bytes, ` +\n",
              "        `last modified: ${\n",
              "            file.lastModifiedDate ? file.lastModifiedDate.toLocaleDateString() :\n",
              "                                    'n/a'} - `));\n",
              "    const percent = span('0% done');\n",
              "    li.appendChild(percent);\n",
              "\n",
              "    outputElement.appendChild(li);\n",
              "\n",
              "    const fileDataPromise = new Promise((resolve) => {\n",
              "      const reader = new FileReader();\n",
              "      reader.onload = (e) => {\n",
              "        resolve(e.target.result);\n",
              "      };\n",
              "      reader.readAsArrayBuffer(file);\n",
              "    });\n",
              "    // Wait for the data to be ready.\n",
              "    let fileData = yield {\n",
              "      promise: fileDataPromise,\n",
              "      response: {\n",
              "        action: 'continue',\n",
              "      }\n",
              "    };\n",
              "\n",
              "    // Use a chunked sending to avoid message size limits. See b/62115660.\n",
              "    let position = 0;\n",
              "    do {\n",
              "      const length = Math.min(fileData.byteLength - position, MAX_PAYLOAD_SIZE);\n",
              "      const chunk = new Uint8Array(fileData, position, length);\n",
              "      position += length;\n",
              "\n",
              "      const base64 = btoa(String.fromCharCode.apply(null, chunk));\n",
              "      yield {\n",
              "        response: {\n",
              "          action: 'append',\n",
              "          file: file.name,\n",
              "          data: base64,\n",
              "        },\n",
              "      };\n",
              "\n",
              "      let percentDone = fileData.byteLength === 0 ?\n",
              "          100 :\n",
              "          Math.round((position / fileData.byteLength) * 100);\n",
              "      percent.textContent = `${percentDone}% done`;\n",
              "\n",
              "    } while (position < fileData.byteLength);\n",
              "  }\n",
              "\n",
              "  // All done.\n",
              "  yield {\n",
              "    response: {\n",
              "      action: 'complete',\n",
              "    }\n",
              "  };\n",
              "}\n",
              "\n",
              "scope.google = scope.google || {};\n",
              "scope.google.colab = scope.google.colab || {};\n",
              "scope.google.colab._files = {\n",
              "  _uploadFiles,\n",
              "  _uploadFilesContinue,\n",
              "};\n",
              "})(self);\n",
              "</script> "
            ]
          },
          "metadata": {}
        },
        {
          "output_type": "stream",
          "name": "stdout",
          "text": [
            "Saving kaggle.json to kaggle.json\n"
          ]
        }
      ]
    },
    {
      "cell_type": "code",
      "metadata": {
        "id": "292OceAu7GyX",
        "outputId": "77437c95-de87-4778-c39a-0f413e3e36c1",
        "colab": {
          "base_uri": "https://localhost:8080/"
        }
      },
      "source": [
        "!ls"
      ],
      "execution_count": 3,
      "outputs": [
        {
          "output_type": "stream",
          "name": "stdout",
          "text": [
            "kaggle.json  sample_data\n"
          ]
        }
      ]
    },
    {
      "cell_type": "markdown",
      "metadata": {
        "id": "OQlIZDwptlS6"
      },
      "source": [
        "Копируем токен в каталог .kaggle"
      ]
    },
    {
      "cell_type": "code",
      "metadata": {
        "id": "NoZlnpjytrj5"
      },
      "source": [
        "!mkdir ~/.kaggle\n",
        "!mv kaggle.json ~/.kaggle"
      ],
      "execution_count": 4,
      "outputs": []
    },
    {
      "cell_type": "code",
      "metadata": {
        "id": "bgHmgITFf8oB"
      },
      "source": [
        "!chmod 600 /root/.kaggle/kaggle.json"
      ],
      "execution_count": 5,
      "outputs": []
    },
    {
      "cell_type": "markdown",
      "metadata": {
        "id": "0xB767r3uDGa"
      },
      "source": [
        "## Загружаем данные с сайта Kaggle"
      ]
    },
    {
      "cell_type": "code",
      "metadata": {
        "id": "-jtLp-DhuJzh",
        "outputId": "7ccdef30-2db5-4b83-e63d-ae677346b1ab",
        "colab": {
          "base_uri": "https://localhost:8080/"
        }
      },
      "source": [
        "!kaggle competitions download -c digit-recognizer"
      ],
      "execution_count": 6,
      "outputs": [
        {
          "output_type": "stream",
          "name": "stdout",
          "text": [
            "Downloading digit-recognizer.zip to /content\n",
            " 59% 9.00M/15.3M [00:00<00:00, 58.3MB/s]\n",
            "100% 15.3M/15.3M [00:00<00:00, 90.2MB/s]\n"
          ]
        }
      ]
    },
    {
      "cell_type": "code",
      "metadata": {
        "id": "c7RGdlX9vKpB",
        "outputId": "f5db0c80-dc04-42b8-d928-ceef3d8c6627",
        "colab": {
          "base_uri": "https://localhost:8080/"
        }
      },
      "source": [
        "!ls"
      ],
      "execution_count": 7,
      "outputs": [
        {
          "output_type": "stream",
          "name": "stdout",
          "text": [
            "digit-recognizer.zip  sample_data\n"
          ]
        }
      ]
    },
    {
      "cell_type": "code",
      "metadata": {
        "id": "f1d2fF_hrxN_",
        "outputId": "52426a00-c660-4727-d918-1d7743dac45f",
        "colab": {
          "base_uri": "https://localhost:8080/"
        }
      },
      "source": [
        "!unzip digit-recognizer.zip"
      ],
      "execution_count": 8,
      "outputs": [
        {
          "output_type": "stream",
          "name": "stdout",
          "text": [
            "Archive:  digit-recognizer.zip\n",
            "  inflating: sample_submission.csv   \n",
            "  inflating: test.csv                \n",
            "  inflating: train.csv               \n"
          ]
        }
      ]
    },
    {
      "cell_type": "code",
      "source": [
        "!ls"
      ],
      "metadata": {
        "colab": {
          "base_uri": "https://localhost:8080/"
        },
        "id": "x7iVab08ae17",
        "outputId": "19c39510-e1e1-44e9-b56b-11ae9decad3a"
      },
      "execution_count": 9,
      "outputs": [
        {
          "output_type": "stream",
          "name": "stdout",
          "text": [
            "digit-recognizer.zip  sample_data  sample_submission.csv  test.csv  train.csv\n"
          ]
        }
      ]
    },
    {
      "cell_type": "markdown",
      "metadata": {
        "id": "x9Un4nJT8sJQ"
      },
      "source": [
        "##Смотрим на формат данных"
      ]
    },
    {
      "cell_type": "markdown",
      "metadata": {
        "id": "hjaMds9J8wkf"
      },
      "source": [
        "Данные для обучения"
      ]
    },
    {
      "cell_type": "code",
      "metadata": {
        "id": "6xUxhfg58v5w",
        "outputId": "613e0511-d6ec-46c8-8956-cd4620866c44",
        "colab": {
          "base_uri": "https://localhost:8080/"
        }
      },
      "source": [
        "!head train.csv"
      ],
      "execution_count": 10,
      "outputs": [
        {
          "output_type": "stream",
          "name": "stdout",
          "text": [
            "label,pixel0,pixel1,pixel2,pixel3,pixel4,pixel5,pixel6,pixel7,pixel8,pixel9,pixel10,pixel11,pixel12,pixel13,pixel14,pixel15,pixel16,pixel17,pixel18,pixel19,pixel20,pixel21,pixel22,pixel23,pixel24,pixel25,pixel26,pixel27,pixel28,pixel29,pixel30,pixel31,pixel32,pixel33,pixel34,pixel35,pixel36,pixel37,pixel38,pixel39,pixel40,pixel41,pixel42,pixel43,pixel44,pixel45,pixel46,pixel47,pixel48,pixel49,pixel50,pixel51,pixel52,pixel53,pixel54,pixel55,pixel56,pixel57,pixel58,pixel59,pixel60,pixel61,pixel62,pixel63,pixel64,pixel65,pixel66,pixel67,pixel68,pixel69,pixel70,pixel71,pixel72,pixel73,pixel74,pixel75,pixel76,pixel77,pixel78,pixel79,pixel80,pixel81,pixel82,pixel83,pixel84,pixel85,pixel86,pixel87,pixel88,pixel89,pixel90,pixel91,pixel92,pixel93,pixel94,pixel95,pixel96,pixel97,pixel98,pixel99,pixel100,pixel101,pixel102,pixel103,pixel104,pixel105,pixel106,pixel107,pixel108,pixel109,pixel110,pixel111,pixel112,pixel113,pixel114,pixel115,pixel116,pixel117,pixel118,pixel119,pixel120,pixel121,pixel122,pixel123,pixel124,pixel125,pixel126,pixel127,pixel128,pixel129,pixel130,pixel131,pixel132,pixel133,pixel134,pixel135,pixel136,pixel137,pixel138,pixel139,pixel140,pixel141,pixel142,pixel143,pixel144,pixel145,pixel146,pixel147,pixel148,pixel149,pixel150,pixel151,pixel152,pixel153,pixel154,pixel155,pixel156,pixel157,pixel158,pixel159,pixel160,pixel161,pixel162,pixel163,pixel164,pixel165,pixel166,pixel167,pixel168,pixel169,pixel170,pixel171,pixel172,pixel173,pixel174,pixel175,pixel176,pixel177,pixel178,pixel179,pixel180,pixel181,pixel182,pixel183,pixel184,pixel185,pixel186,pixel187,pixel188,pixel189,pixel190,pixel191,pixel192,pixel193,pixel194,pixel195,pixel196,pixel197,pixel198,pixel199,pixel200,pixel201,pixel202,pixel203,pixel204,pixel205,pixel206,pixel207,pixel208,pixel209,pixel210,pixel211,pixel212,pixel213,pixel214,pixel215,pixel216,pixel217,pixel218,pixel219,pixel220,pixel221,pixel222,pixel223,pixel224,pixel225,pixel226,pixel227,pixel228,pixel229,pixel230,pixel231,pixel232,pixel233,pixel234,pixel235,pixel236,pixel237,pixel238,pixel239,pixel240,pixel241,pixel242,pixel243,pixel244,pixel245,pixel246,pixel247,pixel248,pixel249,pixel250,pixel251,pixel252,pixel253,pixel254,pixel255,pixel256,pixel257,pixel258,pixel259,pixel260,pixel261,pixel262,pixel263,pixel264,pixel265,pixel266,pixel267,pixel268,pixel269,pixel270,pixel271,pixel272,pixel273,pixel274,pixel275,pixel276,pixel277,pixel278,pixel279,pixel280,pixel281,pixel282,pixel283,pixel284,pixel285,pixel286,pixel287,pixel288,pixel289,pixel290,pixel291,pixel292,pixel293,pixel294,pixel295,pixel296,pixel297,pixel298,pixel299,pixel300,pixel301,pixel302,pixel303,pixel304,pixel305,pixel306,pixel307,pixel308,pixel309,pixel310,pixel311,pixel312,pixel313,pixel314,pixel315,pixel316,pixel317,pixel318,pixel319,pixel320,pixel321,pixel322,pixel323,pixel324,pixel325,pixel326,pixel327,pixel328,pixel329,pixel330,pixel331,pixel332,pixel333,pixel334,pixel335,pixel336,pixel337,pixel338,pixel339,pixel340,pixel341,pixel342,pixel343,pixel344,pixel345,pixel346,pixel347,pixel348,pixel349,pixel350,pixel351,pixel352,pixel353,pixel354,pixel355,pixel356,pixel357,pixel358,pixel359,pixel360,pixel361,pixel362,pixel363,pixel364,pixel365,pixel366,pixel367,pixel368,pixel369,pixel370,pixel371,pixel372,pixel373,pixel374,pixel375,pixel376,pixel377,pixel378,pixel379,pixel380,pixel381,pixel382,pixel383,pixel384,pixel385,pixel386,pixel387,pixel388,pixel389,pixel390,pixel391,pixel392,pixel393,pixel394,pixel395,pixel396,pixel397,pixel398,pixel399,pixel400,pixel401,pixel402,pixel403,pixel404,pixel405,pixel406,pixel407,pixel408,pixel409,pixel410,pixel411,pixel412,pixel413,pixel414,pixel415,pixel416,pixel417,pixel418,pixel419,pixel420,pixel421,pixel422,pixel423,pixel424,pixel425,pixel426,pixel427,pixel428,pixel429,pixel430,pixel431,pixel432,pixel433,pixel434,pixel435,pixel436,pixel437,pixel438,pixel439,pixel440,pixel441,pixel442,pixel443,pixel444,pixel445,pixel446,pixel447,pixel448,pixel449,pixel450,pixel451,pixel452,pixel453,pixel454,pixel455,pixel456,pixel457,pixel458,pixel459,pixel460,pixel461,pixel462,pixel463,pixel464,pixel465,pixel466,pixel467,pixel468,pixel469,pixel470,pixel471,pixel472,pixel473,pixel474,pixel475,pixel476,pixel477,pixel478,pixel479,pixel480,pixel481,pixel482,pixel483,pixel484,pixel485,pixel486,pixel487,pixel488,pixel489,pixel490,pixel491,pixel492,pixel493,pixel494,pixel495,pixel496,pixel497,pixel498,pixel499,pixel500,pixel501,pixel502,pixel503,pixel504,pixel505,pixel506,pixel507,pixel508,pixel509,pixel510,pixel511,pixel512,pixel513,pixel514,pixel515,pixel516,pixel517,pixel518,pixel519,pixel520,pixel521,pixel522,pixel523,pixel524,pixel525,pixel526,pixel527,pixel528,pixel529,pixel530,pixel531,pixel532,pixel533,pixel534,pixel535,pixel536,pixel537,pixel538,pixel539,pixel540,pixel541,pixel542,pixel543,pixel544,pixel545,pixel546,pixel547,pixel548,pixel549,pixel550,pixel551,pixel552,pixel553,pixel554,pixel555,pixel556,pixel557,pixel558,pixel559,pixel560,pixel561,pixel562,pixel563,pixel564,pixel565,pixel566,pixel567,pixel568,pixel569,pixel570,pixel571,pixel572,pixel573,pixel574,pixel575,pixel576,pixel577,pixel578,pixel579,pixel580,pixel581,pixel582,pixel583,pixel584,pixel585,pixel586,pixel587,pixel588,pixel589,pixel590,pixel591,pixel592,pixel593,pixel594,pixel595,pixel596,pixel597,pixel598,pixel599,pixel600,pixel601,pixel602,pixel603,pixel604,pixel605,pixel606,pixel607,pixel608,pixel609,pixel610,pixel611,pixel612,pixel613,pixel614,pixel615,pixel616,pixel617,pixel618,pixel619,pixel620,pixel621,pixel622,pixel623,pixel624,pixel625,pixel626,pixel627,pixel628,pixel629,pixel630,pixel631,pixel632,pixel633,pixel634,pixel635,pixel636,pixel637,pixel638,pixel639,pixel640,pixel641,pixel642,pixel643,pixel644,pixel645,pixel646,pixel647,pixel648,pixel649,pixel650,pixel651,pixel652,pixel653,pixel654,pixel655,pixel656,pixel657,pixel658,pixel659,pixel660,pixel661,pixel662,pixel663,pixel664,pixel665,pixel666,pixel667,pixel668,pixel669,pixel670,pixel671,pixel672,pixel673,pixel674,pixel675,pixel676,pixel677,pixel678,pixel679,pixel680,pixel681,pixel682,pixel683,pixel684,pixel685,pixel686,pixel687,pixel688,pixel689,pixel690,pixel691,pixel692,pixel693,pixel694,pixel695,pixel696,pixel697,pixel698,pixel699,pixel700,pixel701,pixel702,pixel703,pixel704,pixel705,pixel706,pixel707,pixel708,pixel709,pixel710,pixel711,pixel712,pixel713,pixel714,pixel715,pixel716,pixel717,pixel718,pixel719,pixel720,pixel721,pixel722,pixel723,pixel724,pixel725,pixel726,pixel727,pixel728,pixel729,pixel730,pixel731,pixel732,pixel733,pixel734,pixel735,pixel736,pixel737,pixel738,pixel739,pixel740,pixel741,pixel742,pixel743,pixel744,pixel745,pixel746,pixel747,pixel748,pixel749,pixel750,pixel751,pixel752,pixel753,pixel754,pixel755,pixel756,pixel757,pixel758,pixel759,pixel760,pixel761,pixel762,pixel763,pixel764,pixel765,pixel766,pixel767,pixel768,pixel769,pixel770,pixel771,pixel772,pixel773,pixel774,pixel775,pixel776,pixel777,pixel778,pixel779,pixel780,pixel781,pixel782,pixel783\r\n",
            "1,0,0,0,0,0,0,0,0,0,0,0,0,0,0,0,0,0,0,0,0,0,0,0,0,0,0,0,0,0,0,0,0,0,0,0,0,0,0,0,0,0,0,0,0,0,0,0,0,0,0,0,0,0,0,0,0,0,0,0,0,0,0,0,0,0,0,0,0,0,0,0,0,0,0,0,0,0,0,0,0,0,0,0,0,0,0,0,0,0,0,0,0,0,0,0,0,0,0,0,0,0,0,0,0,0,0,0,0,0,0,0,0,0,0,0,0,0,0,0,0,0,0,0,0,0,0,0,0,0,0,0,0,188,255,94,0,0,0,0,0,0,0,0,0,0,0,0,0,0,0,0,0,0,0,0,0,0,0,0,191,250,253,93,0,0,0,0,0,0,0,0,0,0,0,0,0,0,0,0,0,0,0,0,0,0,0,123,248,253,167,10,0,0,0,0,0,0,0,0,0,0,0,0,0,0,0,0,0,0,0,0,0,0,80,247,253,208,13,0,0,0,0,0,0,0,0,0,0,0,0,0,0,0,0,0,0,0,0,0,0,29,207,253,235,77,0,0,0,0,0,0,0,0,0,0,0,0,0,0,0,0,0,0,0,0,0,0,54,209,253,253,88,0,0,0,0,0,0,0,0,0,0,0,0,0,0,0,0,0,0,0,0,0,0,93,254,253,238,170,17,0,0,0,0,0,0,0,0,0,0,0,0,0,0,0,0,0,0,0,0,0,23,210,254,253,159,0,0,0,0,0,0,0,0,0,0,0,0,0,0,0,0,0,0,0,0,0,0,16,209,253,254,240,81,0,0,0,0,0,0,0,0,0,0,0,0,0,0,0,0,0,0,0,0,0,0,27,253,253,254,13,0,0,0,0,0,0,0,0,0,0,0,0,0,0,0,0,0,0,0,0,0,0,20,206,254,254,198,7,0,0,0,0,0,0,0,0,0,0,0,0,0,0,0,0,0,0,0,0,0,0,168,253,253,196,7,0,0,0,0,0,0,0,0,0,0,0,0,0,0,0,0,0,0,0,0,0,0,20,203,253,248,76,0,0,0,0,0,0,0,0,0,0,0,0,0,0,0,0,0,0,0,0,0,0,22,188,253,245,93,0,0,0,0,0,0,0,0,0,0,0,0,0,0,0,0,0,0,0,0,0,0,0,103,253,253,191,0,0,0,0,0,0,0,0,0,0,0,0,0,0,0,0,0,0,0,0,0,0,0,89,240,253,195,25,0,0,0,0,0,0,0,0,0,0,0,0,0,0,0,0,0,0,0,0,0,0,15,220,253,253,80,0,0,0,0,0,0,0,0,0,0,0,0,0,0,0,0,0,0,0,0,0,0,0,94,253,253,253,94,0,0,0,0,0,0,0,0,0,0,0,0,0,0,0,0,0,0,0,0,0,0,0,89,251,253,250,131,0,0,0,0,0,0,0,0,0,0,0,0,0,0,0,0,0,0,0,0,0,0,0,0,214,218,95,0,0,0,0,0,0,0,0,0,0,0,0,0,0,0,0,0,0,0,0,0,0,0,0,0,0,0,0,0,0,0,0,0,0,0,0,0,0,0,0,0,0,0,0,0,0,0,0,0,0,0,0,0,0,0,0,0,0,0,0,0,0,0,0,0,0,0,0,0,0,0,0,0,0,0,0,0,0,0,0,0,0,0,0,0,0,0,0,0,0,0,0,0,0,0,0,0,0,0,0,0,0,0,0,0,0,0,0,0,0,0,0,0,0,0,0,0,0,0,0,0,0,0,0,0,0,0,0,0\r\n",
            "0,0,0,0,0,0,0,0,0,0,0,0,0,0,0,0,0,0,0,0,0,0,0,0,0,0,0,0,0,0,0,0,0,0,0,0,0,0,0,0,0,0,0,0,0,0,0,0,0,0,0,0,0,0,0,0,0,0,0,0,0,0,0,0,0,0,0,0,0,0,0,0,0,0,0,0,0,0,0,0,0,0,0,0,0,0,0,0,0,0,0,0,0,0,0,0,0,0,0,0,0,0,0,0,0,0,0,0,0,0,0,0,0,0,0,0,0,0,0,0,0,0,0,18,30,137,137,192,86,72,1,0,0,0,0,0,0,0,0,0,0,0,0,0,0,0,0,0,0,13,86,250,254,254,254,254,217,246,151,32,0,0,0,0,0,0,0,0,0,0,0,0,0,0,0,0,16,179,254,254,254,254,254,254,254,254,254,231,54,15,0,0,0,0,0,0,0,0,0,0,0,0,0,0,72,254,254,254,254,254,254,254,254,254,254,254,254,104,0,0,0,0,0,0,0,0,0,0,0,0,0,61,191,254,254,254,254,254,109,83,199,254,254,254,254,243,85,0,0,0,0,0,0,0,0,0,0,0,0,172,254,254,254,202,147,147,45,0,11,29,200,254,254,254,171,0,0,0,0,0,0,0,0,0,0,0,1,174,254,254,89,67,0,0,0,0,0,0,128,252,254,254,212,76,0,0,0,0,0,0,0,0,0,0,47,254,254,254,29,0,0,0,0,0,0,0,0,83,254,254,254,153,0,0,0,0,0,0,0,0,0,0,80,254,254,240,24,0,0,0,0,0,0,0,0,25,240,254,254,153,0,0,0,0,0,0,0,0,0,0,64,254,254,186,7,0,0,0,0,0,0,0,0,0,166,254,254,224,12,0,0,0,0,0,0,0,0,14,232,254,254,254,29,0,0,0,0,0,0,0,0,0,75,254,254,254,17,0,0,0,0,0,0,0,0,18,254,254,254,254,29,0,0,0,0,0,0,0,0,0,48,254,254,254,17,0,0,0,0,0,0,0,0,2,163,254,254,254,29,0,0,0,0,0,0,0,0,0,48,254,254,254,17,0,0,0,0,0,0,0,0,0,94,254,254,254,200,12,0,0,0,0,0,0,0,16,209,254,254,150,1,0,0,0,0,0,0,0,0,0,15,206,254,254,254,202,66,0,0,0,0,0,21,161,254,254,245,31,0,0,0,0,0,0,0,0,0,0,0,60,212,254,254,254,194,48,48,34,41,48,209,254,254,254,171,0,0,0,0,0,0,0,0,0,0,0,0,0,86,243,254,254,254,254,254,233,243,254,254,254,254,254,86,0,0,0,0,0,0,0,0,0,0,0,0,0,0,114,254,254,254,254,254,254,254,254,254,254,239,86,11,0,0,0,0,0,0,0,0,0,0,0,0,0,0,13,182,254,254,254,254,254,254,254,254,243,70,0,0,0,0,0,0,0,0,0,0,0,0,0,0,0,0,0,8,76,146,254,255,254,255,146,19,15,0,0,0,0,0,0,0,0,0,0,0,0,0,0,0,0,0,0,0,0,0,0,0,0,0,0,0,0,0,0,0,0,0,0,0,0,0,0,0,0,0,0,0,0,0,0,0,0,0,0,0,0,0,0,0,0,0,0,0,0,0,0,0,0,0,0,0,0,0,0,0,0,0,0,0,0,0,0,0,0,0,0,0,0,0,0,0,0,0,0,0,0,0,0,0,0,0,0,0,0,0,0,0,0,0,0,0,0,0,0,0,0,0,0,0,0,0,0,0,0,0\r\n",
            "1,0,0,0,0,0,0,0,0,0,0,0,0,0,0,0,0,0,0,0,0,0,0,0,0,0,0,0,0,0,0,0,0,0,0,0,0,0,0,0,0,0,0,0,0,0,0,0,0,0,0,0,0,0,0,0,0,0,0,0,0,0,0,0,0,0,0,0,0,0,0,0,0,0,0,0,0,0,0,0,0,0,0,0,0,0,0,0,0,0,0,0,0,0,0,0,0,0,0,0,0,0,0,0,0,0,0,0,0,0,0,0,0,0,0,0,0,0,0,0,0,0,0,0,0,3,141,139,3,0,0,0,0,0,0,0,0,0,0,0,0,0,0,0,0,0,0,0,0,0,0,0,0,9,254,254,8,0,0,0,0,0,0,0,0,0,0,0,0,0,0,0,0,0,0,0,0,0,0,0,0,9,254,254,8,0,0,0,0,0,0,0,0,0,0,0,0,0,0,0,0,0,0,0,0,0,0,0,0,9,254,254,106,0,0,0,0,0,0,0,0,0,0,0,0,0,0,0,0,0,0,0,0,0,0,0,0,9,254,254,184,0,0,0,0,0,0,0,0,0,0,0,0,0,0,0,0,0,0,0,0,0,0,0,0,9,254,254,184,0,0,0,0,0,0,0,0,0,0,0,0,0,0,0,0,0,0,0,0,0,0,0,0,9,254,254,184,0,0,0,0,0,0,0,0,0,0,0,0,0,0,0,0,0,0,0,0,0,0,0,0,6,185,254,184,0,0,0,0,0,0,0,0,0,0,0,0,0,0,0,0,0,0,0,0,0,0,0,0,0,89,254,184,0,0,0,0,0,0,0,0,0,0,0,0,0,0,0,0,0,0,0,0,0,0,0,0,4,146,254,184,0,0,0,0,0,0,0,0,0,0,0,0,0,0,0,0,0,0,0,0,0,0,0,0,9,254,254,184,0,0,0,0,0,0,0,0,0,0,0,0,0,0,0,0,0,0,0,0,0,0,0,0,9,254,254,184,0,0,0,0,0,0,0,0,0,0,0,0,0,0,0,0,0,0,0,0,0,0,0,0,9,254,254,184,0,0,0,0,0,0,0,0,0,0,0,0,0,0,0,0,0,0,0,0,0,0,0,0,9,254,254,184,0,0,0,0,0,0,0,0,0,0,0,0,0,0,0,0,0,0,0,0,0,0,0,0,9,254,254,184,0,0,0,0,0,0,0,0,0,0,0,0,0,0,0,0,0,0,0,0,0,0,0,0,156,254,254,184,0,0,0,0,0,0,0,0,0,0,0,0,0,0,0,0,0,0,0,0,0,0,0,0,185,255,255,184,0,0,0,0,0,0,0,0,0,0,0,0,0,0,0,0,0,0,0,0,0,0,0,0,185,254,254,184,0,0,0,0,0,0,0,0,0,0,0,0,0,0,0,0,0,0,0,0,0,0,0,0,185,254,254,184,0,0,0,0,0,0,0,0,0,0,0,0,0,0,0,0,0,0,0,0,0,0,0,0,63,254,254,62,0,0,0,0,0,0,0,0,0,0,0,0,0,0,0,0,0,0,0,0,0,0,0,0,0,0,0,0,0,0,0,0,0,0,0,0,0,0,0,0,0,0,0,0,0,0,0,0,0,0,0,0,0,0,0,0,0,0,0,0,0,0,0,0,0,0,0,0,0,0,0,0,0,0,0,0,0,0,0,0,0,0,0,0,0,0,0,0,0,0,0,0,0,0,0,0,0,0,0,0,0,0,0,0,0,0,0,0,0,0,0,0,0,0,0,0,0,0,0,0,0,0,0,0\r\n",
            "4,0,0,0,0,0,0,0,0,0,0,0,0,0,0,0,0,0,0,0,0,0,0,0,0,0,0,0,0,0,0,0,0,0,0,0,0,0,0,0,0,0,0,0,0,0,0,0,0,0,0,0,0,0,0,0,0,0,0,0,0,0,0,0,0,0,0,0,0,0,0,0,0,0,0,0,0,0,0,0,0,0,0,0,0,0,0,0,0,0,0,0,0,0,0,0,0,0,0,0,0,0,0,0,0,0,0,0,0,0,0,0,0,0,0,0,0,0,0,0,0,0,0,0,0,0,0,0,0,0,0,0,0,0,0,0,0,0,0,0,0,0,0,0,0,0,0,220,179,6,0,0,0,0,0,0,0,0,9,77,0,0,0,0,0,0,0,0,0,0,0,0,0,0,0,28,247,17,0,0,0,0,0,0,0,0,27,202,0,0,0,0,0,0,0,0,0,0,0,0,0,0,0,0,242,155,0,0,0,0,0,0,0,0,27,254,63,0,0,0,0,0,0,0,0,0,0,0,0,0,0,0,160,207,6,0,0,0,0,0,0,0,27,254,65,0,0,0,0,0,0,0,0,0,0,0,0,0,0,0,127,254,21,0,0,0,0,0,0,0,20,239,65,0,0,0,0,0,0,0,0,0,0,0,0,0,0,0,77,254,21,0,0,0,0,0,0,0,0,195,65,0,0,0,0,0,0,0,0,0,0,0,0,0,0,0,70,254,21,0,0,0,0,0,0,0,0,195,142,0,0,0,0,0,0,0,0,0,0,0,0,0,0,0,56,251,21,0,0,0,0,0,0,0,0,195,227,0,0,0,0,0,0,0,0,0,0,0,0,0,0,0,0,222,153,5,0,0,0,0,0,0,0,120,240,13,0,0,0,0,0,0,0,0,0,0,0,0,0,0,0,67,251,40,0,0,0,0,0,0,0,94,255,69,0,0,0,0,0,0,0,0,0,0,0,0,0,0,0,0,234,184,0,0,0,0,0,0,0,19,245,69,0,0,0,0,0,0,0,0,0,0,0,0,0,0,0,0,234,169,0,0,0,0,0,0,0,3,199,182,10,0,0,0,0,0,0,0,0,0,0,0,0,0,0,0,154,205,4,0,0,26,72,128,203,208,254,254,131,0,0,0,0,0,0,0,0,0,0,0,0,0,0,0,61,254,129,113,186,245,251,189,75,56,136,254,73,0,0,0,0,0,0,0,0,0,0,0,0,0,0,0,15,216,233,233,159,104,52,0,0,0,38,254,73,0,0,0,0,0,0,0,0,0,0,0,0,0,0,0,0,0,0,0,0,0,0,0,0,0,18,254,73,0,0,0,0,0,0,0,0,0,0,0,0,0,0,0,0,0,0,0,0,0,0,0,0,0,18,254,73,0,0,0,0,0,0,0,0,0,0,0,0,0,0,0,0,0,0,0,0,0,0,0,0,0,5,206,106,0,0,0,0,0,0,0,0,0,0,0,0,0,0,0,0,0,0,0,0,0,0,0,0,0,0,186,159,0,0,0,0,0,0,0,0,0,0,0,0,0,0,0,0,0,0,0,0,0,0,0,0,0,6,209,101,0,0,0,0,0,0,0,0,0,0,0,0,0,0,0,0,0,0,0,0,0,0,0,0,0,0,0,0,0,0,0,0,0,0,0,0,0,0,0,0,0,0,0,0,0,0,0,0,0,0,0,0,0,0,0,0,0,0,0,0,0,0,0,0,0,0,0,0,0,0,0,0,0,0,0,0,0,0,0,0,0,0,0,0,0,0,0,0,0,0\r\n",
            "0,0,0,0,0,0,0,0,0,0,0,0,0,0,0,0,0,0,0,0,0,0,0,0,0,0,0,0,0,0,0,0,0,0,0,0,0,0,0,0,0,0,0,0,0,0,0,0,0,0,0,0,0,0,0,0,0,0,0,0,0,0,0,0,0,0,0,0,0,0,0,0,0,0,0,0,0,0,0,0,0,0,0,0,0,0,0,0,0,0,0,0,0,0,0,0,0,0,0,0,0,0,0,0,0,0,0,0,0,0,0,0,0,0,0,0,0,0,0,0,0,0,1,25,130,155,254,254,254,157,30,2,0,0,0,0,0,0,0,0,0,0,0,0,0,0,0,0,0,8,103,253,253,253,253,253,253,253,253,114,2,0,0,0,0,0,0,0,0,0,0,0,0,0,0,0,11,208,253,253,253,253,253,253,253,253,253,253,107,0,0,0,0,0,0,0,0,0,0,0,0,0,0,0,31,253,253,253,253,253,253,253,253,253,253,253,215,101,3,0,0,0,0,0,0,0,0,0,0,0,0,23,210,253,253,253,248,161,222,222,246,253,253,253,253,253,39,0,0,0,0,0,0,0,0,0,0,0,0,136,253,253,253,229,77,0,0,0,70,218,253,253,253,253,215,91,0,0,0,0,0,0,0,0,0,0,5,214,253,253,253,195,0,0,0,0,0,104,224,253,253,253,253,215,29,0,0,0,0,0,0,0,0,0,116,253,253,253,247,75,0,0,0,0,0,0,26,200,253,253,253,253,216,4,0,0,0,0,0,0,0,0,254,253,253,253,195,0,0,0,0,0,0,0,0,26,200,253,253,253,253,5,0,0,0,0,0,0,0,0,254,253,253,253,99,0,0,0,0,0,0,0,0,0,25,231,253,253,253,36,0,0,0,0,0,0,0,0,254,253,253,253,99,0,0,0,0,0,0,0,0,0,0,223,253,253,253,129,0,0,0,0,0,0,0,0,254,253,253,253,99,0,0,0,0,0,0,0,0,0,0,127,253,253,253,129,0,0,0,0,0,0,0,0,254,253,253,253,99,0,0,0,0,0,0,0,0,0,0,139,253,253,253,90,0,0,0,0,0,0,0,0,254,253,253,253,99,0,0,0,0,0,0,0,0,0,78,248,253,253,253,5,0,0,0,0,0,0,0,0,254,253,253,253,216,34,0,0,0,0,0,0,0,33,152,253,253,253,107,1,0,0,0,0,0,0,0,0,206,253,253,253,253,140,0,0,0,0,0,30,139,234,253,253,253,154,2,0,0,0,0,0,0,0,0,0,16,205,253,253,253,250,208,106,106,106,200,237,253,253,253,253,209,22,0,0,0,0,0,0,0,0,0,0,0,82,253,253,253,253,253,253,253,253,253,253,253,253,253,209,22,0,0,0,0,0,0,0,0,0,0,0,0,1,91,253,253,253,253,253,253,253,253,253,253,213,90,7,0,0,0,0,0,0,0,0,0,0,0,0,0,0,1,18,129,208,253,253,253,253,159,129,90,4,0,0,0,0,0,0,0,0,0,0,0,0,0,0,0,0,0,0,0,0,0,0,0,0,0,0,0,0,0,0,0,0,0,0,0,0,0,0,0,0,0,0,0,0,0,0,0,0,0,0,0,0,0,0,0,0,0,0,0,0,0,0,0,0,0,0,0,0,0,0,0,0,0,0,0,0,0,0,0,0,0,0,0,0,0,0,0,0,0,0,0,0,0,0,0,0,0,0,0,0,0,0,0,0,0,0,0,0,0,0,0,0,0,0,0,0,0,0,0,0,0\r\n",
            "0,0,0,0,0,0,0,0,0,0,0,0,0,0,0,0,0,0,0,0,0,0,0,0,0,0,0,0,0,0,0,0,0,0,0,0,0,0,0,0,0,0,0,0,0,0,0,0,0,0,0,0,0,0,0,0,0,0,0,0,0,0,0,0,0,0,0,0,0,0,0,0,0,0,0,0,0,0,0,0,0,0,0,0,0,0,0,0,0,0,0,0,0,0,0,0,0,0,0,0,0,0,0,0,0,0,0,0,0,0,0,0,0,0,0,0,0,0,0,0,0,0,0,0,0,3,141,202,254,193,44,0,0,0,0,0,0,0,0,0,0,0,0,0,0,0,0,0,0,0,0,0,5,165,254,179,163,249,244,72,0,0,0,0,0,0,0,0,0,0,0,0,0,0,0,0,0,0,0,0,135,254,150,0,0,189,254,243,31,0,0,0,0,0,0,0,0,0,0,0,0,0,0,0,0,0,0,82,248,209,5,0,0,164,236,254,115,0,0,0,0,0,0,0,0,0,0,0,0,0,0,0,0,0,8,211,254,58,0,0,0,0,33,230,212,6,0,0,0,0,0,0,0,0,0,0,0,0,0,0,0,0,119,254,156,3,0,0,0,0,18,230,254,33,0,0,0,0,0,0,0,0,0,0,0,0,0,0,0,10,212,254,35,0,0,0,0,0,33,254,254,33,0,0,0,0,0,0,0,0,0,0,0,0,0,0,0,116,254,154,3,0,0,0,0,0,33,254,254,33,0,0,0,0,0,0,0,0,0,0,0,0,0,0,0,124,254,115,0,0,0,0,0,0,160,254,239,23,0,0,0,0,0,0,0,0,0,0,0,0,0,0,0,203,254,35,0,0,0,0,0,0,197,254,178,0,0,0,0,0,0,0,0,0,0,0,0,0,0,0,23,239,221,11,0,0,0,0,0,0,198,255,123,0,0,0,0,0,0,0,0,0,0,0,0,0,0,0,23,238,178,0,0,0,0,0,0,10,219,254,96,0,0,0,0,0,0,0,0,0,0,0,0,0,0,0,30,249,204,0,0,0,0,0,0,25,235,254,62,0,0,0,0,0,0,0,0,0,0,0,0,0,0,0,26,243,204,0,0,0,0,0,0,91,254,248,36,0,0,0,0,0,0,0,0,0,0,0,0,0,0,0,33,254,204,0,0,0,0,0,67,241,254,133,0,0,0,0,0,0,0,0,0,0,0,0,0,0,0,0,33,254,214,7,0,0,0,50,242,254,194,24,0,0,0,0,0,0,0,0,0,0,0,0,0,0,0,0,5,193,254,78,0,0,19,128,254,195,36,0,0,0,0,0,0,0,0,0,0,0,0,0,0,0,0,0,0,103,254,222,74,143,235,254,228,83,0,0,0,0,0,0,0,0,0,0,0,0,0,0,0,0,0,0,0,30,242,254,254,254,254,252,84,0,0,0,0,0,0,0,0,0,0,0,0,0,0,0,0,0,0,0,0,0,23,64,158,200,174,61,0,0,0,0,0,0,0,0,0,0,0,0,0,0,0,0,0,0,0,0,0,0,0,0,0,0,0,0,0,0,0,0,0,0,0,0,0,0,0,0,0,0,0,0,0,0,0,0,0,0,0,0,0,0,0,0,0,0,0,0,0,0,0,0,0,0,0,0,0,0,0,0,0,0,0,0,0,0,0,0,0,0,0,0,0,0,0,0,0,0,0,0,0,0,0,0,0,0,0,0,0,0,0,0,0,0,0,0,0,0,0,0,0,0,0,0,0,0,0,0,0,0,0,0,0\r\n",
            "7,0,0,0,0,0,0,0,0,0,0,0,0,0,0,0,0,0,0,0,0,0,0,0,0,0,0,0,0,0,0,0,0,0,0,0,0,0,0,0,0,0,0,0,0,0,0,0,0,0,0,0,0,0,0,0,0,0,0,0,0,0,0,0,0,0,0,0,0,0,0,0,0,0,0,0,0,0,0,0,0,0,0,0,0,0,0,0,0,0,0,0,0,0,0,0,0,0,0,0,0,0,0,0,0,0,0,0,0,0,0,0,0,0,0,0,0,0,0,0,0,0,0,0,0,0,0,0,0,0,0,0,0,0,0,0,0,0,0,0,0,0,0,0,0,0,0,0,0,0,0,0,0,0,0,0,0,0,0,0,0,0,0,0,0,0,0,0,0,0,0,0,0,0,0,0,0,0,0,0,0,0,0,0,0,0,0,0,0,0,0,0,0,0,0,0,0,0,0,0,0,0,0,82,152,71,51,51,21,41,51,51,51,51,113,193,152,30,0,0,0,0,0,0,0,0,0,0,0,0,0,122,253,252,253,252,223,243,253,252,253,252,253,252,233,30,0,0,0,0,0,0,0,0,0,0,0,0,0,123,102,41,102,102,102,102,102,102,102,162,254,253,142,0,0,0,0,0,0,0,0,0,0,0,0,0,0,203,102,0,0,0,0,0,0,0,0,183,253,212,20,0,0,0,0,0,0,0,0,0,0,0,0,0,0,203,142,0,0,0,0,0,0,0,11,213,254,91,0,0,0,0,0,0,0,0,0,0,0,0,0,0,41,243,102,0,0,0,0,0,0,0,51,252,172,10,0,0,0,0,0,0,0,0,0,0,0,0,0,0,41,223,102,0,0,0,0,0,0,0,214,253,102,0,0,0,0,0,0,0,0,0,0,0,0,0,0,0,0,20,20,0,0,0,0,0,0,0,253,252,102,0,0,0,0,0,0,0,0,0,0,0,0,0,0,0,0,0,0,0,0,0,0,0,0,62,254,253,41,0,0,0,0,0,0,0,0,0,0,0,0,0,0,0,0,0,0,0,0,0,0,0,0,102,253,171,0,0,0,0,0,0,0,0,0,0,0,0,0,0,0,0,0,0,0,0,0,0,0,0,0,163,254,91,0,0,0,0,0,0,0,0,0,0,0,0,0,0,0,0,0,0,0,0,0,0,0,0,0,203,253,50,0,0,0,0,0,0,0,0,0,0,0,0,0,0,0,0,0,0,0,0,0,0,0,0,51,253,254,50,0,0,0,0,0,0,0,0,0,0,0,0,0,0,0,0,0,0,0,0,0,0,0,0,51,252,253,50,0,0,0,0,0,0,0,0,0,0,0,0,0,0,0,0,0,0,0,0,0,0,0,0,51,253,254,50,0,0,0,0,0,0,0,0,0,0,0,0,0,0,0,0,0,0,0,0,0,0,0,0,51,252,213,10,0,0,0,0,0,0,0,0,0,0,0,0,0,0,0,0,0,0,0,0,0,0,0,0,152,253,82,0,0,0,0,0,0,0,0,0,0,0,0,0,0,0,0,0,0,0,0,0,0,0,0,0,233,252,0,0,0,0,0,0,0,0,0,0,0,0,0,0,0,0,0,0,0,0,0,0,0,0,0,21,255,253,0,0,0,0,0,0,0,0,0,0,0,0,0,0,0,0,0,0,0,0,0,0,0,0,0,20,253,212,0,0,0,0,0,0,0,0,0,0,0,0,0,0,0,0,0,0,0,0,0,0,0,0,0,0,0,0,0,0,0,0,0,0,0,0,0,0,0,0,0\r\n",
            "3,0,0,0,0,0,0,0,0,0,0,0,0,0,0,0,0,0,0,0,0,0,0,0,0,0,0,0,0,0,0,0,0,0,0,0,0,0,0,0,0,0,0,0,0,0,0,0,0,0,0,0,0,0,0,0,0,0,0,0,0,0,0,0,0,0,0,0,0,0,0,0,0,0,0,0,0,0,0,0,0,0,0,0,0,0,0,0,0,0,0,0,0,0,0,0,0,0,0,0,0,0,0,0,0,0,0,0,0,0,0,0,0,0,0,0,0,0,0,0,0,0,0,0,0,0,0,0,0,0,0,0,0,0,0,0,0,0,0,0,0,0,0,0,0,0,0,0,0,0,0,0,0,0,0,0,0,0,0,0,0,0,0,0,0,0,0,0,0,0,0,0,0,0,0,0,0,0,21,130,190,254,254,250,175,135,96,96,16,4,0,0,0,0,0,0,0,0,0,0,0,0,0,26,102,186,254,254,248,222,222,225,254,254,254,254,254,206,112,4,0,0,0,0,0,0,0,0,0,0,0,207,254,254,177,117,39,0,0,56,248,102,48,48,103,192,254,135,0,0,0,0,0,0,0,0,0,0,0,91,111,36,0,0,0,0,0,72,92,0,0,0,0,12,224,210,5,0,0,0,0,0,0,0,0,0,0,0,0,0,0,0,0,0,0,0,0,0,0,50,139,240,254,66,0,0,0,0,0,0,0,0,0,0,0,0,0,0,0,0,0,0,0,0,7,121,220,254,244,194,15,0,0,0,0,0,0,0,0,0,0,0,0,0,8,107,112,112,112,87,112,141,218,248,177,68,20,0,0,0,0,0,0,0,0,0,0,0,0,0,0,0,77,221,254,254,254,254,254,225,104,39,0,0,0,0,0,0,0,0,0,0,0,0,0,0,0,0,0,0,0,10,32,32,32,32,130,215,195,47,0,0,0,0,0,0,0,0,0,0,0,0,0,0,0,0,0,0,0,0,0,0,0,0,0,6,111,231,174,5,0,0,0,0,0,0,0,0,0,0,0,0,0,0,47,18,0,0,0,0,0,0,0,0,0,40,228,205,35,0,0,0,0,0,0,0,0,0,0,0,0,22,234,42,0,0,0,0,0,0,0,0,0,0,56,212,226,38,0,0,0,0,0,0,0,0,0,0,0,96,157,0,0,0,0,0,0,0,0,0,0,0,0,30,215,188,9,0,0,0,0,0,0,0,0,0,0,96,142,0,0,0,0,0,0,0,0,0,0,0,0,0,86,254,68,0,0,0,0,0,0,0,0,0,0,71,202,15,0,0,0,0,0,0,0,0,0,0,0,0,6,214,151,0,0,0,0,0,0,0,0,0,0,10,231,86,2,0,0,0,0,0,0,0,0,0,0,0,0,191,207,0,0,0,0,0,0,0,0,0,0,0,93,248,129,7,0,0,0,0,0,0,0,0,0,0,117,238,112,0,0,0,0,0,0,0,0,0,0,0,0,94,248,209,73,12,0,0,0,0,0,0,42,147,252,136,9,0,0,0,0,0,0,0,0,0,0,0,0,0,48,160,215,230,158,74,64,94,153,223,250,214,105,0,0,0,0,0,0,0,0,0,0,0,0,0,0,0,0,0,11,129,189,234,224,255,194,134,75,6,0,0,0,0,0,0,0,0,0,0,0,0,0,0,0,0,0,0,0,0,0,0,0,0,0,0,0,0,0,0,0,0,0,0,0,0,0,0,0,0,0,0,0,0,0,0,0,0,0,0,0,0,0,0,0,0,0,0,0,0,0,0,0,0,0\r\n",
            "5,0,0,0,0,0,0,0,0,0,0,0,0,0,0,0,0,0,0,0,0,0,0,0,0,0,0,0,0,0,0,0,0,0,0,0,0,0,0,0,0,0,0,0,0,0,0,0,0,0,0,0,0,0,0,0,0,0,0,0,0,0,0,0,0,0,0,0,0,0,0,0,0,0,0,0,0,0,0,0,0,0,0,0,0,0,0,0,0,0,0,0,0,0,0,0,0,0,0,0,0,0,0,0,0,0,0,0,0,0,0,0,0,0,0,0,0,0,0,0,0,0,0,0,0,0,0,0,0,0,0,0,0,0,0,0,0,0,0,0,0,0,0,0,0,0,0,0,0,0,0,0,0,0,41,149,156,179,254,254,201,119,46,0,0,0,0,0,0,0,0,0,0,0,0,0,0,0,0,0,13,147,241,253,253,254,253,253,253,253,245,160,0,0,0,0,0,0,0,0,0,0,0,0,0,0,0,31,224,253,253,180,174,175,174,174,174,174,223,247,145,6,0,0,0,0,0,0,0,0,0,0,0,0,7,197,254,253,165,2,0,0,0,0,0,0,12,102,184,16,0,0,0,0,0,0,0,0,0,0,0,0,152,253,254,162,18,0,0,0,0,0,0,0,0,0,0,0,0,0,0,0,0,0,0,0,0,0,0,0,235,254,158,15,0,0,0,0,0,0,0,0,0,0,0,0,0,0,0,0,0,0,0,0,0,0,0,74,250,253,15,0,0,0,16,20,19,0,0,0,0,0,0,0,0,0,0,0,0,0,0,0,0,0,7,199,253,253,0,0,25,130,235,254,247,145,6,0,0,0,0,0,0,0,0,0,0,0,0,0,0,0,20,253,253,177,100,219,240,253,253,254,253,253,125,0,0,0,0,0,0,0,0,0,0,0,0,0,0,0,5,193,253,253,254,253,253,200,155,155,238,253,229,23,0,0,0,0,0,0,0,0,0,0,0,0,0,0,0,61,249,254,241,150,30,0,0,0,215,254,254,58,0,0,0,0,0,0,0,0,0,0,0,0,0,0,0,0,36,39,30,0,0,0,0,0,214,253,234,31,0,0,0,0,0,0,0,0,0,0,0,0,0,0,0,0,0,0,0,0,0,0,0,41,241,253,183,0,0,0,0,0,0,0,0,0,0,0,0,0,0,0,0,0,0,0,0,0,0,0,0,201,253,253,102,0,0,0,0,0,0,0,0,0,0,0,0,0,0,0,0,0,0,0,0,0,0,0,114,254,253,154,5,0,0,0,0,0,0,0,0,0,0,0,0,0,0,0,0,0,0,0,0,0,0,62,254,255,241,30,0,0,0,0,0,0,0,0,0,0,0,0,0,0,0,0,0,0,0,0,0,10,118,235,253,249,103,0,0,0,0,0,0,0,0,0,0,0,0,0,0,0,0,0,0,55,81,0,102,211,253,253,253,135,0,0,0,0,0,0,0,0,0,0,0,0,0,0,0,0,0,0,0,79,243,234,254,253,253,216,117,0,0,0,0,0,0,0,0,0,0,0,0,0,0,0,0,0,0,0,0,48,245,253,254,207,126,27,0,0,0,0,0,0,0,0,0,0,0,0,0,0,0,0,0,0,0,0,0,0,0,0,0,0,0,0,0,0,0,0,0,0,0,0,0,0,0,0,0,0,0,0,0,0,0,0,0,0,0,0,0,0,0,0,0,0,0,0,0,0,0,0,0,0,0,0,0,0,0,0,0,0,0,0,0,0,0,0,0,0,0,0,0,0,0,0,0,0,0,0,0,0,0,0,0\r\n"
          ]
        }
      ]
    },
    {
      "cell_type": "markdown",
      "metadata": {
        "id": "21JM7zEU9EPA"
      },
      "source": [
        "Данные для тестирования"
      ]
    },
    {
      "cell_type": "code",
      "metadata": {
        "id": "0NvHTE0_9GoP",
        "outputId": "89f185e7-05b0-45a0-c24c-363874627f11",
        "colab": {
          "base_uri": "https://localhost:8080/"
        }
      },
      "source": [
        "!head test.csv"
      ],
      "execution_count": 11,
      "outputs": [
        {
          "output_type": "stream",
          "name": "stdout",
          "text": [
            "pixel0,pixel1,pixel2,pixel3,pixel4,pixel5,pixel6,pixel7,pixel8,pixel9,pixel10,pixel11,pixel12,pixel13,pixel14,pixel15,pixel16,pixel17,pixel18,pixel19,pixel20,pixel21,pixel22,pixel23,pixel24,pixel25,pixel26,pixel27,pixel28,pixel29,pixel30,pixel31,pixel32,pixel33,pixel34,pixel35,pixel36,pixel37,pixel38,pixel39,pixel40,pixel41,pixel42,pixel43,pixel44,pixel45,pixel46,pixel47,pixel48,pixel49,pixel50,pixel51,pixel52,pixel53,pixel54,pixel55,pixel56,pixel57,pixel58,pixel59,pixel60,pixel61,pixel62,pixel63,pixel64,pixel65,pixel66,pixel67,pixel68,pixel69,pixel70,pixel71,pixel72,pixel73,pixel74,pixel75,pixel76,pixel77,pixel78,pixel79,pixel80,pixel81,pixel82,pixel83,pixel84,pixel85,pixel86,pixel87,pixel88,pixel89,pixel90,pixel91,pixel92,pixel93,pixel94,pixel95,pixel96,pixel97,pixel98,pixel99,pixel100,pixel101,pixel102,pixel103,pixel104,pixel105,pixel106,pixel107,pixel108,pixel109,pixel110,pixel111,pixel112,pixel113,pixel114,pixel115,pixel116,pixel117,pixel118,pixel119,pixel120,pixel121,pixel122,pixel123,pixel124,pixel125,pixel126,pixel127,pixel128,pixel129,pixel130,pixel131,pixel132,pixel133,pixel134,pixel135,pixel136,pixel137,pixel138,pixel139,pixel140,pixel141,pixel142,pixel143,pixel144,pixel145,pixel146,pixel147,pixel148,pixel149,pixel150,pixel151,pixel152,pixel153,pixel154,pixel155,pixel156,pixel157,pixel158,pixel159,pixel160,pixel161,pixel162,pixel163,pixel164,pixel165,pixel166,pixel167,pixel168,pixel169,pixel170,pixel171,pixel172,pixel173,pixel174,pixel175,pixel176,pixel177,pixel178,pixel179,pixel180,pixel181,pixel182,pixel183,pixel184,pixel185,pixel186,pixel187,pixel188,pixel189,pixel190,pixel191,pixel192,pixel193,pixel194,pixel195,pixel196,pixel197,pixel198,pixel199,pixel200,pixel201,pixel202,pixel203,pixel204,pixel205,pixel206,pixel207,pixel208,pixel209,pixel210,pixel211,pixel212,pixel213,pixel214,pixel215,pixel216,pixel217,pixel218,pixel219,pixel220,pixel221,pixel222,pixel223,pixel224,pixel225,pixel226,pixel227,pixel228,pixel229,pixel230,pixel231,pixel232,pixel233,pixel234,pixel235,pixel236,pixel237,pixel238,pixel239,pixel240,pixel241,pixel242,pixel243,pixel244,pixel245,pixel246,pixel247,pixel248,pixel249,pixel250,pixel251,pixel252,pixel253,pixel254,pixel255,pixel256,pixel257,pixel258,pixel259,pixel260,pixel261,pixel262,pixel263,pixel264,pixel265,pixel266,pixel267,pixel268,pixel269,pixel270,pixel271,pixel272,pixel273,pixel274,pixel275,pixel276,pixel277,pixel278,pixel279,pixel280,pixel281,pixel282,pixel283,pixel284,pixel285,pixel286,pixel287,pixel288,pixel289,pixel290,pixel291,pixel292,pixel293,pixel294,pixel295,pixel296,pixel297,pixel298,pixel299,pixel300,pixel301,pixel302,pixel303,pixel304,pixel305,pixel306,pixel307,pixel308,pixel309,pixel310,pixel311,pixel312,pixel313,pixel314,pixel315,pixel316,pixel317,pixel318,pixel319,pixel320,pixel321,pixel322,pixel323,pixel324,pixel325,pixel326,pixel327,pixel328,pixel329,pixel330,pixel331,pixel332,pixel333,pixel334,pixel335,pixel336,pixel337,pixel338,pixel339,pixel340,pixel341,pixel342,pixel343,pixel344,pixel345,pixel346,pixel347,pixel348,pixel349,pixel350,pixel351,pixel352,pixel353,pixel354,pixel355,pixel356,pixel357,pixel358,pixel359,pixel360,pixel361,pixel362,pixel363,pixel364,pixel365,pixel366,pixel367,pixel368,pixel369,pixel370,pixel371,pixel372,pixel373,pixel374,pixel375,pixel376,pixel377,pixel378,pixel379,pixel380,pixel381,pixel382,pixel383,pixel384,pixel385,pixel386,pixel387,pixel388,pixel389,pixel390,pixel391,pixel392,pixel393,pixel394,pixel395,pixel396,pixel397,pixel398,pixel399,pixel400,pixel401,pixel402,pixel403,pixel404,pixel405,pixel406,pixel407,pixel408,pixel409,pixel410,pixel411,pixel412,pixel413,pixel414,pixel415,pixel416,pixel417,pixel418,pixel419,pixel420,pixel421,pixel422,pixel423,pixel424,pixel425,pixel426,pixel427,pixel428,pixel429,pixel430,pixel431,pixel432,pixel433,pixel434,pixel435,pixel436,pixel437,pixel438,pixel439,pixel440,pixel441,pixel442,pixel443,pixel444,pixel445,pixel446,pixel447,pixel448,pixel449,pixel450,pixel451,pixel452,pixel453,pixel454,pixel455,pixel456,pixel457,pixel458,pixel459,pixel460,pixel461,pixel462,pixel463,pixel464,pixel465,pixel466,pixel467,pixel468,pixel469,pixel470,pixel471,pixel472,pixel473,pixel474,pixel475,pixel476,pixel477,pixel478,pixel479,pixel480,pixel481,pixel482,pixel483,pixel484,pixel485,pixel486,pixel487,pixel488,pixel489,pixel490,pixel491,pixel492,pixel493,pixel494,pixel495,pixel496,pixel497,pixel498,pixel499,pixel500,pixel501,pixel502,pixel503,pixel504,pixel505,pixel506,pixel507,pixel508,pixel509,pixel510,pixel511,pixel512,pixel513,pixel514,pixel515,pixel516,pixel517,pixel518,pixel519,pixel520,pixel521,pixel522,pixel523,pixel524,pixel525,pixel526,pixel527,pixel528,pixel529,pixel530,pixel531,pixel532,pixel533,pixel534,pixel535,pixel536,pixel537,pixel538,pixel539,pixel540,pixel541,pixel542,pixel543,pixel544,pixel545,pixel546,pixel547,pixel548,pixel549,pixel550,pixel551,pixel552,pixel553,pixel554,pixel555,pixel556,pixel557,pixel558,pixel559,pixel560,pixel561,pixel562,pixel563,pixel564,pixel565,pixel566,pixel567,pixel568,pixel569,pixel570,pixel571,pixel572,pixel573,pixel574,pixel575,pixel576,pixel577,pixel578,pixel579,pixel580,pixel581,pixel582,pixel583,pixel584,pixel585,pixel586,pixel587,pixel588,pixel589,pixel590,pixel591,pixel592,pixel593,pixel594,pixel595,pixel596,pixel597,pixel598,pixel599,pixel600,pixel601,pixel602,pixel603,pixel604,pixel605,pixel606,pixel607,pixel608,pixel609,pixel610,pixel611,pixel612,pixel613,pixel614,pixel615,pixel616,pixel617,pixel618,pixel619,pixel620,pixel621,pixel622,pixel623,pixel624,pixel625,pixel626,pixel627,pixel628,pixel629,pixel630,pixel631,pixel632,pixel633,pixel634,pixel635,pixel636,pixel637,pixel638,pixel639,pixel640,pixel641,pixel642,pixel643,pixel644,pixel645,pixel646,pixel647,pixel648,pixel649,pixel650,pixel651,pixel652,pixel653,pixel654,pixel655,pixel656,pixel657,pixel658,pixel659,pixel660,pixel661,pixel662,pixel663,pixel664,pixel665,pixel666,pixel667,pixel668,pixel669,pixel670,pixel671,pixel672,pixel673,pixel674,pixel675,pixel676,pixel677,pixel678,pixel679,pixel680,pixel681,pixel682,pixel683,pixel684,pixel685,pixel686,pixel687,pixel688,pixel689,pixel690,pixel691,pixel692,pixel693,pixel694,pixel695,pixel696,pixel697,pixel698,pixel699,pixel700,pixel701,pixel702,pixel703,pixel704,pixel705,pixel706,pixel707,pixel708,pixel709,pixel710,pixel711,pixel712,pixel713,pixel714,pixel715,pixel716,pixel717,pixel718,pixel719,pixel720,pixel721,pixel722,pixel723,pixel724,pixel725,pixel726,pixel727,pixel728,pixel729,pixel730,pixel731,pixel732,pixel733,pixel734,pixel735,pixel736,pixel737,pixel738,pixel739,pixel740,pixel741,pixel742,pixel743,pixel744,pixel745,pixel746,pixel747,pixel748,pixel749,pixel750,pixel751,pixel752,pixel753,pixel754,pixel755,pixel756,pixel757,pixel758,pixel759,pixel760,pixel761,pixel762,pixel763,pixel764,pixel765,pixel766,pixel767,pixel768,pixel769,pixel770,pixel771,pixel772,pixel773,pixel774,pixel775,pixel776,pixel777,pixel778,pixel779,pixel780,pixel781,pixel782,pixel783\r\n",
            "0,0,0,0,0,0,0,0,0,0,0,0,0,0,0,0,0,0,0,0,0,0,0,0,0,0,0,0,0,0,0,0,0,0,0,0,0,0,0,0,0,0,0,0,0,0,0,0,0,0,0,0,0,0,0,0,0,0,0,0,0,0,0,0,0,0,0,0,0,0,0,0,0,0,0,0,0,0,0,0,0,0,0,0,0,0,0,0,0,0,0,0,0,0,0,0,0,0,0,0,0,0,0,0,0,0,0,0,0,0,0,0,0,0,0,0,0,0,0,0,0,0,10,17,17,17,17,81,180,180,35,0,0,0,0,0,0,0,0,0,0,0,0,0,0,0,0,0,0,0,139,253,253,253,253,253,253,253,48,0,0,0,0,0,0,0,0,0,0,0,0,0,0,0,0,0,0,60,228,253,253,253,253,253,253,253,207,197,46,0,0,0,0,0,0,0,0,0,0,0,0,0,0,0,0,213,253,253,253,253,253,253,253,253,253,253,223,52,0,0,0,0,0,0,0,0,0,0,0,0,0,0,0,66,231,253,253,253,108,40,40,115,244,253,253,134,3,0,0,0,0,0,0,0,0,0,0,0,0,0,0,0,63,114,114,114,37,0,0,0,205,253,253,253,15,0,0,0,0,0,0,0,0,0,0,0,0,0,0,0,0,0,0,0,0,0,0,0,57,253,253,253,15,0,0,0,0,0,0,0,0,0,0,0,0,0,0,0,0,0,0,0,0,0,0,0,42,253,253,253,15,0,0,0,0,0,0,0,0,0,0,0,0,0,0,0,0,0,0,0,0,0,0,0,95,253,253,253,15,0,0,0,0,0,0,0,0,0,0,0,0,0,0,0,0,0,0,0,0,0,0,0,205,253,253,253,15,0,0,0,0,0,0,0,0,0,0,0,0,0,0,0,0,0,61,99,96,0,0,45,224,253,253,195,10,0,0,0,0,0,0,0,0,0,0,0,11,25,105,83,189,189,228,253,251,189,189,218,253,253,210,27,0,0,0,0,0,0,0,0,0,0,42,116,173,253,253,253,253,253,253,253,253,253,253,253,253,253,221,116,7,0,0,0,0,0,0,0,0,0,118,253,253,253,253,245,212,222,253,253,253,253,253,253,253,253,253,253,160,15,0,0,0,0,0,0,0,0,254,253,253,253,189,99,0,32,202,253,253,253,240,122,122,190,253,253,253,174,0,0,0,0,0,0,0,0,255,253,253,253,238,222,222,222,241,253,253,230,70,0,0,17,175,229,253,253,0,0,0,0,0,0,0,0,158,253,253,253,253,253,253,253,253,205,106,65,0,0,0,0,0,62,244,157,0,0,0,0,0,0,0,0,6,26,179,179,179,179,179,30,15,10,0,0,0,0,0,0,0,0,14,6,0,0,0,0,0,0,0,0,0,0,0,0,0,0,0,0,0,0,0,0,0,0,0,0,0,0,0,0,0,0,0,0,0,0,0,0,0,0,0,0,0,0,0,0,0,0,0,0,0,0,0,0,0,0,0,0,0,0,0,0,0,0,0,0,0,0,0,0,0,0,0,0,0,0,0,0,0,0,0,0,0,0,0,0,0,0,0,0,0,0,0,0,0,0,0,0,0,0,0,0,0,0,0,0,0,0,0,0,0,0,0,0,0,0,0,0,0,0,0,0,0,0,0,0,0,0,0,0,0,0,0,0,0,0,0,0,0,0,0,0,0,0,0,0,0,0,0,0,0,0,0,0,0,0,0,0,0,0,0,0,0,0,0,0,0,0,0,0,0,0,0,0\r\n",
            "0,0,0,0,0,0,0,0,0,0,0,0,0,0,0,0,0,0,0,0,0,0,0,0,0,0,0,0,0,0,0,0,0,0,0,0,0,0,0,0,0,0,0,0,0,0,0,0,0,0,0,0,0,0,0,0,0,0,0,0,0,0,0,0,0,0,0,0,0,0,0,0,0,0,0,0,0,0,0,0,0,0,0,0,0,0,0,0,0,0,0,0,0,0,0,0,0,0,0,0,0,0,0,0,0,0,0,0,0,0,0,0,0,0,0,0,0,0,0,0,0,0,0,0,0,0,0,0,0,0,0,0,0,0,0,0,0,0,0,0,0,0,0,0,0,0,0,0,0,0,0,0,0,0,0,0,0,0,0,0,0,0,0,0,0,0,0,0,0,0,0,0,0,0,0,0,0,0,0,29,85,85,85,85,85,85,85,85,71,0,0,0,0,0,0,0,0,0,0,0,0,0,0,0,0,107,128,168,250,250,250,252,250,250,250,250,231,127,63,0,0,0,0,0,0,0,0,0,0,0,0,85,168,237,252,250,250,250,250,252,250,250,250,250,252,250,209,56,0,0,0,0,0,0,0,0,0,0,0,127,250,250,252,250,250,250,250,252,250,250,250,250,252,250,250,83,0,0,0,0,0,0,0,0,0,8,113,252,252,252,247,210,210,210,210,177,0,0,0,0,43,252,252,83,0,0,0,0,0,0,0,0,0,43,250,250,250,250,210,0,0,0,0,0,0,0,0,0,28,194,250,138,14,0,0,0,0,0,0,0,0,43,250,250,250,250,210,0,0,0,0,0,0,0,0,0,0,85,250,250,41,0,0,0,0,0,0,0,0,43,250,250,137,83,70,0,0,0,0,0,0,0,0,0,0,28,167,250,41,0,0,0,0,0,0,0,0,219,250,144,14,0,0,0,0,0,0,0,0,0,0,0,0,0,127,250,217,0,0,0,0,0,0,0,0,254,238,105,0,0,0,0,0,0,0,0,0,0,0,0,0,15,148,252,252,0,0,0,0,0,0,0,0,252,166,0,0,0,0,0,0,0,0,0,0,0,0,0,85,140,250,250,179,0,0,0,0,0,0,0,0,252,208,63,0,0,0,0,0,0,0,0,0,0,85,127,252,250,250,250,41,0,0,0,0,0,0,0,0,252,250,209,56,0,0,0,0,0,141,170,168,168,223,250,252,250,250,137,14,0,0,0,0,0,0,0,0,252,250,250,223,210,212,210,210,210,244,252,250,250,250,250,252,250,144,14,0,0,0,0,0,0,0,0,0,43,252,252,252,252,254,252,252,252,252,255,252,252,252,217,177,0,0,0,0,0,0,0,0,0,0,0,0,28,166,208,250,250,252,250,250,250,250,238,166,166,166,27,0,0,0,0,0,0,0,0,0,0,0,0,0,0,0,63,125,125,146,250,250,165,125,105,0,0,0,0,0,0,0,0,0,0,0,0,0,0,0,0,0,0,0,0,0,0,14,83,83,27,0,0,0,0,0,0,0,0,0,0,0,0,0,0,0,0,0,0,0,0,0,0,0,0,0,0,0,0,0,0,0,0,0,0,0,0,0,0,0,0,0,0,0,0,0,0,0,0,0,0,0,0,0,0,0,0,0,0,0,0,0,0,0,0,0,0,0,0,0,0,0,0,0,0,0,0,0,0,0,0,0,0,0,0,0,0,0,0,0,0,0,0,0,0,0,0,0,0,0,0,0,0,0,0,0,0,0,0,0,0,0,0,0,0,0,0,0,0,0,0,0,0,0,0,0,0\r\n",
            "0,0,0,0,0,0,0,0,0,0,0,0,0,0,0,0,0,0,0,0,0,0,0,0,0,0,0,0,0,0,0,0,0,0,0,0,0,0,0,0,0,0,0,0,0,0,0,0,0,0,0,0,0,0,0,0,0,0,0,0,0,0,0,0,0,0,0,0,0,0,0,0,0,0,0,0,0,0,0,0,0,0,0,0,0,0,0,0,0,0,0,0,0,0,0,0,0,0,0,0,0,0,0,0,0,0,0,0,0,0,0,0,0,0,0,0,0,0,0,0,0,0,0,0,0,0,0,0,0,0,0,0,0,0,0,0,0,0,0,0,0,0,0,0,0,0,0,0,0,0,0,0,0,0,0,0,0,0,0,0,0,0,0,0,0,0,0,0,0,0,0,0,0,0,0,0,0,0,0,0,0,6,100,213,254,245,255,149,17,0,0,0,0,0,0,0,0,0,0,0,0,0,0,0,0,0,0,0,26,181,233,102,40,29,102,166,187,0,0,0,0,0,0,0,0,0,0,0,0,0,0,0,0,0,0,57,236,181,35,0,0,0,0,12,207,13,0,0,0,0,0,0,0,0,0,0,0,0,0,0,0,0,27,228,187,0,0,0,0,0,0,96,225,9,0,0,0,0,0,0,0,0,0,0,0,0,0,0,0,0,167,230,18,0,0,0,0,0,74,242,106,0,0,0,0,0,0,0,0,0,0,0,0,0,0,0,0,83,247,60,0,0,0,0,0,67,232,102,0,0,0,0,0,0,0,0,0,0,0,0,0,0,0,0,0,133,211,0,0,0,0,16,127,225,165,4,0,0,0,0,0,0,0,0,0,0,0,0,0,0,0,0,0,133,217,0,15,58,140,189,181,227,24,0,0,0,0,0,0,0,0,0,0,0,0,0,0,0,0,0,0,71,246,225,235,253,182,61,231,85,0,0,0,0,0,0,0,0,0,0,0,0,0,0,0,0,0,0,0,0,73,143,119,58,1,153,212,2,0,0,0,0,0,0,0,0,0,0,0,0,0,0,0,0,0,0,0,0,0,0,0,0,88,254,69,0,0,0,0,0,0,0,0,0,0,0,0,0,0,0,0,0,0,0,0,0,0,0,0,40,244,157,1,0,0,0,0,0,0,0,0,0,0,0,0,0,0,0,0,0,0,0,0,0,0,0,6,212,211,12,0,0,0,0,0,0,0,0,0,0,0,0,0,0,0,0,0,0,0,0,0,0,0,0,95,237,46,0,0,0,0,0,0,0,0,0,0,0,0,0,0,0,0,0,0,0,0,0,0,0,0,43,243,156,0,0,0,0,0,0,0,0,0,0,0,0,0,0,0,0,0,0,0,0,0,0,0,0,11,213,213,5,0,0,0,0,0,6,8,0,0,0,0,0,0,0,0,0,0,0,0,0,0,0,0,0,163,244,35,0,0,0,0,0,0,139,208,97,12,0,0,0,0,0,0,0,0,0,0,0,0,0,0,60,248,90,0,0,0,0,0,0,0,16,136,172,168,0,0,0,0,0,0,0,0,0,0,0,0,0,5,195,147,0,0,0,0,0,0,0,0,0,0,0,0,0,0,0,0,0,0,0,0,0,0,0,0,0,26,237,41,0,0,0,0,0,0,0,0,0,0,0,0,0,0,0,0,0,0,0,0,0,0,0,0,0,0,0,0,0,0,0,0,0,0,0,0,0,0,0,0,0,0,0,0,0,0,0,0,0,0,0,0,0,0,0,0,0,0,0,0,0,0,0,0,0,0,0,0,0,0,0,0,0\r\n",
            "0,0,0,0,0,0,0,0,0,0,0,0,0,0,0,0,0,0,0,0,0,0,0,0,0,0,0,0,0,0,0,0,0,0,0,0,0,0,0,0,0,0,0,0,0,0,0,0,0,0,0,0,0,0,0,0,0,0,0,0,0,0,0,0,0,0,0,0,0,0,0,0,0,0,0,0,0,0,0,0,0,0,0,0,0,0,0,0,0,0,0,0,0,0,0,0,0,0,0,0,0,0,0,0,0,0,0,0,0,0,0,0,0,0,0,0,0,0,0,0,0,0,0,0,0,0,0,0,0,0,0,0,0,0,0,0,0,0,0,0,0,0,0,0,0,0,0,0,0,0,0,0,0,0,0,0,0,0,0,0,0,0,0,0,0,0,0,0,0,0,0,0,0,0,0,0,0,0,0,0,0,0,0,0,0,0,0,0,0,0,0,0,0,0,0,0,0,0,0,0,0,0,0,0,0,0,0,0,40,0,2,12,45,109,109,30,0,0,0,0,0,0,0,0,0,0,0,0,0,0,0,0,0,0,0,149,207,58,116,227,254,253,253,209,0,0,0,0,0,0,0,0,0,0,0,0,0,0,0,0,0,0,98,228,254,185,174,91,92,111,217,254,156,0,0,0,0,0,0,0,0,0,0,0,0,0,0,0,0,0,20,141,24,9,0,0,0,0,43,253,253,0,0,0,0,0,0,0,0,33,0,0,0,0,0,0,0,23,139,104,0,0,0,0,0,0,50,253,253,0,0,0,0,0,0,0,0,0,0,0,0,0,0,0,0,180,246,20,0,0,0,0,0,0,166,253,220,0,0,0,0,0,0,0,0,0,0,0,0,0,0,0,14,147,72,0,0,0,0,0,0,40,243,253,253,0,0,0,0,0,0,0,0,0,0,0,0,0,0,0,121,248,52,0,0,0,0,0,47,215,254,216,26,0,0,0,0,0,0,0,0,0,0,0,0,0,0,0,217,215,0,0,0,0,0,40,209,253,245,49,0,0,0,0,0,0,0,0,0,0,0,0,0,0,0,40,243,67,0,0,0,19,146,243,254,225,44,0,0,0,0,0,0,0,0,0,0,0,0,0,0,0,0,40,243,131,0,12,154,226,253,246,151,43,0,0,0,0,0,0,0,0,0,0,0,0,0,0,0,0,0,0,217,248,181,228,253,253,214,72,0,0,0,0,0,0,0,0,0,0,0,0,0,0,0,0,0,0,0,0,166,254,254,255,254,172,20,0,0,0,0,0,0,0,0,0,0,0,0,0,0,0,0,0,0,0,0,0,3,89,108,109,24,9,0,0,0,0,0,0,0,0,0,0,0,0,0,0,0,0,0,0,0,0,0,0,0,0,0,0,0,0,0,0,0,0,0,0,0,0,0,0,0,0,0,0,0,0,0,0,0,0,0,0,0,0,0,0,0,0,0,0,0,0,0,0,0,0,0,0,0,0,0,0,0,0,0,0,0,0,0,0,0,0,0,0,0,0,0,0,0,0,0,0,0,0,0,0,0,0,0,0,0,0,0,0,0,0,0,0,0,0,0,0,0,0,0,0,0,0,0,0,0,0,0,0,0,0,0,0,0,0,0,0,0,0,0,0,0,0,0,0,0,0,0,0,0,0,0,0,0,0,0,0,0,0,0,0,0,0,0,0,0,0,0,0,0,0,0,0,0,0,0,0,0,0,0,0,0,0,0,0,0,0,0,0,0,0,0,0,0,0,0,0,0,0,0,0,0,0,0,0,0,0,0,0,0,0,0,0,0,0,0,0\r\n",
            "0,0,0,0,0,0,0,0,0,0,0,0,0,0,0,0,0,0,0,0,0,0,0,0,0,0,0,0,0,0,0,0,0,0,0,0,0,0,0,0,0,0,0,0,0,0,0,0,0,0,0,0,0,0,0,0,0,0,0,0,0,0,0,0,0,0,0,0,0,0,0,0,0,0,0,0,0,0,0,0,0,0,0,0,0,0,0,0,0,0,0,0,0,0,0,13,80,175,242,205,93,11,0,0,0,0,0,0,0,0,0,0,0,0,0,0,0,0,0,0,0,0,10,171,254,253,253,253,254,214,30,0,0,0,0,0,0,0,0,0,0,0,0,0,0,0,0,0,0,0,126,253,249,134,134,212,254,253,182,0,0,0,0,0,0,0,0,0,0,0,0,0,0,0,0,0,0,0,136,253,90,0,0,6,133,253,249,18,0,0,0,0,0,0,0,0,0,0,0,0,0,0,0,0,0,0,0,25,0,0,0,0,20,218,254,133,0,0,0,0,0,0,0,0,0,0,0,0,0,0,0,0,0,0,0,0,0,0,0,0,47,226,253,193,0,0,0,0,0,0,0,0,0,0,0,0,0,0,0,0,0,13,12,0,0,0,0,0,5,208,253,109,0,0,0,0,0,0,0,0,0,0,0,0,0,0,0,0,0,0,19,30,0,0,0,0,20,253,235,43,0,0,0,0,0,0,0,0,0,0,0,0,0,0,0,0,0,0,0,0,14,133,157,122,230,254,159,0,0,0,0,0,0,0,0,0,0,0,0,0,0,0,0,0,0,0,0,0,122,253,253,253,254,187,9,0,0,0,0,0,0,0,0,0,0,0,0,0,0,0,0,0,0,0,0,0,45,204,253,253,254,178,0,0,0,0,0,0,0,0,0,0,0,0,0,0,0,0,0,0,0,0,0,0,0,9,104,247,254,250,108,0,0,0,0,0,0,0,0,0,0,0,0,0,0,0,0,0,0,0,0,0,0,0,0,73,255,254,218,14,0,0,0,0,0,0,0,0,0,0,0,0,0,0,0,0,0,0,0,0,0,0,0,0,145,253,253,110,0,0,0,0,0,0,0,0,0,0,0,0,0,0,0,0,0,0,0,19,114,158,12,0,20,253,253,109,0,0,0,0,0,0,0,0,0,0,0,0,0,0,0,0,0,13,121,234,242,28,0,0,20,253,253,97,0,0,0,0,0,0,0,0,0,0,0,0,0,0,0,0,38,194,254,248,49,0,17,68,206,254,231,36,0,0,0,0,0,0,0,0,0,0,0,0,0,0,0,37,194,253,253,235,196,195,244,253,254,247,93,0,0,0,0,0,0,0,0,0,0,0,0,0,0,0,0,79,254,253,253,253,254,253,253,253,207,75,0,0,0,0,0,0,0,0,0,0,0,0,0,0,0,0,0,6,128,211,253,253,224,175,157,97,6,0,0,0,0,0,0,0,0,0,0,0,0,0,0,0,0,0,0,0,0,0,0,0,0,0,0,0,0,0,0,0,0,0,0,0,0,0,0,0,0,0,0,0,0,0,0,0,0,0,0,0,0,0,0,0,0,0,0,0,0,0,0,0,0,0,0,0,0,0,0,0,0,0,0,0,0,0,0,0,0,0,0,0,0,0,0,0,0,0,0,0,0,0,0,0,0,0,0,0,0,0,0,0,0,0,0,0,0,0,0,0,0,0,0,0,0,0,0,0,0,0,0,0,0,0,0,0,0,0,0,0,0,0,0,0,0,0,0,0,0,0,0,0,0,0,0,0,0,0,0,0\r\n",
            "0,0,0,0,0,0,0,0,0,0,0,0,0,0,0,0,0,0,0,0,0,0,0,0,0,0,0,0,0,0,0,0,0,0,0,0,0,0,0,0,0,0,0,0,0,0,0,0,0,0,0,0,0,0,0,0,0,0,0,0,0,0,0,0,0,0,0,0,0,0,0,0,0,0,0,0,0,0,0,0,0,0,0,0,0,0,0,0,0,0,0,0,0,0,0,0,0,0,0,0,0,0,0,0,0,0,0,0,0,0,0,0,0,0,0,0,0,0,0,0,0,0,0,0,0,0,0,0,0,0,0,0,0,0,0,0,0,0,0,0,0,0,0,0,0,0,0,0,0,0,0,0,0,0,0,0,0,0,0,0,0,0,0,0,0,0,0,0,0,0,0,0,0,0,0,0,0,0,0,0,0,0,0,0,0,0,0,0,0,0,0,0,0,0,0,0,0,0,0,0,0,0,73,224,254,254,156,156,89,59,14,0,0,0,0,0,0,0,0,0,0,0,0,0,0,0,0,0,0,0,118,253,250,241,254,253,253,253,223,215,169,50,2,0,0,0,0,0,0,0,0,0,0,0,0,0,0,0,147,253,183,30,78,115,145,174,174,223,253,253,181,101,0,0,0,0,0,0,0,0,0,0,0,0,0,47,235,253,153,0,0,0,0,0,0,35,79,196,253,253,152,6,0,0,0,0,0,0,0,0,0,0,0,156,253,253,117,0,0,0,0,0,0,0,0,18,73,230,254,114,0,0,0,0,0,0,0,0,0,0,0,156,254,235,15,0,0,0,0,0,0,0,0,0,10,209,255,76,0,0,0,0,0,0,0,0,0,0,0,107,233,124,0,0,0,0,0,0,0,0,0,0,159,253,171,9,7,20,5,0,0,0,0,0,0,0,0,0,0,0,0,0,0,37,109,101,175,176,175,175,217,253,254,187,199,253,58,0,0,0,0,0,0,0,0,0,0,0,0,0,0,207,253,253,253,229,232,253,253,200,57,19,19,57,5,0,0,0,0,0,0,0,0,0,0,0,0,0,0,139,185,140,58,23,154,253,185,36,0,0,0,0,0,0,0,0,0,0,0,0,0,0,0,0,0,0,0,0,0,0,0,59,239,213,53,0,0,0,0,0,0,0,0,0,0,0,0,0,0,0,0,0,0,0,0,0,0,0,8,239,243,42,0,0,0,0,0,0,0,0,0,0,0,0,0,0,0,0,0,0,0,0,0,0,0,13,183,254,135,0,0,0,0,0,0,0,0,0,0,0,0,0,0,0,0,0,0,0,0,0,0,0,0,40,253,222,18,0,0,0,0,0,0,0,0,0,0,0,0,0,0,0,0,0,0,0,0,0,0,0,0,152,253,83,0,0,0,0,0,0,0,0,0,0,0,0,0,0,0,0,0,0,0,0,0,0,0,0,79,254,231,0,0,0,0,0,0,0,0,0,0,0,0,0,0,0,0,0,0,0,0,0,0,0,0,2,167,253,111,0,0,0,0,0,0,0,0,0,0,0,0,0,0,0,0,0,0,0,0,0,0,0,0,88,253,240,40,0,0,0,0,0,0,0,0,0,0,0,0,0,0,0,0,0,0,0,0,0,0,0,0,118,253,213,0,0,0,0,0,0,0,0,0,0,0,0,0,0,0,0,0,0,0,0,0,0,0,0,0,72,185,101,0,0,0,0,0,0,0,0,0,0,0,0,0,0,0,0,0,0,0,0,0,0,0,0,0,0,0,0,0,0,0,0,0,0,0,0,0,0,0,0,0,0\r\n",
            "0,0,0,0,0,0,0,0,0,0,0,0,0,0,0,0,0,0,0,0,0,0,0,0,0,0,0,0,0,0,0,0,0,0,0,0,0,0,0,0,0,0,0,0,0,0,0,0,0,0,0,0,0,0,0,0,0,0,0,0,0,0,0,0,0,0,0,0,0,0,0,0,0,0,0,0,0,0,0,0,0,0,0,0,0,0,0,0,0,0,0,0,0,0,0,0,0,0,0,0,0,0,0,0,0,0,0,0,0,0,0,0,0,0,0,0,0,0,0,0,0,0,0,0,19,164,253,255,253,118,59,36,0,0,0,0,0,0,0,0,0,0,0,0,0,0,0,0,0,0,0,0,78,251,251,253,251,251,251,199,45,0,0,0,0,0,0,0,0,0,0,0,0,0,0,0,0,0,0,14,198,251,251,253,251,251,251,251,204,26,0,0,0,0,0,0,0,0,0,0,0,0,0,0,0,0,0,5,117,251,251,243,212,239,251,251,251,218,0,0,0,0,0,0,0,0,0,0,0,0,0,0,0,0,0,95,251,251,251,120,0,175,251,251,251,231,0,0,0,0,0,0,0,0,0,0,0,0,0,0,0,0,97,237,251,251,251,0,0,67,240,251,251,243,108,0,0,0,0,0,0,0,0,0,0,0,0,0,0,8,163,251,251,240,81,0,0,0,68,251,251,251,179,9,0,0,0,0,0,0,0,0,0,0,0,0,13,145,251,251,226,80,0,0,0,0,39,251,251,251,251,115,0,0,0,0,0,0,0,0,0,0,0,0,144,251,251,251,173,0,0,0,0,0,18,167,251,251,251,115,0,0,0,0,0,0,0,0,0,0,0,0,233,251,251,251,173,0,0,0,0,0,0,98,251,251,251,115,0,0,0,0,0,0,0,0,0,0,0,176,253,253,216,179,0,0,0,0,0,0,0,99,253,253,253,116,0,0,0,0,0,0,0,0,0,0,55,210,251,251,96,0,0,0,0,0,0,0,0,98,251,251,214,62,0,0,0,0,0,0,0,0,0,0,117,251,251,251,96,0,0,0,0,0,0,0,28,204,251,237,53,0,0,0,0,0,0,0,0,0,0,55,241,251,251,160,7,0,0,0,0,0,0,28,222,251,251,231,0,0,0,0,0,0,0,0,0,0,0,59,251,251,251,153,0,0,0,0,0,23,98,204,251,251,251,156,0,0,0,0,0,0,0,0,0,0,0,59,251,251,251,153,0,0,0,85,155,179,251,251,251,251,154,15,0,0,0,0,0,0,0,0,0,0,0,59,251,251,251,236,214,214,214,234,251,253,251,251,248,156,15,0,0,0,0,0,0,0,0,0,0,0,0,41,209,251,251,251,251,251,251,251,251,253,251,196,146,0,0,0,0,0,0,0,0,0,0,0,0,0,0,0,54,115,241,251,251,251,251,251,251,253,187,35,0,0,0,0,0,0,0,0,0,0,0,0,0,0,0,0,0,0,83,251,251,251,251,251,101,57,31,0,0,0,0,0,0,0,0,0,0,0,0,0,0,0,0,0,0,0,0,0,0,0,0,0,0,0,0,0,0,0,0,0,0,0,0,0,0,0,0,0,0,0,0,0,0,0,0,0,0,0,0,0,0,0,0,0,0,0,0,0,0,0,0,0,0,0,0,0,0,0,0,0,0,0,0,0,0,0,0,0,0,0,0,0,0,0,0,0,0,0,0,0,0,0,0,0,0,0,0,0,0,0,0,0,0,0,0,0,0,0,0,0,0,0,0,0,0,0,0,0,0,0\r\n",
            "0,0,0,0,0,0,0,0,0,0,0,0,0,0,0,0,0,0,0,0,0,0,0,0,0,0,0,0,0,0,0,0,0,0,0,0,0,0,0,0,0,0,0,0,0,0,0,0,0,0,0,0,0,0,0,0,0,0,0,0,0,0,0,0,0,0,0,0,0,0,0,0,0,0,0,0,0,0,0,0,0,0,0,0,0,0,0,0,0,0,0,0,0,0,0,0,0,0,0,0,0,0,0,0,0,0,0,0,0,0,0,0,0,0,0,0,0,0,0,0,0,0,5,123,133,197,254,254,231,105,3,0,0,0,0,0,0,0,0,0,0,0,0,0,0,0,0,0,0,9,169,253,253,254,253,253,253,253,71,0,0,0,0,0,0,0,0,0,0,0,0,0,0,0,0,0,0,33,213,253,253,235,216,158,241,253,225,30,0,0,0,0,0,0,0,0,0,0,0,0,0,0,0,0,0,0,32,193,146,40,0,0,89,253,253,48,0,0,0,0,0,0,0,0,0,0,0,0,0,0,0,0,0,0,0,0,0,0,0,0,78,253,253,48,0,0,0,0,0,0,0,0,0,0,0,0,0,0,0,0,0,0,0,0,0,0,0,0,169,253,253,48,0,0,0,0,0,0,0,0,0,0,0,0,0,0,0,0,0,0,0,0,0,0,9,160,237,253,228,32,0,0,0,0,0,0,0,0,0,0,0,0,0,0,0,0,0,0,0,0,93,219,221,253,253,253,243,88,0,0,0,0,0,0,0,0,0,0,0,0,0,0,0,0,0,37,110,219,252,254,253,253,253,253,253,168,0,0,0,0,0,0,0,0,0,0,0,0,0,0,0,0,35,223,253,253,253,254,253,253,253,253,253,249,34,0,0,0,0,0,0,0,0,0,0,0,0,0,0,0,188,254,254,254,254,255,172,46,24,158,254,254,100,0,0,0,0,0,0,0,0,0,0,0,0,0,0,0,31,206,228,228,170,104,0,0,5,188,253,253,87,0,0,0,0,0,0,0,0,0,0,0,0,0,0,0,0,0,0,0,0,0,0,0,49,253,253,240,31,0,0,0,0,0,0,0,0,0,0,0,0,0,0,0,0,0,0,0,0,0,0,0,72,253,253,168,0,0,0,0,0,0,0,0,0,0,0,0,0,0,0,0,0,0,0,0,0,0,0,38,189,253,253,168,0,0,0,0,0,0,0,0,0,0,0,0,0,0,0,0,0,0,0,0,0,4,85,230,253,253,197,63,0,0,0,0,0,0,0,0,0,0,0,0,0,0,0,0,0,41,0,37,85,151,253,253,253,232,40,0,0,0,0,0,0,0,0,0,0,0,0,0,0,78,218,218,218,234,218,233,253,254,253,253,211,27,0,0,0,0,0,0,0,0,0,0,0,0,0,0,0,157,253,253,253,253,253,253,253,254,253,167,19,0,0,0,0,0,0,0,0,0,0,0,0,0,0,0,0,25,213,253,253,253,253,200,132,127,11,5,0,0,0,0,0,0,0,0,0,0,0,0,0,0,0,0,0,0,0,0,0,0,0,0,0,0,0,0,0,0,0,0,0,0,0,0,0,0,0,0,0,0,0,0,0,0,0,0,0,0,0,0,0,0,0,0,0,0,0,0,0,0,0,0,0,0,0,0,0,0,0,0,0,0,0,0,0,0,0,0,0,0,0,0,0,0,0,0,0,0,0,0,0,0,0,0,0,0,0,0,0,0,0,0,0,0,0,0,0,0,0,0,0,0,0,0,0,0,0,0,0,0,0,0\r\n",
            "0,0,0,0,0,0,0,0,0,0,0,0,0,0,0,0,0,0,0,0,0,0,0,0,0,0,0,0,0,0,0,0,0,0,0,0,0,0,0,0,0,0,0,0,0,0,0,0,0,0,0,0,0,0,0,0,0,0,0,0,0,0,0,0,0,0,0,0,0,0,0,0,0,0,0,0,0,0,0,0,0,0,0,0,0,0,0,0,0,0,0,0,0,0,0,0,0,0,0,0,0,0,0,0,0,0,0,0,0,0,0,0,0,0,0,0,0,0,0,0,0,0,0,0,0,0,0,0,0,0,0,0,0,0,0,0,0,0,0,0,0,0,0,0,0,0,0,0,0,0,0,0,0,60,96,84,48,96,96,60,0,0,0,0,0,0,0,0,0,0,0,0,0,0,0,0,0,0,0,96,190,228,253,244,221,251,251,230,170,16,0,0,0,0,0,0,0,0,0,0,0,0,0,0,0,0,96,189,251,251,253,251,251,251,251,253,251,188,95,0,0,0,0,0,0,0,0,0,0,0,0,0,0,124,244,251,235,188,253,251,251,235,188,213,251,251,244,83,0,0,0,0,0,0,0,0,0,0,0,0,100,253,251,172,70,0,253,251,172,70,0,36,114,251,251,94,0,0,0,0,0,0,0,0,0,0,48,134,253,255,241,79,0,0,0,0,0,0,0,0,0,128,253,95,0,0,0,0,0,0,0,0,0,4,142,251,251,241,93,0,0,0,0,0,0,0,0,0,0,127,251,212,0,0,0,0,0,0,0,0,0,32,251,251,251,79,0,0,0,0,0,0,0,0,0,0,0,127,251,172,0,0,0,0,0,0,0,0,24,186,251,251,113,0,0,0,0,0,0,0,0,0,0,0,0,127,251,94,0,0,0,0,0,0,0,0,96,251,251,211,35,0,0,0,0,0,0,0,0,0,0,0,20,205,251,94,0,0,0,0,0,0,0,0,96,253,253,31,0,0,0,0,0,0,0,0,0,0,0,36,214,253,253,95,0,0,0,0,0,0,0,0,214,251,156,8,0,0,0,0,0,0,0,0,0,0,0,115,251,251,204,23,0,0,0,0,0,0,0,0,173,251,126,0,0,0,0,0,0,0,0,0,0,0,0,253,251,251,109,0,0,0,0,0,0,0,0,0,96,251,236,67,0,0,0,0,0,0,0,0,0,56,221,253,251,140,4,0,0,0,0,0,0,0,0,0,96,251,251,228,59,0,0,0,0,0,0,20,158,181,251,253,251,126,0,0,0,0,0,0,0,0,0,0,60,170,253,253,253,195,24,48,134,253,255,253,253,253,253,219,138,0,0,0,0,0,0,0,0,0,0,0,0,28,236,251,251,253,205,221,251,251,253,251,251,251,231,138,0,0,0,0,0,0,0,0,0,0,0,0,0,0,63,156,251,253,251,251,251,251,253,251,188,126,47,0,0,0,0,0,0,0,0,0,0,0,0,0,0,0,0,8,31,189,188,188,188,188,129,31,15,0,0,0,0,0,0,0,0,0,0,0,0,0,0,0,0,0,0,0,0,0,0,0,0,0,0,0,0,0,0,0,0,0,0,0,0,0,0,0,0,0,0,0,0,0,0,0,0,0,0,0,0,0,0,0,0,0,0,0,0,0,0,0,0,0,0,0,0,0,0,0,0,0,0,0,0,0,0,0,0,0,0,0,0,0,0,0,0,0,0,0,0,0,0,0,0,0,0,0,0,0,0,0,0,0,0,0,0,0,0,0,0,0,0,0,0,0,0,0,0,0,0,0\r\n"
          ]
        }
      ]
    },
    {
      "cell_type": "markdown",
      "metadata": {
        "id": "RTfZSLxb9NqJ"
      },
      "source": [
        "Пример файла с решением"
      ]
    },
    {
      "cell_type": "code",
      "metadata": {
        "id": "Khadi0f09LKi",
        "outputId": "d91323af-32a2-4069-f8ba-773a8bdbfc6c",
        "colab": {
          "base_uri": "https://localhost:8080/"
        }
      },
      "source": [
        "!head sample_submission.csv"
      ],
      "execution_count": 12,
      "outputs": [
        {
          "output_type": "stream",
          "name": "stdout",
          "text": [
            "ImageId,Label\r\n",
            "1,0\r\n",
            "2,0\r\n",
            "3,0\r\n",
            "4,0\r\n",
            "5,0\r\n",
            "6,0\r\n",
            "7,0\r\n",
            "8,0\r\n",
            "9,0\r\n"
          ]
        }
      ]
    },
    {
      "cell_type": "markdown",
      "metadata": {
        "id": "xiurjCBVMDTG"
      },
      "source": [
        "## Подготовка данных для обучения сети"
      ]
    },
    {
      "cell_type": "markdown",
      "metadata": {
        "id": "1yDF75Cx8VPz"
      },
      "source": [
        "Загружаем данные для обучения из файла"
      ]
    },
    {
      "cell_type": "code",
      "metadata": {
        "id": "E5L3LUIi8PDV"
      },
      "source": [
        "train_dataset = np.loadtxt('train.csv', skiprows=1, delimiter=',')"
      ],
      "execution_count": 13,
      "outputs": []
    },
    {
      "cell_type": "code",
      "metadata": {
        "id": "0772VOME9vW_",
        "outputId": "7e6462b1-3241-47ba-837f-51933e2682a5",
        "colab": {
          "base_uri": "https://localhost:8080/"
        }
      },
      "source": [
        "train_dataset[0:5]"
      ],
      "execution_count": 14,
      "outputs": [
        {
          "output_type": "execute_result",
          "data": {
            "text/plain": [
              "array([[1., 0., 0., ..., 0., 0., 0.],\n",
              "       [0., 0., 0., ..., 0., 0., 0.],\n",
              "       [1., 0., 0., ..., 0., 0., 0.],\n",
              "       [4., 0., 0., ..., 0., 0., 0.],\n",
              "       [0., 0., 0., ..., 0., 0., 0.]])"
            ]
          },
          "metadata": {},
          "execution_count": 14
        }
      ]
    },
    {
      "cell_type": "markdown",
      "metadata": {
        "id": "X2lqS46w-Jmg"
      },
      "source": [
        "Выделяем данные для обучения"
      ]
    },
    {
      "cell_type": "code",
      "metadata": {
        "id": "f5-5e_kj-GS5"
      },
      "source": [
        "x_train = train_dataset[:, 1:]\n",
        "# Переформатируем данные в 2D, бэкенд TensorFlow\n",
        "x_train = x_train.reshape(x_train.shape[0], 28, 28, 1)\n",
        "input_shape = (28, 28, 1)"
      ],
      "execution_count": 15,
      "outputs": []
    },
    {
      "cell_type": "code",
      "metadata": {
        "id": "nUtkm24FMdxI",
        "outputId": "11c1577d-0a34-4922-8ca6-24b7d0801665",
        "colab": {
          "base_uri": "https://localhost:8080/"
        }
      },
      "source": [
        "# форма данных обучающего набора\n",
        "x_train.shape"
      ],
      "execution_count": 16,
      "outputs": [
        {
          "output_type": "execute_result",
          "data": {
            "text/plain": [
              "(42000, 28, 28, 1)"
            ]
          },
          "metadata": {},
          "execution_count": 16
        }
      ]
    },
    {
      "cell_type": "markdown",
      "metadata": {
        "id": "DJWn7fI_AB4X"
      },
      "source": [
        "Нормализуем данные для обучения"
      ]
    },
    {
      "cell_type": "code",
      "metadata": {
        "id": "ga0DtPJQVkEh"
      },
      "source": [
        "x_train /= 255.0"
      ],
      "execution_count": 17,
      "outputs": []
    },
    {
      "cell_type": "code",
      "metadata": {
        "id": "IW7rhFNSAGIC",
        "outputId": "48084dd0-c036-4d77-ef6c-2aa8cb2db245",
        "colab": {
          "base_uri": "https://localhost:8080/"
        }
      },
      "source": [
        "# форма одного изображения из обучающего набора\n",
        "x_train[1].shape"
      ],
      "execution_count": 18,
      "outputs": [
        {
          "output_type": "execute_result",
          "data": {
            "text/plain": [
              "(28, 28, 1)"
            ]
          },
          "metadata": {},
          "execution_count": 18
        }
      ]
    },
    {
      "cell_type": "markdown",
      "metadata": {
        "id": "OKNJl1jZ_9Nw"
      },
      "source": [
        "Выделяем правильные ответы"
      ]
    },
    {
      "cell_type": "code",
      "metadata": {
        "id": "sjO-WFM0AnJI"
      },
      "source": [
        "y_train = train_dataset[:, 0]"
      ],
      "execution_count": 19,
      "outputs": []
    },
    {
      "cell_type": "code",
      "metadata": {
        "id": "_nsLwMHuGnHI",
        "outputId": "3fa75002-c54c-415d-8c27-577bb7fa38bb",
        "colab": {
          "base_uri": "https://localhost:8080/"
        }
      },
      "source": [
        "y_train[:5]"
      ],
      "execution_count": 20,
      "outputs": [
        {
          "output_type": "execute_result",
          "data": {
            "text/plain": [
              "array([1., 0., 1., 4., 0.])"
            ]
          },
          "metadata": {},
          "execution_count": 20
        }
      ]
    },
    {
      "cell_type": "markdown",
      "metadata": {
        "id": "aL0ZROTZApoR"
      },
      "source": [
        "Преобразуем ответы в формат one hot encoding"
      ]
    },
    {
      "cell_type": "code",
      "metadata": {
        "id": "yQZ2utqhAutw"
      },
      "source": [
        "y_train = utils.to_categorical(y_train)"
      ],
      "execution_count": 21,
      "outputs": []
    },
    {
      "cell_type": "code",
      "metadata": {
        "id": "wWlQHgMkA_BQ",
        "outputId": "404b85a4-e4fa-47fa-bda5-558333401570",
        "colab": {
          "base_uri": "https://localhost:8080/"
        }
      },
      "source": [
        "y_train[:5]"
      ],
      "execution_count": 22,
      "outputs": [
        {
          "output_type": "execute_result",
          "data": {
            "text/plain": [
              "array([[0., 1., 0., 0., 0., 0., 0., 0., 0., 0.],\n",
              "       [1., 0., 0., 0., 0., 0., 0., 0., 0., 0.],\n",
              "       [0., 1., 0., 0., 0., 0., 0., 0., 0., 0.],\n",
              "       [0., 0., 0., 0., 1., 0., 0., 0., 0., 0.],\n",
              "       [1., 0., 0., 0., 0., 0., 0., 0., 0., 0.]], dtype=float32)"
            ]
          },
          "metadata": {},
          "execution_count": 22
        }
      ]
    },
    {
      "cell_type": "markdown",
      "metadata": {
        "id": "uN1z_9VH-QAm"
      },
      "source": [
        "Разделяем набор данных на две части: для обучения (X_Train, Y_train) и проверки (X_val, Y_val)"
      ]
    },
    {
      "cell_type": "code",
      "metadata": {
        "id": "UjEDV7gSrthA"
      },
      "source": [
        "random_seed = 2\n",
        "X_train, X_val, Y_train, Y_val = train_test_split(x_train, y_train, test_size = 0.1, random_state=random_seed)"
      ],
      "execution_count": 23,
      "outputs": []
    },
    {
      "cell_type": "code",
      "metadata": {
        "id": "LJgbvHFTT2g7",
        "outputId": "5343ab42-ecd6-45a1-9f80-2c2fdc219af6",
        "colab": {
          "base_uri": "https://localhost:8080/"
        }
      },
      "source": [
        "# форма данных обучающего набора\n",
        "X_train.shape"
      ],
      "execution_count": 24,
      "outputs": [
        {
          "output_type": "execute_result",
          "data": {
            "text/plain": [
              "(37800, 28, 28, 1)"
            ]
          },
          "metadata": {},
          "execution_count": 24
        }
      ]
    },
    {
      "cell_type": "code",
      "metadata": {
        "id": "AIUzSNALtTE5",
        "outputId": "1accfc99-407c-4f81-8100-ef8eac0dd9bb",
        "colab": {
          "base_uri": "https://localhost:8080/"
        }
      },
      "source": [
        "X_val.shape"
      ],
      "execution_count": 25,
      "outputs": [
        {
          "output_type": "execute_result",
          "data": {
            "text/plain": [
              "(4200, 28, 28, 1)"
            ]
          },
          "metadata": {},
          "execution_count": 25
        }
      ]
    },
    {
      "cell_type": "code",
      "metadata": {
        "id": "5KcvmJ5XtGOb",
        "outputId": "fcdd84ea-5d5d-4c42-94f1-f5e863bb23f5",
        "colab": {
          "base_uri": "https://localhost:8080/"
        }
      },
      "source": [
        "Y_train.shape"
      ],
      "execution_count": 26,
      "outputs": [
        {
          "output_type": "execute_result",
          "data": {
            "text/plain": [
              "(37800, 10)"
            ]
          },
          "metadata": {},
          "execution_count": 26
        }
      ]
    },
    {
      "cell_type": "code",
      "metadata": {
        "id": "gwn_lkB0tgEw",
        "outputId": "5bc13286-ee91-4254-f4d0-68f8cb38e7d0",
        "colab": {
          "base_uri": "https://localhost:8080/"
        }
      },
      "source": [
        "Y_val.shape"
      ],
      "execution_count": 27,
      "outputs": [
        {
          "output_type": "execute_result",
          "data": {
            "text/plain": [
              "(4200, 10)"
            ]
          },
          "metadata": {},
          "execution_count": 27
        }
      ]
    },
    {
      "cell_type": "markdown",
      "metadata": {
        "id": "RevEe2W06jVq"
      },
      "source": [
        "#Создаем генератор для расширения данных во время обучения\n",
        "Расширение данных реализуется  в процессе обучения за счет трансформации имеющихся данных.\n",
        "\n",
        "Для этого при обучении модели используется метод flow, который применяется к данным в datagen, которые, в свою очередь, мы пропускаем через генератор ImageDataGenerator.\n",
        "Это так называемое \"обучение на лету\".\n",
        "\n",
        "В итоге во время обучения  сеть каждый раз видит разные изображения, трансформированные случайным образом из исходных изображений за счет применения ImageDataGenerator. За счет этого и достигается расширение данных.\n",
        "\n",
        "Подробнее: см. Франсуа Шолле, 5.2. Расширение данных, с. 169"
      ]
    },
    {
      "cell_type": "code",
      "metadata": {
        "id": "pPy-7W7DqE9w"
      },
      "source": [
        "datagen = ImageDataGenerator(\n",
        "        rotation_range=10,\n",
        "        zoom_range = 0.10,\n",
        "        width_shift_range=0.1,\n",
        "        height_shift_range=0.1)"
      ],
      "execution_count": 28,
      "outputs": []
    },
    {
      "cell_type": "code",
      "metadata": {
        "id": "gV3pb3cnQIOU"
      },
      "source": [
        "# сохраним в переменную data изображение из обучающего набора X_train\n",
        "data = X_train[1]"
      ],
      "execution_count": 29,
      "outputs": []
    },
    {
      "cell_type": "code",
      "metadata": {
        "id": "OPFE3Ms0QLpS",
        "outputId": "d9760c5c-bc38-402b-bdaf-0c99c9baba76",
        "colab": {
          "base_uri": "https://localhost:8080/"
        }
      },
      "source": [
        "data.shape"
      ],
      "execution_count": 30,
      "outputs": [
        {
          "output_type": "execute_result",
          "data": {
            "text/plain": [
              "(28, 28, 1)"
            ]
          },
          "metadata": {},
          "execution_count": 30
        }
      ]
    },
    {
      "cell_type": "code",
      "metadata": {
        "id": "v5xusJJ1Q71b"
      },
      "source": [
        "# изменение формы - добавим ось на первую позицию для отображения количества изображений\n",
        "data = np.expand_dims(data, axis=0)"
      ],
      "execution_count": 31,
      "outputs": []
    },
    {
      "cell_type": "code",
      "metadata": {
        "id": "0mVMYMVMREDO",
        "outputId": "0ecd82e9-74f4-4a49-db92-9f8f3481e590",
        "colab": {
          "base_uri": "https://localhost:8080/"
        }
      },
      "source": [
        "data.shape"
      ],
      "execution_count": 32,
      "outputs": [
        {
          "output_type": "execute_result",
          "data": {
            "text/plain": [
              "(1, 28, 28, 1)"
            ]
          },
          "metadata": {},
          "execution_count": 32
        }
      ]
    },
    {
      "cell_type": "code",
      "metadata": {
        "id": "CjffjIEa67rK",
        "outputId": "220787dd-3a76-4781-a453-b9fb0b41eaf5",
        "colab": {
          "base_uri": "https://localhost:8080/",
          "height": 1000
        }
      },
      "source": [
        "# продемонстрируем работу ImageDataGenerator на примере одного изображения\n",
        "i = 0\n",
        "#data = X_train[0]\n",
        "#data = np.expand_dims(data, axis=0)\n",
        "for batch in datagen.flow(data, batch_size=1):\n",
        "    plt.figure(i)\n",
        "    imgplot = plt.imshow(batch[0][:,:,0])\n",
        "    i += 1\n",
        "    if i % 6 == 0:\n",
        "        break\n",
        "plt.show()"
      ],
      "execution_count": 33,
      "outputs": [
        {
          "output_type": "display_data",
          "data": {
            "text/plain": [
              "<Figure size 640x480 with 1 Axes>"
            ],
            "image/png": "[encoded data removed]"
          },
          "metadata": {}
        },
        {
          "output_type": "display_data",
          "data": {
            "text/plain": [
              "<Figure size 640x480 with 1 Axes>"
            ],
            "image/png": "[encoded data removed]"
          },
          "metadata": {}
        },
        {
          "output_type": "display_data",
          "data": {
            "text/plain": [
              "<Figure size 640x480 with 1 Axes>"
            ],
            "image/png": "[encoded data removed]"
          },
          "metadata": {}
        },
        {
          "output_type": "display_data",
          "data": {
            "text/plain": [
              "<Figure size 640x480 with 1 Axes>"
            ],
            "image/png": "[encoded data removed]"
          },
          "metadata": {}
        },
        {
          "output_type": "display_data",
          "data": {
            "text/plain": [
              "<Figure size 640x480 with 1 Axes>"
            ],
            "image/png": "[encoded data removed]"
          },
          "metadata": {}
        },
        {
          "output_type": "display_data",
          "data": {
            "text/plain": [
              "<Figure size 640x480 with 1 Axes>"
            ],
            "image/png": "[encoded data removed]"
          },
          "metadata": {}
        }
      ]
    },
    {
      "cell_type": "markdown",
      "metadata": {
        "id": "BmTr_lXTKNbN"
      },
      "source": [
        "## Создаем нейронную сеть"
      ]
    },
    {
      "cell_type": "markdown",
      "metadata": {
        "id": "fV_igNZuMNXe"
      },
      "source": [
        "**Создаем последовательную модель**"
      ]
    },
    {
      "cell_type": "code",
      "metadata": {
        "id": "YvRM8hR06iUt"
      },
      "source": [
        "model = Sequential()\n",
        "\n",
        "model.add(Conv2D(filters = 32, kernel_size = (5,5),padding = 'Same', activation ='relu', input_shape = (28,28,1)))\n",
        "model.add(Conv2D(filters = 32, kernel_size = (5,5),padding = 'Same', activation ='relu'))\n",
        "model.add(MaxPooling2D(pool_size=(2,2)))\n",
        "model.add(BatchNormalization())\n",
        "model.add(Dropout(0.25))\n",
        "\n",
        "\n",
        "model.add(Conv2D(filters = 64, kernel_size = (3,3),padding = 'Same', activation ='relu'))\n",
        "model.add(Conv2D(filters = 64, kernel_size = (3,3),padding = 'Same', activation ='relu'))\n",
        "model.add(MaxPooling2D(pool_size=(2,2), strides=(2,2)))\n",
        "model.add(BatchNormalization())\n",
        "model.add(Dropout(0.25))\n",
        "\n",
        "model.add(Flatten())\n",
        "model.add(Dense(128, activation = \"relu\"))\n",
        "model.add(BatchNormalization())\n",
        "model.add(Dropout(0.5))\n",
        "model.add(Dense(64, activation = \"relu\"))\n",
        "model.add(Dropout(0.5))\n",
        "model.add(Dense(10, activation = \"softmax\"))"
      ],
      "execution_count": 34,
      "outputs": []
    },
    {
      "cell_type": "markdown",
      "metadata": {
        "id": "G__m76T-KWhd"
      },
      "source": [
        "**Компилируем сеть**"
      ]
    },
    {
      "cell_type": "code",
      "metadata": {
        "id": "PTcbSxchKZjd",
        "outputId": "cd53f159-5aa1-46ea-8a54-df33a3358e07",
        "colab": {
          "base_uri": "https://localhost:8080/"
        }
      },
      "source": [
        "model.compile(loss=\"categorical_crossentropy\", optimizer=\"adam\", metrics=[\"accuracy\"])\n",
        "\n",
        "print(model.summary())"
      ],
      "execution_count": 35,
      "outputs": [
        {
          "output_type": "stream",
          "name": "stdout",
          "text": [
            "Model: \"sequential\"\n",
            "_________________________________________________________________\n",
            " Layer (type)                Output Shape              Param #   \n",
            "=================================================================\n",
            " conv2d (Conv2D)             (None, 28, 28, 32)        832       \n",
            "                                                                 \n",
            " conv2d_1 (Conv2D)           (None, 28, 28, 32)        25632     \n",
            "                                                                 \n",
            " max_pooling2d (MaxPooling2  (None, 14, 14, 32)        0         \n",
            " D)                                                              \n",
            "                                                                 \n",
            " batch_normalization (Batch  (None, 14, 14, 32)        128       \n",
            " Normalization)                                                  \n",
            "                                                                 \n",
            " dropout (Dropout)           (None, 14, 14, 32)        0         \n",
            "                                                                 \n",
            " conv2d_2 (Conv2D)           (None, 14, 14, 64)        18496     \n",
            "                                                                 \n",
            " conv2d_3 (Conv2D)           (None, 14, 14, 64)        36928     \n",
            "                                                                 \n",
            " max_pooling2d_1 (MaxPoolin  (None, 7, 7, 64)          0         \n",
            " g2D)                                                            \n",
            "                                                                 \n",
            " batch_normalization_1 (Bat  (None, 7, 7, 64)          256       \n",
            " chNormalization)                                                \n",
            "                                                                 \n",
            " dropout_1 (Dropout)         (None, 7, 7, 64)          0         \n",
            "                                                                 \n",
            " flatten (Flatten)           (None, 3136)              0         \n",
            "                                                                 \n",
            " dense (Dense)               (None, 128)               401536    \n",
            "                                                                 \n",
            " batch_normalization_2 (Bat  (None, 128)               512       \n",
            " chNormalization)                                                \n",
            "                                                                 \n",
            " dropout_2 (Dropout)         (None, 128)               0         \n",
            "                                                                 \n",
            " dense_1 (Dense)             (None, 64)                8256      \n",
            "                                                                 \n",
            " dropout_3 (Dropout)         (None, 64)                0         \n",
            "                                                                 \n",
            " dense_2 (Dense)             (None, 10)                650       \n",
            "                                                                 \n",
            "=================================================================\n",
            "Total params: 493226 (1.88 MB)\n",
            "Trainable params: 492778 (1.88 MB)\n",
            "Non-trainable params: 448 (1.75 KB)\n",
            "_________________________________________________________________\n",
            "None\n"
          ]
        }
      ]
    },
    {
      "cell_type": "markdown",
      "metadata": {
        "id": "lspCHiaCKl72"
      },
      "source": [
        "## Обучаем нейронную сеть"
      ]
    },
    {
      "cell_type": "code",
      "metadata": {
        "id": "C3JnxgJMeKbn"
      },
      "source": [
        "сheckpoint = ModelCheckpoint('mnist-cnn.h5',\n",
        "                              monitor='val_accuracy',\n",
        "                              save_best_only=True,\n",
        "                              verbose=1)"
      ],
      "execution_count": 36,
      "outputs": []
    },
    {
      "cell_type": "code",
      "metadata": {
        "id": "ZTRnbOV2dbfA"
      },
      "source": [
        "learning_rate_reduction = ReduceLROnPlateau(monitor='val_accuracy',\n",
        "                                            patience=3,\n",
        "                                            verbose=1,\n",
        "                                            factor=0.5,\n",
        "                                            min_lr=0.00001)"
      ],
      "execution_count": 37,
      "outputs": []
    },
    {
      "cell_type": "code",
      "metadata": {
        "id": "bldCePr5sUYg"
      },
      "source": [
        "batch_size= 37"
      ],
      "execution_count": 74,
      "outputs": []
    },
    {
      "cell_type": "code",
      "metadata": {
        "id": "H6EIXu1dKoju",
        "outputId": "e240e383-1722-4f1e-ea28-f5c79034f6d5",
        "colab": {
          "base_uri": "https://localhost:8080/"
        }
      },
      "source": [
        "history = model.fit(datagen.flow(X_train,Y_train, batch_size=batch_size),\n",
        "                    epochs=50,\n",
        "                    validation_data=(X_val, Y_val),\n",
        "                    steps_per_epoch=X_train.shape[0] // batch_size,\n",
        "                    verbose=1,\n",
        "                    callbacks=[сheckpoint, learning_rate_reduction])"
      ],
      "execution_count": 75,
      "outputs": [
        {
          "output_type": "stream",
          "name": "stdout",
          "text": [
            "Epoch 1/50\n",
            "1018/1021 [============================>.] - ETA: 0s - loss: 0.0514 - accuracy: 0.9870\n",
            "Epoch 1: val_accuracy did not improve from 0.99571\n",
            "1021/1021 [==============================] - 20s 20ms/step - loss: 0.0515 - accuracy: 0.9870 - val_loss: 0.0180 - val_accuracy: 0.9950 - lr: 5.0000e-04\n",
            "Epoch 2/50\n",
            "1019/1021 [============================>.] - ETA: 0s - loss: 0.0462 - accuracy: 0.9878\n",
            "Epoch 2: val_accuracy did not improve from 0.99571\n",
            "1021/1021 [==============================] - 19s 19ms/step - loss: 0.0462 - accuracy: 0.9878 - val_loss: 0.0158 - val_accuracy: 0.9957 - lr: 5.0000e-04\n",
            "Epoch 3/50\n",
            "1020/1021 [============================>.] - ETA: 0s - loss: 0.0459 - accuracy: 0.9882\n",
            "Epoch 3: val_accuracy did not improve from 0.99571\n",
            "1021/1021 [==============================] - 20s 19ms/step - loss: 0.0459 - accuracy: 0.9882 - val_loss: 0.0185 - val_accuracy: 0.9957 - lr: 5.0000e-04\n",
            "Epoch 4/50\n",
            "1019/1021 [============================>.] - ETA: 0s - loss: 0.0492 - accuracy: 0.9877\n",
            "Epoch 4: val_accuracy did not improve from 0.99571\n",
            "1021/1021 [==============================] - 20s 20ms/step - loss: 0.0492 - accuracy: 0.9877 - val_loss: 0.0222 - val_accuracy: 0.9931 - lr: 5.0000e-04\n",
            "Epoch 5/50\n",
            "1021/1021 [==============================] - ETA: 0s - loss: 0.0473 - accuracy: 0.9876\n",
            "Epoch 5: val_accuracy did not improve from 0.99571\n",
            "\n",
            "Epoch 5: ReduceLROnPlateau reducing learning rate to 0.0002500000118743628.\n",
            "1021/1021 [==============================] - 21s 20ms/step - loss: 0.0473 - accuracy: 0.9876 - val_loss: 0.0180 - val_accuracy: 0.9948 - lr: 5.0000e-04\n",
            "Epoch 6/50\n",
            "1019/1021 [============================>.] - ETA: 0s - loss: 0.0386 - accuracy: 0.9901\n",
            "Epoch 6: val_accuracy did not improve from 0.99571\n",
            "1021/1021 [==============================] - 20s 20ms/step - loss: 0.0386 - accuracy: 0.9901 - val_loss: 0.0181 - val_accuracy: 0.9955 - lr: 2.5000e-04\n",
            "Epoch 7/50\n",
            "1020/1021 [============================>.] - ETA: 0s - loss: 0.0395 - accuracy: 0.9899\n",
            "Epoch 7: val_accuracy did not improve from 0.99571\n",
            "1021/1021 [==============================] - 21s 20ms/step - loss: 0.0395 - accuracy: 0.9899 - val_loss: 0.0189 - val_accuracy: 0.9940 - lr: 2.5000e-04\n",
            "Epoch 8/50\n",
            "1020/1021 [============================>.] - ETA: 0s - loss: 0.0400 - accuracy: 0.9898\n",
            "Epoch 8: val_accuracy did not improve from 0.99571\n",
            "\n",
            "Epoch 8: ReduceLROnPlateau reducing learning rate to 0.0001250000059371814.\n",
            "1021/1021 [==============================] - 20s 20ms/step - loss: 0.0399 - accuracy: 0.9899 - val_loss: 0.0147 - val_accuracy: 0.9957 - lr: 2.5000e-04\n",
            "Epoch 9/50\n",
            "1018/1021 [============================>.] - ETA: 0s - loss: 0.0333 - accuracy: 0.9915\n",
            "Epoch 9: val_accuracy did not improve from 0.99571\n",
            "1021/1021 [==============================] - 21s 20ms/step - loss: 0.0333 - accuracy: 0.9914 - val_loss: 0.0151 - val_accuracy: 0.9955 - lr: 1.2500e-04\n",
            "Epoch 10/50\n",
            "1020/1021 [============================>.] - ETA: 0s - loss: 0.0352 - accuracy: 0.9913\n",
            "Epoch 10: val_accuracy improved from 0.99571 to 0.99619, saving model to mnist-cnn.h5\n",
            "1021/1021 [==============================] - 20s 20ms/step - loss: 0.0352 - accuracy: 0.9913 - val_loss: 0.0143 - val_accuracy: 0.9962 - lr: 1.2500e-04\n",
            "Epoch 11/50\n",
            "1018/1021 [============================>.] - ETA: 0s - loss: 0.0325 - accuracy: 0.9916\n",
            "Epoch 11: val_accuracy did not improve from 0.99619\n",
            "1021/1021 [==============================] - 20s 20ms/step - loss: 0.0324 - accuracy: 0.9916 - val_loss: 0.0138 - val_accuracy: 0.9960 - lr: 1.2500e-04\n",
            "Epoch 12/50\n",
            "1018/1021 [============================>.] - ETA: 0s - loss: 0.0339 - accuracy: 0.9910\n",
            "Epoch 12: val_accuracy did not improve from 0.99619\n",
            "1021/1021 [==============================] - 21s 20ms/step - loss: 0.0338 - accuracy: 0.9910 - val_loss: 0.0154 - val_accuracy: 0.9957 - lr: 1.2500e-04\n",
            "Epoch 13/50\n",
            "1020/1021 [============================>.] - ETA: 0s - loss: 0.0350 - accuracy: 0.9914\n",
            "Epoch 13: val_accuracy did not improve from 0.99619\n",
            "\n",
            "Epoch 13: ReduceLROnPlateau reducing learning rate to 6.25000029685907e-05.\n",
            "1021/1021 [==============================] - 20s 20ms/step - loss: 0.0350 - accuracy: 0.9914 - val_loss: 0.0150 - val_accuracy: 0.9960 - lr: 1.2500e-04\n",
            "Epoch 14/50\n",
            "1018/1021 [============================>.] - ETA: 0s - loss: 0.0327 - accuracy: 0.9915\n",
            "Epoch 14: val_accuracy did not improve from 0.99619\n",
            "1021/1021 [==============================] - 20s 19ms/step - loss: 0.0326 - accuracy: 0.9915 - val_loss: 0.0160 - val_accuracy: 0.9957 - lr: 6.2500e-05\n",
            "Epoch 15/50\n",
            "1019/1021 [============================>.] - ETA: 0s - loss: 0.0303 - accuracy: 0.9920\n",
            "Epoch 15: val_accuracy did not improve from 0.99619\n",
            "1021/1021 [==============================] - 20s 20ms/step - loss: 0.0303 - accuracy: 0.9920 - val_loss: 0.0170 - val_accuracy: 0.9960 - lr: 6.2500e-05\n",
            "Epoch 16/50\n",
            "1019/1021 [============================>.] - ETA: 0s - loss: 0.0294 - accuracy: 0.9916\n",
            "Epoch 16: val_accuracy did not improve from 0.99619\n",
            "\n",
            "Epoch 16: ReduceLROnPlateau reducing learning rate to 3.125000148429535e-05.\n",
            "1021/1021 [==============================] - 20s 19ms/step - loss: 0.0293 - accuracy: 0.9916 - val_loss: 0.0160 - val_accuracy: 0.9962 - lr: 6.2500e-05\n",
            "Epoch 17/50\n",
            "1020/1021 [============================>.] - ETA: 0s - loss: 0.0315 - accuracy: 0.9923\n",
            "Epoch 17: val_accuracy did not improve from 0.99619\n",
            "1021/1021 [==============================] - 21s 20ms/step - loss: 0.0315 - accuracy: 0.9923 - val_loss: 0.0157 - val_accuracy: 0.9960 - lr: 3.1250e-05\n",
            "Epoch 18/50\n",
            "1019/1021 [============================>.] - ETA: 0s - loss: 0.0304 - accuracy: 0.9919\n",
            "Epoch 18: val_accuracy did not improve from 0.99619\n",
            "1021/1021 [==============================] - 20s 20ms/step - loss: 0.0304 - accuracy: 0.9919 - val_loss: 0.0152 - val_accuracy: 0.9962 - lr: 3.1250e-05\n",
            "Epoch 19/50\n",
            "1020/1021 [============================>.] - ETA: 0s - loss: 0.0276 - accuracy: 0.9928\n",
            "Epoch 19: val_accuracy did not improve from 0.99619\n",
            "\n",
            "Epoch 19: ReduceLROnPlateau reducing learning rate to 1.5625000742147677e-05.\n",
            "1021/1021 [==============================] - 20s 20ms/step - loss: 0.0276 - accuracy: 0.9928 - val_loss: 0.0152 - val_accuracy: 0.9957 - lr: 3.1250e-05\n",
            "Epoch 20/50\n",
            "1020/1021 [============================>.] - ETA: 0s - loss: 0.0326 - accuracy: 0.9915\n",
            "Epoch 20: val_accuracy did not improve from 0.99619\n",
            "1021/1021 [==============================] - 21s 20ms/step - loss: 0.0326 - accuracy: 0.9915 - val_loss: 0.0155 - val_accuracy: 0.9960 - lr: 1.5625e-05\n",
            "Epoch 21/50\n",
            "1021/1021 [==============================] - ETA: 0s - loss: 0.0311 - accuracy: 0.9925\n",
            "Epoch 21: val_accuracy did not improve from 0.99619\n",
            "1021/1021 [==============================] - 21s 20ms/step - loss: 0.0311 - accuracy: 0.9925 - val_loss: 0.0156 - val_accuracy: 0.9957 - lr: 1.5625e-05\n",
            "Epoch 22/50\n",
            "1018/1021 [============================>.] - ETA: 0s - loss: 0.0316 - accuracy: 0.9921\n",
            "Epoch 22: val_accuracy did not improve from 0.99619\n",
            "\n",
            "Epoch 22: ReduceLROnPlateau reducing learning rate to 1e-05.\n",
            "1021/1021 [==============================] - 20s 20ms/step - loss: 0.0317 - accuracy: 0.9921 - val_loss: 0.0151 - val_accuracy: 0.9957 - lr: 1.5625e-05\n",
            "Epoch 23/50\n",
            "1021/1021 [==============================] - ETA: 0s - loss: 0.0285 - accuracy: 0.9929\n",
            "Epoch 23: val_accuracy did not improve from 0.99619\n",
            "1021/1021 [==============================] - 21s 20ms/step - loss: 0.0285 - accuracy: 0.9929 - val_loss: 0.0149 - val_accuracy: 0.9960 - lr: 1.0000e-05\n",
            "Epoch 24/50\n",
            "1021/1021 [==============================] - ETA: 0s - loss: 0.0313 - accuracy: 0.9920\n",
            "Epoch 24: val_accuracy did not improve from 0.99619\n",
            "1021/1021 [==============================] - 20s 20ms/step - loss: 0.0313 - accuracy: 0.9920 - val_loss: 0.0158 - val_accuracy: 0.9960 - lr: 1.0000e-05\n",
            "Epoch 25/50\n",
            "1021/1021 [==============================] - ETA: 0s - loss: 0.0308 - accuracy: 0.9921\n",
            "Epoch 25: val_accuracy did not improve from 0.99619\n",
            "1021/1021 [==============================] - 19s 18ms/step - loss: 0.0308 - accuracy: 0.9921 - val_loss: 0.0150 - val_accuracy: 0.9962 - lr: 1.0000e-05\n",
            "Epoch 26/50\n",
            "1020/1021 [============================>.] - ETA: 0s - loss: 0.0313 - accuracy: 0.9920\n",
            "Epoch 26: val_accuracy did not improve from 0.99619\n",
            "1021/1021 [==============================] - 20s 20ms/step - loss: 0.0313 - accuracy: 0.9920 - val_loss: 0.0162 - val_accuracy: 0.9957 - lr: 1.0000e-05\n",
            "Epoch 27/50\n",
            "1019/1021 [============================>.] - ETA: 0s - loss: 0.0281 - accuracy: 0.9924\n",
            "Epoch 27: val_accuracy did not improve from 0.99619\n",
            "1021/1021 [==============================] - 19s 19ms/step - loss: 0.0281 - accuracy: 0.9924 - val_loss: 0.0162 - val_accuracy: 0.9962 - lr: 1.0000e-05\n",
            "Epoch 28/50\n",
            "1020/1021 [============================>.] - ETA: 0s - loss: 0.0283 - accuracy: 0.9928\n",
            "Epoch 28: val_accuracy did not improve from 0.99619\n",
            "1021/1021 [==============================] - 20s 20ms/step - loss: 0.0283 - accuracy: 0.9928 - val_loss: 0.0159 - val_accuracy: 0.9960 - lr: 1.0000e-05\n",
            "Epoch 29/50\n",
            "1021/1021 [==============================] - ETA: 0s - loss: 0.0302 - accuracy: 0.9922\n",
            "Epoch 29: val_accuracy did not improve from 0.99619\n",
            "1021/1021 [==============================] - 22s 21ms/step - loss: 0.0302 - accuracy: 0.9922 - val_loss: 0.0157 - val_accuracy: 0.9957 - lr: 1.0000e-05\n",
            "Epoch 30/50\n",
            "1019/1021 [============================>.] - ETA: 0s - loss: 0.0308 - accuracy: 0.9919\n",
            "Epoch 30: val_accuracy did not improve from 0.99619\n",
            "1021/1021 [==============================] - 21s 20ms/step - loss: 0.0307 - accuracy: 0.9919 - val_loss: 0.0154 - val_accuracy: 0.9960 - lr: 1.0000e-05\n",
            "Epoch 31/50\n",
            "1021/1021 [==============================] - ETA: 0s - loss: 0.0300 - accuracy: 0.9916\n",
            "Epoch 31: val_accuracy did not improve from 0.99619\n",
            "1021/1021 [==============================] - 19s 19ms/step - loss: 0.0300 - accuracy: 0.9916 - val_loss: 0.0158 - val_accuracy: 0.9960 - lr: 1.0000e-05\n",
            "Epoch 32/50\n",
            "1021/1021 [==============================] - ETA: 0s - loss: 0.0274 - accuracy: 0.9925\n",
            "Epoch 32: val_accuracy did not improve from 0.99619\n",
            "1021/1021 [==============================] - 20s 19ms/step - loss: 0.0274 - accuracy: 0.9925 - val_loss: 0.0154 - val_accuracy: 0.9960 - lr: 1.0000e-05\n",
            "Epoch 33/50\n",
            "1020/1021 [============================>.] - ETA: 0s - loss: 0.0274 - accuracy: 0.9926\n",
            "Epoch 33: val_accuracy did not improve from 0.99619\n",
            "1021/1021 [==============================] - 20s 20ms/step - loss: 0.0274 - accuracy: 0.9926 - val_loss: 0.0153 - val_accuracy: 0.9960 - lr: 1.0000e-05\n",
            "Epoch 34/50\n",
            "1020/1021 [============================>.] - ETA: 0s - loss: 0.0303 - accuracy: 0.9923\n",
            "Epoch 34: val_accuracy did not improve from 0.99619\n",
            "1021/1021 [==============================] - 21s 20ms/step - loss: 0.0303 - accuracy: 0.9923 - val_loss: 0.0153 - val_accuracy: 0.9962 - lr: 1.0000e-05\n",
            "Epoch 35/50\n",
            "1020/1021 [============================>.] - ETA: 0s - loss: 0.0275 - accuracy: 0.9930\n",
            "Epoch 35: val_accuracy did not improve from 0.99619\n",
            "1021/1021 [==============================] - 21s 20ms/step - loss: 0.0275 - accuracy: 0.9930 - val_loss: 0.0155 - val_accuracy: 0.9962 - lr: 1.0000e-05\n",
            "Epoch 36/50\n",
            "1020/1021 [============================>.] - ETA: 0s - loss: 0.0300 - accuracy: 0.9926\n",
            "Epoch 36: val_accuracy did not improve from 0.99619\n",
            "1021/1021 [==============================] - 20s 19ms/step - loss: 0.0300 - accuracy: 0.9925 - val_loss: 0.0156 - val_accuracy: 0.9957 - lr: 1.0000e-05\n",
            "Epoch 37/50\n",
            "1021/1021 [==============================] - ETA: 0s - loss: 0.0285 - accuracy: 0.9929\n",
            "Epoch 37: val_accuracy did not improve from 0.99619\n",
            "1021/1021 [==============================] - 19s 19ms/step - loss: 0.0285 - accuracy: 0.9929 - val_loss: 0.0159 - val_accuracy: 0.9957 - lr: 1.0000e-05\n",
            "Epoch 38/50\n",
            "1021/1021 [==============================] - ETA: 0s - loss: 0.0289 - accuracy: 0.9924\n",
            "Epoch 38: val_accuracy did not improve from 0.99619\n",
            "1021/1021 [==============================] - 20s 20ms/step - loss: 0.0289 - accuracy: 0.9924 - val_loss: 0.0154 - val_accuracy: 0.9957 - lr: 1.0000e-05\n",
            "Epoch 39/50\n",
            "1018/1021 [============================>.] - ETA: 0s - loss: 0.0322 - accuracy: 0.9917\n",
            "Epoch 39: val_accuracy did not improve from 0.99619\n",
            "1021/1021 [==============================] - 20s 19ms/step - loss: 0.0322 - accuracy: 0.9917 - val_loss: 0.0151 - val_accuracy: 0.9957 - lr: 1.0000e-05\n",
            "Epoch 40/50\n",
            "1020/1021 [============================>.] - ETA: 0s - loss: 0.0300 - accuracy: 0.9924\n",
            "Epoch 40: val_accuracy did not improve from 0.99619\n",
            "1021/1021 [==============================] - 21s 21ms/step - loss: 0.0301 - accuracy: 0.9923 - val_loss: 0.0154 - val_accuracy: 0.9957 - lr: 1.0000e-05\n",
            "Epoch 41/50\n",
            "1020/1021 [============================>.] - ETA: 0s - loss: 0.0280 - accuracy: 0.9926\n",
            "Epoch 41: val_accuracy did not improve from 0.99619\n",
            "1021/1021 [==============================] - 20s 19ms/step - loss: 0.0281 - accuracy: 0.9925 - val_loss: 0.0154 - val_accuracy: 0.9960 - lr: 1.0000e-05\n",
            "Epoch 42/50\n",
            "1019/1021 [============================>.] - ETA: 0s - loss: 0.0321 - accuracy: 0.9926\n",
            "Epoch 42: val_accuracy did not improve from 0.99619\n",
            "1021/1021 [==============================] - 21s 21ms/step - loss: 0.0321 - accuracy: 0.9926 - val_loss: 0.0155 - val_accuracy: 0.9960 - lr: 1.0000e-05\n",
            "Epoch 43/50\n",
            "1020/1021 [============================>.] - ETA: 0s - loss: 0.0304 - accuracy: 0.9922\n",
            "Epoch 43: val_accuracy did not improve from 0.99619\n",
            "1021/1021 [==============================] - 20s 19ms/step - loss: 0.0304 - accuracy: 0.9922 - val_loss: 0.0155 - val_accuracy: 0.9962 - lr: 1.0000e-05\n",
            "Epoch 44/50\n",
            "1021/1021 [==============================] - ETA: 0s - loss: 0.0276 - accuracy: 0.9927\n",
            "Epoch 44: val_accuracy did not improve from 0.99619\n",
            "1021/1021 [==============================] - 20s 19ms/step - loss: 0.0276 - accuracy: 0.9927 - val_loss: 0.0156 - val_accuracy: 0.9960 - lr: 1.0000e-05\n",
            "Epoch 45/50\n",
            "1021/1021 [==============================] - ETA: 0s - loss: 0.0277 - accuracy: 0.9927\n",
            "Epoch 45: val_accuracy improved from 0.99619 to 0.99643, saving model to mnist-cnn.h5\n",
            "1021/1021 [==============================] - 20s 20ms/step - loss: 0.0277 - accuracy: 0.9927 - val_loss: 0.0154 - val_accuracy: 0.9964 - lr: 1.0000e-05\n",
            "Epoch 46/50\n",
            "1019/1021 [============================>.] - ETA: 0s - loss: 0.0309 - accuracy: 0.9919\n",
            "Epoch 46: val_accuracy did not improve from 0.99643\n",
            "1021/1021 [==============================] - 20s 19ms/step - loss: 0.0309 - accuracy: 0.9919 - val_loss: 0.0152 - val_accuracy: 0.9962 - lr: 1.0000e-05\n",
            "Epoch 47/50\n",
            "1020/1021 [============================>.] - ETA: 0s - loss: 0.0294 - accuracy: 0.9923\n",
            "Epoch 47: val_accuracy did not improve from 0.99643\n",
            "1021/1021 [==============================] - 21s 20ms/step - loss: 0.0294 - accuracy: 0.9923 - val_loss: 0.0152 - val_accuracy: 0.9960 - lr: 1.0000e-05\n",
            "Epoch 48/50\n",
            "1020/1021 [============================>.] - ETA: 0s - loss: 0.0289 - accuracy: 0.9926\n",
            "Epoch 48: val_accuracy did not improve from 0.99643\n",
            "1021/1021 [==============================] - 20s 19ms/step - loss: 0.0289 - accuracy: 0.9926 - val_loss: 0.0154 - val_accuracy: 0.9960 - lr: 1.0000e-05\n",
            "Epoch 49/50\n",
            "1019/1021 [============================>.] - ETA: 0s - loss: 0.0270 - accuracy: 0.9930\n",
            "Epoch 49: val_accuracy did not improve from 0.99643\n",
            "1021/1021 [==============================] - 20s 20ms/step - loss: 0.0272 - accuracy: 0.9930 - val_loss: 0.0154 - val_accuracy: 0.9962 - lr: 1.0000e-05\n",
            "Epoch 50/50\n",
            "1020/1021 [============================>.] - ETA: 0s - loss: 0.0275 - accuracy: 0.9926\n",
            "Epoch 50: val_accuracy did not improve from 0.99643\n",
            "1021/1021 [==============================] - 20s 20ms/step - loss: 0.0275 - accuracy: 0.9926 - val_loss: 0.0152 - val_accuracy: 0.9962 - lr: 1.0000e-05\n"
          ]
        }
      ]
    },
    {
      "cell_type": "code",
      "metadata": {
        "id": "miePM2tefyzO"
      },
      "source": [
        "model.load_weights('mnist-cnn.h5')"
      ],
      "execution_count": 76,
      "outputs": []
    },
    {
      "cell_type": "code",
      "metadata": {
        "id": "d2lsZh-0yDG1",
        "outputId": "1d65195a-5209-4b39-993a-fad9746843af",
        "colab": {
          "base_uri": "https://localhost:8080/"
        }
      },
      "source": [
        "history.history.keys()"
      ],
      "execution_count": 77,
      "outputs": [
        {
          "output_type": "execute_result",
          "data": {
            "text/plain": [
              "dict_keys(['loss', 'accuracy', 'val_loss', 'val_accuracy', 'lr'])"
            ]
          },
          "metadata": {},
          "execution_count": 77
        }
      ]
    },
    {
      "cell_type": "code",
      "metadata": {
        "id": "6biHc_a8yVuB",
        "outputId": "abcd6578-3b2e-45dc-db51-d548fab007fe",
        "colab": {
          "base_uri": "https://localhost:8080/"
        }
      },
      "source": [
        "history.history['val_accuracy']"
      ],
      "execution_count": 78,
      "outputs": [
        {
          "output_type": "execute_result",
          "data": {
            "text/plain": [
              "[0.9950000047683716,\n",
              " 0.9957143068313599,\n",
              " 0.9957143068313599,\n",
              " 0.9930952191352844,\n",
              " 0.9947618842124939,\n",
              " 0.9954761862754822,\n",
              " 0.9940476417541504,\n",
              " 0.9957143068313599,\n",
              " 0.9954761862754822,\n",
              " 0.9961904883384705,\n",
              " 0.9959523677825928,\n",
              " 0.9957143068313599,\n",
              " 0.9959523677825928,\n",
              " 0.9957143068313599,\n",
              " 0.9959523677825928,\n",
              " 0.9961904883384705,\n",
              " 0.9959523677825928,\n",
              " 0.9961904883384705,\n",
              " 0.9957143068313599,\n",
              " 0.9959523677825928,\n",
              " 0.9957143068313599,\n",
              " 0.9957143068313599,\n",
              " 0.9959523677825928,\n",
              " 0.9959523677825928,\n",
              " 0.9961904883384705,\n",
              " 0.9957143068313599,\n",
              " 0.9961904883384705,\n",
              " 0.9959523677825928,\n",
              " 0.9957143068313599,\n",
              " 0.9959523677825928,\n",
              " 0.9959523677825928,\n",
              " 0.9959523677825928,\n",
              " 0.9959523677825928,\n",
              " 0.9961904883384705,\n",
              " 0.9961904883384705,\n",
              " 0.9957143068313599,\n",
              " 0.9957143068313599,\n",
              " 0.9957143068313599,\n",
              " 0.9957143068313599,\n",
              " 0.9957143068313599,\n",
              " 0.9959523677825928,\n",
              " 0.9959523677825928,\n",
              " 0.9961904883384705,\n",
              " 0.9959523677825928,\n",
              " 0.9964285492897034,\n",
              " 0.9961904883384705,\n",
              " 0.9959523677825928,\n",
              " 0.9959523677825928,\n",
              " 0.9961904883384705,\n",
              " 0.9961904883384705]"
            ]
          },
          "metadata": {},
          "execution_count": 78
        }
      ]
    },
    {
      "cell_type": "code",
      "metadata": {
        "id": "MZcUdW6dytXB",
        "outputId": "bf8fd9ad-8e8d-4b8f-a642-b109dbc8d116",
        "colab": {
          "base_uri": "https://localhost:8080/"
        }
      },
      "source": [
        "max(history.history['val_accuracy'])"
      ],
      "execution_count": 79,
      "outputs": [
        {
          "output_type": "execute_result",
          "data": {
            "text/plain": [
              "0.9964285492897034"
            ]
          },
          "metadata": {},
          "execution_count": 79
        }
      ]
    },
    {
      "cell_type": "markdown",
      "metadata": {
        "id": "wYhse8xmmdS5"
      },
      "source": [
        "## Визуализация качества обучения\n"
      ]
    },
    {
      "cell_type": "code",
      "metadata": {
        "id": "ty0iVxcXmgHt",
        "outputId": "751e686a-659e-447f-d9af-d74d635cb5ee",
        "colab": {
          "base_uri": "https://localhost:8080/",
          "height": 449
        }
      },
      "source": [
        "plt.plot(history.history['accuracy'],\n",
        "         label='Доля верных ответов на обучающем наборе')\n",
        "plt.plot(history.history['val_accuracy'],\n",
        "         label='Доля верных ответов на проверочном наборе')\n",
        "plt.xlabel('Эпоха обучения')\n",
        "plt.ylabel('Доля верных ответов')\n",
        "plt.legend()\n",
        "plt.show()"
      ],
      "execution_count": 80,
      "outputs": [
        {
          "output_type": "display_data",
          "data": {
            "text/plain": [
              "<Figure size 640x480 with 1 Axes>"
            ],
            "image/png": "[encoded data removed]"
          },
          "metadata": {}
        }
      ]
    },
    {
      "cell_type": "markdown",
      "metadata": {
        "id": "_rQbSXc0CwSQ"
      },
      "source": [
        "## Загружаем данные для распознавания"
      ]
    },
    {
      "cell_type": "code",
      "metadata": {
        "id": "lw4F0rCbC0HA"
      },
      "source": [
        "test_dataset = np.loadtxt('test.csv', skiprows=1, delimiter=\",\")"
      ],
      "execution_count": 81,
      "outputs": []
    },
    {
      "cell_type": "code",
      "metadata": {
        "id": "-Qaa-wwCDJxQ",
        "outputId": "fa8f667a-a86d-40e2-b9fa-5259ee98ce96",
        "colab": {
          "base_uri": "https://localhost:8080/"
        }
      },
      "source": [
        "test_dataset[:5]"
      ],
      "execution_count": 82,
      "outputs": [
        {
          "output_type": "execute_result",
          "data": {
            "text/plain": [
              "array([[0., 0., 0., ..., 0., 0., 0.],\n",
              "       [0., 0., 0., ..., 0., 0., 0.],\n",
              "       [0., 0., 0., ..., 0., 0., 0.],\n",
              "       [0., 0., 0., ..., 0., 0., 0.],\n",
              "       [0., 0., 0., ..., 0., 0., 0.]])"
            ]
          },
          "metadata": {},
          "execution_count": 82
        }
      ]
    },
    {
      "cell_type": "code",
      "metadata": {
        "id": "KtCMLgC7Y53H"
      },
      "source": [
        "x_test = test_dataset.reshape(test_dataset.shape[0], 28, 28, 1)"
      ],
      "execution_count": 83,
      "outputs": []
    },
    {
      "cell_type": "markdown",
      "metadata": {
        "id": "2edLWqi-DV8v"
      },
      "source": [
        "Нормализация данных"
      ]
    },
    {
      "cell_type": "code",
      "metadata": {
        "id": "lKKDMHoCDYKH"
      },
      "source": [
        "x_test = x_test / 255.0"
      ],
      "execution_count": 84,
      "outputs": []
    },
    {
      "cell_type": "markdown",
      "metadata": {
        "id": "nCDrYOZVD8LS"
      },
      "source": [
        "## Запускаем распознавание рукописных цифр из тестового набора данных"
      ]
    },
    {
      "cell_type": "code",
      "metadata": {
        "id": "hkGx6etOEHW3",
        "colab": {
          "base_uri": "https://localhost:8080/"
        },
        "outputId": "f1044047-feef-4ced-f2af-072ac7e0d760"
      },
      "source": [
        "predictions = model.predict(x_test)"
      ],
      "execution_count": 85,
      "outputs": [
        {
          "output_type": "stream",
          "name": "stdout",
          "text": [
            "875/875 [==============================] - 2s 2ms/step\n"
          ]
        }
      ]
    },
    {
      "cell_type": "code",
      "metadata": {
        "id": "KpjMktszEOHX",
        "outputId": "39265791-0c11-491a-985a-ae8870dddda4",
        "colab": {
          "base_uri": "https://localhost:8080/"
        }
      },
      "source": [
        "predictions[:3]"
      ],
      "execution_count": 86,
      "outputs": [
        {
          "output_type": "execute_result",
          "data": {
            "text/plain": [
              "array([[1.4828157e-17, 3.9835778e-13, 1.0000000e+00, 1.1634084e-11,\n",
              "        4.9207622e-16, 3.4974382e-20, 1.5576588e-15, 2.7769544e-11,\n",
              "        1.0812904e-12, 2.6698895e-14],\n",
              "       [1.0000000e+00, 1.3176018e-13, 1.4580281e-11, 4.8715182e-13,\n",
              "        1.2636370e-14, 4.6846181e-12, 1.7022203e-10, 6.2579689e-13,\n",
              "        1.0596571e-11, 1.0157838e-09],\n",
              "       [8.4028826e-14, 6.4036775e-15, 9.5062880e-14, 5.3577065e-10,\n",
              "        8.4363272e-08, 5.0646323e-12, 3.1029424e-15, 1.0295893e-10,\n",
              "        1.7644377e-09, 9.9999988e-01]], dtype=float32)"
            ]
          },
          "metadata": {},
          "execution_count": 86
        }
      ]
    },
    {
      "cell_type": "markdown",
      "metadata": {
        "id": "hxmUUZFeES83"
      },
      "source": [
        "Преобразуем результаты распознавания из формата one hot encoding в цифры"
      ]
    },
    {
      "cell_type": "code",
      "metadata": {
        "id": "9zXRff8tEZcw"
      },
      "source": [
        "predictions = np.argmax(predictions, axis=1)"
      ],
      "execution_count": 87,
      "outputs": []
    },
    {
      "cell_type": "code",
      "metadata": {
        "id": "I4JBXf1lEev6",
        "outputId": "c30ac00b-ef82-4b74-9f49-1b18129ddc70",
        "colab": {
          "base_uri": "https://localhost:8080/"
        }
      },
      "source": [
        "predictions[:3]"
      ],
      "execution_count": 88,
      "outputs": [
        {
          "output_type": "execute_result",
          "data": {
            "text/plain": [
              "array([2, 0, 9])"
            ]
          },
          "metadata": {},
          "execution_count": 88
        }
      ]
    },
    {
      "cell_type": "markdown",
      "metadata": {
        "id": "xYh4TAz4Ei3p"
      },
      "source": [
        "### Готовим файл с решением для Kaggle"
      ]
    },
    {
      "cell_type": "code",
      "metadata": {
        "id": "ciJZLp7uEn5p"
      },
      "source": [
        "out = np.column_stack((range(1, predictions.shape[0]+1), predictions))"
      ],
      "execution_count": 89,
      "outputs": []
    },
    {
      "cell_type": "code",
      "metadata": {
        "id": "fbtqv-c7FH8S",
        "outputId": "e1c86091-9aad-4e1f-a169-c269caaf4ac8",
        "colab": {
          "base_uri": "https://localhost:8080/"
        }
      },
      "source": [
        "out[:5]"
      ],
      "execution_count": 90,
      "outputs": [
        {
          "output_type": "execute_result",
          "data": {
            "text/plain": [
              "array([[1, 2],\n",
              "       [2, 0],\n",
              "       [3, 9],\n",
              "       [4, 0],\n",
              "       [5, 3]])"
            ]
          },
          "metadata": {},
          "execution_count": 90
        }
      ]
    },
    {
      "cell_type": "markdown",
      "metadata": {
        "id": "Njg9BTZUFSDx"
      },
      "source": [
        "Записываем результаты в файл"
      ]
    },
    {
      "cell_type": "code",
      "metadata": {
        "id": "aub5ObF2FUmy"
      },
      "source": [
        "np.savetxt('submission.csv', out, header=\"ImageId,Label\",\n",
        "            comments=\"\", fmt=\"%d,%d\")"
      ],
      "execution_count": 91,
      "outputs": []
    },
    {
      "cell_type": "code",
      "metadata": {
        "id": "kdtnyQEOFX-x",
        "outputId": "e1e86e33-dc17-4ed0-d15c-78db2efc7702",
        "colab": {
          "base_uri": "https://localhost:8080/"
        }
      },
      "source": [
        "!head submission.csv"
      ],
      "execution_count": 92,
      "outputs": [
        {
          "output_type": "stream",
          "name": "stdout",
          "text": [
            "ImageId,Label\n",
            "1,2\n",
            "2,0\n",
            "3,9\n",
            "4,0\n",
            "5,3\n",
            "6,7\n",
            "7,0\n",
            "8,3\n",
            "9,0\n"
          ]
        }
      ]
    },
    {
      "cell_type": "markdown",
      "metadata": {
        "id": "RTk-9CAxF0_5"
      },
      "source": [
        "## Отправляем решение на соревнование"
      ]
    },
    {
      "cell_type": "code",
      "metadata": {
        "id": "26Ij7aJXF5fo",
        "outputId": "c5f24096-2c5a-4b15-a00f-450966fbf338",
        "colab": {
          "base_uri": "https://localhost:8080/"
        }
      },
      "source": [
        "!kaggle competitions submit -c digit-recognizer -m \"Submition from Colab\" -f submission.csv"
      ],
      "execution_count": 93,
      "outputs": [
        {
          "output_type": "stream",
          "name": "stdout",
          "text": [
            "100% 208k/208k [00:02<00:00, 72.8kB/s]\n",
            "Successfully submitted to Digit Recognizer"
          ]
        }
      ]
    },
    {
      "cell_type": "markdown",
      "source": [
        "![image.png](data:image/png;base64,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)"
      ],
      "metadata": {
        "id": "agCbkpAQXhb_"
      }
    },
    {
      "cell_type": "markdown",
      "metadata": {
        "id": "gIJT5NgP1Fdo"
      },
      "source": [
        "# ***Рекомендуем почитать\n",
        "Как правильно «фармить» Kaggle\n",
        "https://habr.com/ru/company/ods/blog/426227/\n"
      ]
    }
  ]
}