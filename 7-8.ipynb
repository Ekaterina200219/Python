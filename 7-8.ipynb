{
 "cells": [
  {
   "cell_type": "markdown",
   "id": "a1857891",
   "metadata": {},
   "source": [
    "# Файлы и исключения"
   ]
  },
  {
   "cell_type": "markdown",
   "id": "74f0285b",
   "metadata": {},
   "source": [
    "149\n",
    "\n",
    "В операционных системах на базе Unix обычно присутствует утилита с названием head. Она выводит первые десять строк содержимого файла, имя которого передается в качестве аргумента командной строки. Напишите программу на Python, имитирующую поведение этой утилиты. Если файла, указанного пользователем, не существует, или не задан аргумент\n",
    "командной строки, необходимо вывести соответствующее сообщение об ошибке."
   ]
  },
  {
   "cell_type": "code",
   "execution_count": 1,
   "id": "6f4821cd",
   "metadata": {},
   "outputs": [
    {
     "name": "stdout",
     "output_type": "stream",
     "text": [
      "Передайте имя файла в качестве аргумента командной строки.\n",
      "ena\n",
      "conf thostn Switch-4int range e0/0-1 sw tr e d\n",
      "switchport mode trunk exit\n",
      "vtp domain ikbsp.ru vtp password 12345\n",
      "vtp version 3 vtp mode client\n",
      "int e1/2  description \"PC-26\"\n",
      "switchport mode access switchport access vlan 40 int range e0/2-3, e1/0\n",
      "switchport mode access switchport access vlan 50 exit\n",
      "int e0/0  description \"To Switch-3\"\n",
      "int e0/1 description \"To Switch-5\"\n"
     ]
    }
   ],
   "source": [
    "import sys\n",
    "NUM_LINES = 10\n",
    "\n",
    "if len(sys.argv) != 2:\n",
    "\n",
    "    print(\"Передайте имя файла в качестве аргумента командной строки.\")\n",
    "    quit()\n",
    "try:\n",
    "    \n",
    "    inf = open(\"text.txt\", \"r\")\n",
    "    line = inf.readline()\n",
    "    count = 0\n",
    "    while count < NUM_LINES and line != \"\":\n",
    "        line = line.rstrip()\n",
    "        count = count + 1\n",
    "        print(line)\n",
    "        line = inf.readline()     \n",
    "except IOError: \n",
    "    print(\"Ошибка при доступе к файлу.\")\n",
    "    "
   ]
  },
  {
   "cell_type": "markdown",
   "id": "69e136b0",
   "metadata": {},
   "source": [
    "151\n",
    "\n",
    "Продолжаем тему операционных систем на базе Unix, в которых обычно также есть утилита с названием cat, что является сокращением от concatenate (сцепить). Эта утилита выводит на экран объединенное содержимое нескольких файлов, имена которых передаются ей в качестве аргументов командной строки. При этом файлы сцепляются в том порядке, в котором\n",
    "указаны в аргументах. Напишите программу на Python, имитирующую работу этой утилиты.\n",
    "В процессе работы программа должна выдавать сообщения о том, какие файлы открыть не удается, и переходить к следующим файлам. Если программа была запущена без аргументов командной строки, на экран должно быть выведено соответствующее сообщение об ошибке."
   ]
  },
  {
   "cell_type": "code",
   "execution_count": 8,
   "id": "ed4e9cf9",
   "metadata": {},
   "outputs": [
    {
     "name": "stdout",
     "output_type": "stream",
     "text": [
      "ena\n",
      "conf thostn Switch-4int range e0/0-1 sw tr e d\n",
      "switchport mode trunk exit\n",
      "vtp domain ikbsp.ru vtp password 12345\n",
      "vtp version 3 vtp mode client\n",
      "int e1/2  description \"PC-26\"\n",
      "switchport mode access switchport access vlan 40 int range e0/2-3, e1/0 \n",
      "switchport mode access switchport access vlan 50 exit\n",
      "int e0/0  description \"To Switch-3\"\n",
      "int e0/1 description \"To Switch-5\"\n",
      "int e0/3. description \"PC-16\"\n",
      "int e1/0 description \"PC-17\"\n",
      "\n",
      "int e1/1 description \"PC-19\" switchport mode access switchport access vlan 60 exit\n",
      "exit wr ena conf t histn Switch-5\n",
      "int e0/0 sw tr e d switchport mode trunk exit\n",
      "vtp domain ikbsp.ru vtp password 12345 vtp version 3\n",
      "vtp mode client int e0/1  switchport mode access\n",
      "switchport access vlan 40 desc \"PC-27\" int e1/1 \n",
      "\n",
      "ena\n",
      "conf thostn Switch-4int range e0/0-1 sw tr e d\n",
      "switchport mode trunk exit\n",
      "vtp domain ikbsp.ru vtp password 12345\n",
      "vtp version 3 vtp mode client\n",
      "int e1/2  description \"PC-26\"\n",
      "switchport mode access switchport access vlan 40 int range e0/2-3, e1/0 \n",
      "switchport mode access switchport access vlan 50 exit\n",
      "int e0/0  description \"To Switch-3\"\n",
      "int e0/1 description \"To Switch-5\"\n",
      "int e0/3. description \"PC-16\"\n",
      "int e1/0 description \"PC-17\"\n",
      "\n",
      "int e1/1 description \"PC-19\" switchport mode access switchport access vlan 60 exit\n",
      "exit wr ena conf t histn Switch-5\n",
      "int e0/0 sw tr e d switchport mode trunk exit\n",
      "vtp domain ikbsp.ru vtp password 12345 vtp version 3\n",
      "vtp mode client int e0/1  switchport mode access\n",
      "switchport access vlan 40 desc \"PC-27\" int e1/1 \n",
      "\n"
     ]
    }
   ],
   "source": [
    "import sys\n",
    "if len(sys.argv) == 1:\n",
    "    print(\"Нужно передать программе хотя бы один аргумент.\")\n",
    "    quit()\n",
    "\n",
    "for i in range(1, len(sys.argv)):\n",
    "    fname = sys.argv[i]\n",
    "    try:\n",
    "        inf = open(\"text.txt\", \"r\")\n",
    "        for line in inf:\n",
    "            print(line, end=\"\")\n",
    "    except:\n",
    "        print(\"Невозможно открыть файл\", fname)\n",
    "        "
   ]
  },
  {
   "cell_type": "markdown",
   "id": "1a21b459",
   "metadata": {},
   "source": [
    "153\n",
    "\n",
    "В данном упражнении вы должны написать программу, которая будет находить самое длинное слово в файле. В качестве результата программа должна выводить на экран длину самого длинного слова и все слова такой длины. Для простоты принимайте за значимые буквы любые непробельные символы, включая цифры и знаки препинания."
   ]
  },
  {
   "cell_type": "code",
   "execution_count": 27,
   "id": "6e5b14d4",
   "metadata": {},
   "outputs": [
    {
     "name": "stdout",
     "output_type": "stream",
     "text": [
      "Макс. длинна:  11\n",
      "Switch-4int\n",
      "description\n",
      "description\n",
      "description\n",
      "description\n",
      "description\n",
      "description\n"
     ]
    }
   ],
   "source": [
    "try:\n",
    "    file = open(\"text.txt\", \"r\")\n",
    "    st = file.read()\n",
    "    maxStrLen = 0\n",
    "    i = 0\n",
    "    while i != len(st):\n",
    "        if (st[i] == \"\\n\") and (len(st)-2 > i):\n",
    "            st = st[:i] + \" \" + st[i+1:]\n",
    "            continue\n",
    "        i += 1\n",
    "    masStr = st.split(\" \")\n",
    "    for i in range(0, len(masStr)):\n",
    "        if len(masStr[i]) > maxStrLen:\n",
    "            maxStrLen = len(masStr[i])\n",
    "    print(\"Макс. длина: \", maxStrLen)\n",
    "    for i in range(0, len(masStr)):\n",
    "        if len(masStr[i]) == maxStrLen:\n",
    "            print(masStr[i])\n",
    "    file.close()\n",
    "except:\n",
    "    print(\"XXX\")"
   ]
  },
  {
   "cell_type": "markdown",
   "id": "85d70507",
   "metadata": {},
   "source": [
    "155\n",
    "\n",
    "Разработайте программу, которая будет показывать слово (или слова), чаще остальных встречающееся в текстовом файле. Сначала пользователь должен ввести имя файла для обработки. После этого вы должны открыть\n",
    "файл и проанализировать его построчно, разделив при этом строки по словам и исключив из них пробелы и знаки препинания. Также при подсчете частоты появления слов в файле вам стоит игнорировать регистры."
   ]
  },
  {
   "cell_type": "code",
   "execution_count": 4,
   "id": "c7e50f53",
   "metadata": {},
   "outputs": [
    {
     "name": "stdout",
     "output_type": "stream",
     "text": [
      "int 72\n"
     ]
    }
   ],
   "source": [
    "with open (\"text.txt\", 'r') as inf:\n",
    "    s = inf.read().replace('\\n', ' ').lower().split()\n",
    "words = {}\n",
    "words[s[0]] = 1\n",
    "k = 0\n",
    "for i in range (0,len(s)-1):\n",
    "    if s[i] in words:\n",
    "        k+=1\n",
    "        words[s[i]] = k\n",
    "    else:\n",
    "        words[s[i]] = 1\n",
    "word = list(words.keys())\n",
    "word_count = list(words.values())\n",
    "max_word_count = 0\n",
    "min_word = ''\n",
    "for i in range(len(word_count)-1):\n",
    "    if  word_count[i] > max_word_count:\n",
    "        max_word_count = word_count[i]\n",
    "        min_word = word[i]\n",
    "    elif word_count[i] == max_word_count:\n",
    "        if word[i] < min_word:\n",
    "            min_word = word[i]\n",
    "print(min_word,max_word_count)"
   ]
  },
  {
   "cell_type": "markdown",
   "id": "07a788d8",
   "metadata": {},
   "source": [
    "159\n",
    "\n",
    "Создание пароля посредством генерирования случайных символов может обернуться сложностью в запоминании полученной относительно надежной последовательности. Некоторые системы создания паролей рекомендуют сцеплять вместе два слова на английском языке, тем самым упрощая запоминание заветного ряда символов – правда, в ущерб его надежности.\n",
    "Напишите программу, которая будет открывать файл со списком слов, случайным образом выбирать два из них и сцеплять вместе для получения итогового пароля. При создании пароля исходите из следующего требования: он должен состоять минимум из восьми символов и максимум издесяти, а каждое из используемых слов должно быть длиной хотя бы в три\n",
    "буквы. Кроме того, сделайте заглавными первые буквы обоих слов, чтобы легко можно было понять, где заканчивается одно и начинается другое. По завершении процесса полученный пароль должен быть отображен на экране."
   ]
  },
  {
   "cell_type": "code",
   "execution_count": 30,
   "id": "56065069",
   "metadata": {},
   "outputs": [
    {
     "name": "stdout",
     "output_type": "stream",
     "text": [
      "*голосом купидона из рапунцель* Скажи пароль: ExitE0/0\n"
     ]
    }
   ],
   "source": [
    "try:\n",
    "    #name = input(\"файл: \")\n",
    "    #file = open(name, \"r\")\n",
    "    file = open(\"text.txt\", \"r\")\n",
    "    words = []\n",
    "    fileStr = file.readlines()\n",
    "    for i in fileStr:\n",
    "        i = i.rstrip()\n",
    "        splitStr = i.split()\n",
    "        for j in splitStr:\n",
    "            if len(j) >= 3 and len(j) <= 7:\n",
    "                words.append(j)\n",
    "    file.close()\n",
    "\n",
    "    password = words[r.randrange(0, len(words))].capitalize()\n",
    "    while len(password) < 8 or len(password) > 10:\n",
    "        s = words[r.randrange(0, len(words))].capitalize()\n",
    "        password += s\n",
    "    print(\"*голосом купидона из рапунцель* Скажи пароль:\", password)\n",
    "except:\n",
    "    print(\"*голосом купидона из рапунцель* Вообще не тот, ик! \")"
   ]
  },
  {
   "cell_type": "markdown",
   "id": "14221117",
   "metadata": {},
   "source": [
    "161\n",
    "\n"
   ]
  },
  {
   "cell_type": "raw",
   "id": "82fc9232",
   "metadata": {},
   "source": [
    "Напишите программу, которая будет считывать файл, содержащий ин- формацию о химических элементах, и сохранять ее в более подходящей для этого структуре данных. После этого пользователь должен ввести зна- чение. Если введенное значение окажется целочисленным, программа должна вывести на экран обозначение и название химического элемента с введенным количеством протонов. При вводе пользователем строки не- обходимо отобразить количество протонов элемента с введенным поль- зователем обозначением или названием. Если введенное пользователем значение не соответствует ни одному из элементов в файле, необходимо вывести соответствующее сообщение об ошибке. Позвольте пользователю\n",
    "вводить значения до тех пор, пока он не оставит ввод пустым."
   ]
  },
  {
   "cell_type": "code",
   "execution_count": 38,
   "id": "c0fff922",
   "metadata": {},
   "outputs": [
    {
     "name": "stdout",
     "output_type": "stream",
     "text": [
      "файл: Mendeleev.txt\n",
      "значение: 34\n",
      "Selenium-Селен\n"
     ]
    }
   ],
   "source": [
    "try:\n",
    "     #представим что в файле есть все данные об элементах\n",
    "    name = input(\"файл: \")\n",
    "    file = open(name, \"r\")\n",
    "   \n",
    "    Mendeleev = {}\n",
    "    num = 1\n",
    "    fileStr = file.readlines()\n",
    "    for i in fileStr:\n",
    "        i = i.rstrip()\n",
    "        i = i.replace(\",\", \"\")\n",
    "        splitStr = i.split()\n",
    "        for j in splitStr:\n",
    "            Mendeleev[num] = j\n",
    "            num+=1\n",
    "    value = input(\"значение: \")\n",
    "    try:\n",
    "        intVlue = int(value)\n",
    "        print(Mendeleev[intVlue])\n",
    "    except:\n",
    "        for i in Mendeleev:\n",
    "            if Mendeleev[i] == value:\n",
    "                print(i)\n",
    "                break\n",
    "        else:\n",
    "            print(\"элемент не найден\", file)\n",
    "except:\n",
    "    print(\"файл не найден \")"
   ]
  },
  {
   "cell_type": "markdown",
   "id": "e52b86ed",
   "metadata": {},
   "source": [
    "# рекурсия"
   ]
  },
  {
   "cell_type": "code",
   "execution_count": 1,
   "id": "1a07123a",
   "metadata": {},
   "outputs": [
    {
     "name": "stdout",
     "output_type": "stream",
     "text": [
      "Введите число (пропустите ввод для завершения): 6\n",
      "Введите число (пропустите ввод для завершения): 78\n",
      "Введите число (пропустите ввод для завершения): \n",
      "Сумма введенных чисел: 84.0\n"
     ]
    }
   ],
   "source": [
    "#Упражнение 173. Сумма значений\n",
    "# Напишите программу, которая будет складывать числа, введенные пользователем. \n",
    "# Сигналом к окончанию ввода должна служить пустая строка.\n",
    "# Отобразите на экране сумму значений (или 0.0, если пользователь сразу \n",
    "# же пропустил ввод). Решите эту задачу с использованием рекурсии. \n",
    "# В вашей программе не должны присутствовать циклы.\n",
    "\n",
    "def readAndTotal():\n",
    "  line = input(\"Введите число (пропустите ввод для завершения): \")\n",
    "  if line == \"\":\n",
    "    return 0\n",
    "  else:\n",
    "    return float(line) + readAndTotal()\n",
    "def main():\n",
    "  total = readAndTotal()\n",
    "  print(\"Сумма введенных чисел:\", total)\n",
    "main() "
   ]
  },
  {
   "cell_type": "code",
   "execution_count": 2,
   "id": "60dff54d",
   "metadata": {},
   "outputs": [
    {
     "name": "stdout",
     "output_type": "stream",
     "text": [
      "Введите число для преобразования: 56\n",
      "111000"
     ]
    }
   ],
   "source": [
    "#Упражнение 175. Перевод числа из десятичного в двоичное\n",
    "# В упражнении 82 мы уже писали программу, которая посредством цикла \n",
    "# переводила значение из десятичной системы счисления в двоичную.\n",
    "# Здесь вам придется реализовать этот алгоритм при помощи рекурсии.\n",
    "# Напишите рекурсивную функцию, переводящую неотрицательное\n",
    "# целое число в двоичную систему. Воспринимайте 0 и 1 как базовые случаи\n",
    "# с возвратом соответствующего строкового значения. Для остальных\n",
    "# положительных чисел n вам необходимо вычислить следующую цифру\n",
    "# при помощи оператора взятия остатка от деления и затем осуществить\n",
    "# рекурсивный вызов с вычислением цифр для n // 2. Наконец, вам нужно\n",
    "# сцепить строковый результат рекурсивного вызова со следующей циф-\n",
    "# рой, которую заранее надо преобразовать в строку, и вернуть полученную\n",
    "# строку в качестве результата функции.\n",
    "# Напишите основную программу, которая будет использовать рекурсивную функцию\n",
    "# для преобразования неотрицательного числа, введенного\n",
    "# пользователем, из десятичной системы счисления в двоичную. Если будет\n",
    "# введено отрицательное значение, программа должна вывести соответствующее \n",
    "# сообщение об ошибке.\n",
    "\n",
    "def binary(n):\n",
    "  if n > 1:\n",
    "      binary(n//2)\n",
    "  print(n % 2,end = '')\n",
    "# Take decimal number from user\n",
    "dec = int(input(\"Введите число для преобразования: \"))\n",
    "binary(dec)"
   ]
  },
  {
   "cell_type": "code",
   "execution_count": 3,
   "id": "cabb7350",
   "metadata": {},
   "outputs": [
    {
     "name": "stdout",
     "output_type": "stream",
     "text": [
      "3\n",
      "443\n"
     ]
    }
   ],
   "source": [
    "#Упражнение 177. Римские цифры\n",
    "#Создайте рекурсивную функцию, которая будет переводить римскую\n",
    "#запись чисел в десятичную. Функция должна обрабатывать один или два\n",
    "#символа в начале строки, после чего будет производиться ее рекурсивный\n",
    "#вызов для оставшихся символов.\n",
    "class Solution(object):\n",
    "   def romanToInt(self, s):\n",
    "      \"\"\"\n",
    "      :type s: str\n",
    "      :rtype: int\n",
    "      \"\"\"\n",
    "      roman = {'I':1,'V':5,'X':10,'L':50,'C':100,'D':500,'M':1000,'IV':4,'IX':9,'XL':40,'XC':90,'CD':400,'CM':900}\n",
    "      i = 0\n",
    "      num = 0\n",
    "      while i < len(s):\n",
    "         if i+1<len(s) and s[i:i+2] in roman:\n",
    "            num+=roman[s[i:i+2]]\n",
    "            i+=2\n",
    "         else:\n",
    "            #print(i)\n",
    "            num+=roman[s[i]]\n",
    "            i+=1\n",
    "      return num\n",
    "ob1 = Solution()\n",
    "print(ob1.romanToInt(\"III\"))\n",
    "print(ob1.romanToInt(\"CDXLIII\"))"
   ]
  },
  {
   "cell_type": "code",
   "execution_count": 4,
   "id": "b39c5f66",
   "metadata": {},
   "outputs": [
    {
     "name": "stdout",
     "output_type": "stream",
     "text": [
      "I\n",
      "MMMM\n"
     ]
    }
   ],
   "source": [
    "class py_solution:\n",
    "    def int_to_Roman(self, num):\n",
    "        val = [\n",
    "            1000, 900, 500, 400,\n",
    "            100, 90, 50, 40,\n",
    "            10, 9, 5, 4,\n",
    "            1\n",
    "            ]\n",
    "        syb = [\n",
    "            \"M\", \"CM\", \"D\", \"CD\",\n",
    "            \"C\", \"XC\", \"L\", \"XL\",\n",
    "            \"X\", \"IX\", \"V\", \"IV\",\n",
    "            \"I\"\n",
    "            ]\n",
    "        roman_num = ''\n",
    "        i = 0\n",
    "        while  num > 0:\n",
    "            for _ in range(num // val[i]):\n",
    "                roman_num += syb[i]\n",
    "                num -= val[i]\n",
    "            i += 1\n",
    "        return roman_num\n",
    "print(py_solution().int_to_Roman(1))\n",
    "print(py_solution().int_to_Roman(4000))        "
   ]
  },
  {
   "cell_type": "code",
   "execution_count": 5,
   "id": "b5d79655",
   "metadata": {},
   "outputs": [
    {
     "name": "stdout",
     "output_type": "stream",
     "text": [
      "67\n",
      "89\n",
      "8.18535277187245\n"
     ]
    }
   ],
   "source": [
    "#Упражнение 179. Рекурсивный квадратный корень\n",
    "# __________Напишите функцию вычисления квадратного корня с двумя входными\n",
    "# параметрами. Первый из них – n – будет характеризовать число, из\n",
    "# которого вычисляется квадратный корень, а второй – guess – текущее \n",
    "# приближение при его вычислении. Значение параметра guess по умолчанию \n",
    "# примем за 1,0. У первого параметра значения по умолчанию быть не должно.\n",
    "# Функция вычисления корня должна быть рекурсивной. Базовый случай\n",
    "# будет возникать тогда, когда guess2 будет отличаться от n менее чем на\n",
    "# 10–12. В этом случае функция должна возвращать guess, считая, что полу\n",
    "# ченное число достаточно близко к  квадратному корню от заданного n.\n",
    "# В противном случае функция должна возвращать результат рекурсивного вы\n",
    "# зова себя самой с n в качестве первого параметра и \n",
    "# в качестве второго.\n",
    "# Напишите основную программу, в  которой будет демонстрироваться\n",
    "# работа вашей функции на примере вычисления квадратного корня из\n",
    "# нескольких чисел. При первом вызове функции в  основной программе\n",
    "# необходимо передать ей лишь один параметр, а значение второго – guess –\n",
    "# возьмется по умолчанию.\n",
    "def goodEnough(guess, x):\n",
    "    return abs((x - (guess * guess))) <= .01 \n",
    "def newGuess(guess, x):\n",
    "    return (guess + guess/x)/2\n",
    "def root(guess, x):\n",
    "    if goodEnough(guess, x):\n",
    "        return guess\n",
    "    else:\n",
    "        return root(newGuess(guess, x), x)\n",
    "def sqrt(x):\n",
    "    return root(x/2, x) \n",
    "\n",
    "    \n",
    "\n",
    "\n",
    "def sqrt(n, guess = 1):\n",
    "    if guess == 0:\n",
    "        return 0.5*(1+n)\n",
    "    x = sqrt(n, guess - 1)\n",
    "    return 0.5*(x + n/x)\n",
    "n = float(input())\n",
    "guess = int(input())\n",
    "print(sqrt(n, guess))"
   ]
  },
  {
   "cell_type": "code",
   "execution_count": 6,
   "id": "54bab087",
   "metadata": {},
   "outputs": [
    {
     "name": "stdout",
     "output_type": "stream",
     "text": [
      "BBBBAAADDCBB\n"
     ]
    }
   ],
   "source": [
    "#Упражнение 185. Декодирование на основе длин серий\n",
    "#Напишите рекурсивную функцию для декодирования списка,\n",
    "#кодированного на основе длин серий. На выходе должен \n",
    "#получиться расшифрованный список элементов. В основной программе \n",
    "#продемонстрируйте работу алгоритма декодирования на примере представленного здесь списка.\n",
    "class Solution:\n",
    "   def solve(self, s):\n",
    "      output = \"\"\n",
    "      num=\"\"\n",
    "      for i in s:\n",
    "         if i.isalpha():\n",
    "            output+=i*int(num)\n",
    "            num=\"\"\n",
    "         else:\n",
    "            num+=i\n",
    "      return output\n",
    "ob = Solution() \n",
    "print(ob.solve(\"4B3A2D1C2B\"))"
   ]
  }
 ],
 "metadata": {
  "kernelspec": {
   "display_name": "Python 3",
   "language": "python",
   "name": "python3"
  },
  "language_info": {
   "codemirror_mode": {
    "name": "ipython",
    "version": 3
   },
   "file_extension": ".py",
   "mimetype": "text/x-python",
   "name": "python",
   "nbconvert_exporter": "python",
   "pygments_lexer": "ipython3",
   "version": "3.8.8"
  }
 },
 "nbformat": 4,
 "nbformat_minor": 5
}
